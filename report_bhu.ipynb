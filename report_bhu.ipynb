{
 "cells": [
  {
   "cell_type": "code",
   "execution_count": 2,
   "metadata": {},
   "outputs": [
    {
     "name": "stdout",
     "output_type": "stream",
     "text": [
      "all modules are loaded..\n"
     ]
    }
   ],
   "source": [
    "    import pandas as pd\n",
    "    import os\n",
    "    import sys\n",
    "    import seaborn as sns\n",
    "    import numpy as np\n",
    "    import matplotlib.pyplot as plt\n",
    "    %matplotlib inline\n",
    "    print(\"all modules are loaded..\")"
   ]
  },
  {
   "cell_type": "code",
   "execution_count": 3,
   "metadata": {},
   "outputs": [],
   "source": [
    "df=pd.read_csv('mobile.csv')"
   ]
  },
  {
   "cell_type": "code",
   "execution_count": 4,
   "metadata": {},
   "outputs": [
    {
     "data": {
      "text/html": [
       "<div>\n",
       "<style scoped>\n",
       "    .dataframe tbody tr th:only-of-type {\n",
       "        vertical-align: middle;\n",
       "    }\n",
       "\n",
       "    .dataframe tbody tr th {\n",
       "        vertical-align: top;\n",
       "    }\n",
       "\n",
       "    .dataframe thead th {\n",
       "        text-align: right;\n",
       "    }\n",
       "</style>\n",
       "<table border=\"1\" class=\"dataframe\">\n",
       "  <thead>\n",
       "    <tr style=\"text-align: right;\">\n",
       "      <th></th>\n",
       "      <th>asin</th>\n",
       "      <th>brand</th>\n",
       "      <th>title</th>\n",
       "      <th>url</th>\n",
       "      <th>image</th>\n",
       "      <th>rating</th>\n",
       "      <th>reviewUrl</th>\n",
       "      <th>totalReviews</th>\n",
       "      <th>prices</th>\n",
       "    </tr>\n",
       "  </thead>\n",
       "  <tbody>\n",
       "    <tr>\n",
       "      <td>0</td>\n",
       "      <td>B0000SX2UC</td>\n",
       "      <td>Nokia</td>\n",
       "      <td>Dual-Band / Tri-Mode Sprint PCS Phone w/ Voice...</td>\n",
       "      <td>https://www.amazon.com/Dual-Band-Tri-Mode-Acti...</td>\n",
       "      <td>https://m.media-amazon.com/images/I/2143EBQ210...</td>\n",
       "      <td>3.0</td>\n",
       "      <td>https://www.amazon.com/product-reviews/B0000SX2UC</td>\n",
       "      <td>14</td>\n",
       "      <td>NaN</td>\n",
       "    </tr>\n",
       "    <tr>\n",
       "      <td>1</td>\n",
       "      <td>B0009N5L7K</td>\n",
       "      <td>Motorola</td>\n",
       "      <td>Motorola I265 phone</td>\n",
       "      <td>https://www.amazon.com/Motorola-i265-I265-phon...</td>\n",
       "      <td>https://m.media-amazon.com/images/I/419WBAVDAR...</td>\n",
       "      <td>2.9</td>\n",
       "      <td>https://www.amazon.com/product-reviews/B0009N5L7K</td>\n",
       "      <td>7</td>\n",
       "      <td>$49.95</td>\n",
       "    </tr>\n",
       "    <tr>\n",
       "      <td>2</td>\n",
       "      <td>B000SKTZ0S</td>\n",
       "      <td>Motorola</td>\n",
       "      <td>MOTOROLA C168i AT&amp;T CINGULAR PREPAID GOPHONE C...</td>\n",
       "      <td>https://www.amazon.com/MOTOROLA-C168i-CINGULAR...</td>\n",
       "      <td>https://m.media-amazon.com/images/I/71b+q3ydkI...</td>\n",
       "      <td>2.6</td>\n",
       "      <td>https://www.amazon.com/product-reviews/B000SKTZ0S</td>\n",
       "      <td>22</td>\n",
       "      <td>NaN</td>\n",
       "    </tr>\n",
       "    <tr>\n",
       "      <td>3</td>\n",
       "      <td>B00198M12M</td>\n",
       "      <td>Nokia</td>\n",
       "      <td>Nokia 6500 Slide Black/silver Unlocked Cell Phone</td>\n",
       "      <td>https://www.amazon.com/Nokia-6500-Slide-silver...</td>\n",
       "      <td>https://m.media-amazon.com/images/I/41ss4HpLkL...</td>\n",
       "      <td>2.4</td>\n",
       "      <td>https://www.amazon.com/product-reviews/B00198M12M</td>\n",
       "      <td>5</td>\n",
       "      <td>NaN</td>\n",
       "    </tr>\n",
       "    <tr>\n",
       "      <td>4</td>\n",
       "      <td>B001AO4OUC</td>\n",
       "      <td>Motorola</td>\n",
       "      <td>Motorola i335 Cell Phone Boost Mobile</td>\n",
       "      <td>https://www.amazon.com/Motorola-i335-Phone-Boo...</td>\n",
       "      <td>https://m.media-amazon.com/images/I/710UO8gdT+...</td>\n",
       "      <td>3.3</td>\n",
       "      <td>https://www.amazon.com/product-reviews/B001AO4OUC</td>\n",
       "      <td>21</td>\n",
       "      <td>NaN</td>\n",
       "    </tr>\n",
       "    <tr>\n",
       "      <td>...</td>\n",
       "      <td>...</td>\n",
       "      <td>...</td>\n",
       "      <td>...</td>\n",
       "      <td>...</td>\n",
       "      <td>...</td>\n",
       "      <td>...</td>\n",
       "      <td>...</td>\n",
       "      <td>...</td>\n",
       "      <td>...</td>\n",
       "    </tr>\n",
       "    <tr>\n",
       "      <td>787</td>\n",
       "      <td>B07WFJ6HRF</td>\n",
       "      <td>Apple</td>\n",
       "      <td>Apple iPhone XS, 512GB, Gold - For Verizon (Re...</td>\n",
       "      <td>https://www.amazon.com/Apple-iPhone-XS-512GB-G...</td>\n",
       "      <td>https://m.media-amazon.com/images/I/71kt40Gjzt...</td>\n",
       "      <td>3.7</td>\n",
       "      <td>https://www.amazon.com/product-reviews/B07WFJ6HRF</td>\n",
       "      <td>50</td>\n",
       "      <td>$999.95,$1,349.99</td>\n",
       "    </tr>\n",
       "    <tr>\n",
       "      <td>788</td>\n",
       "      <td>B07WKSVF6X</td>\n",
       "      <td>Samsung</td>\n",
       "      <td>Samsung Galaxy A50 128GB, 4GB RAM 6.4\" Display...</td>\n",
       "      <td>https://www.amazon.com/Samsung-A50-Display-Fac...</td>\n",
       "      <td>https://m.media-amazon.com/images/I/61HyCNLJ2+...</td>\n",
       "      <td>4.7</td>\n",
       "      <td>https://www.amazon.com/product-reviews/B07WKSVF6X</td>\n",
       "      <td>7</td>\n",
       "      <td>$304.99</td>\n",
       "    </tr>\n",
       "    <tr>\n",
       "      <td>789</td>\n",
       "      <td>B07WVRJQ7V</td>\n",
       "      <td>Samsung</td>\n",
       "      <td>Samsung Galaxy S9 (64GB, 4GB RAM) 5.8\" QHD+ Di...</td>\n",
       "      <td>https://www.amazon.com/Samsung-Galaxy-S9-Displ...</td>\n",
       "      <td>https://m.media-amazon.com/images/I/71EpwFTgLO...</td>\n",
       "      <td>2.0</td>\n",
       "      <td>https://www.amazon.com/product-reviews/B07WVRJQ7V</td>\n",
       "      <td>1</td>\n",
       "      <td>$519.99</td>\n",
       "    </tr>\n",
       "    <tr>\n",
       "      <td>790</td>\n",
       "      <td>B07WXKWDT2</td>\n",
       "      <td>Motorola</td>\n",
       "      <td>Motorola Moto G7 Play (32GB, 2GB RAM) 5.7\" HD+...</td>\n",
       "      <td>https://www.amazon.com/Motorola-Vision-Display...</td>\n",
       "      <td>https://m.media-amazon.com/images/I/51xgfG4A28...</td>\n",
       "      <td>3.0</td>\n",
       "      <td>https://www.amazon.com/product-reviews/B07WXKWDT2</td>\n",
       "      <td>5</td>\n",
       "      <td>$139.99</td>\n",
       "    </tr>\n",
       "    <tr>\n",
       "      <td>791</td>\n",
       "      <td>B07X51T2VK</td>\n",
       "      <td>HUAWEI</td>\n",
       "      <td>Honor 5X Unlocked Smartphone, 16GB Dark Grey (...</td>\n",
       "      <td>https://www.amazon.com/Honor-Unlocked-Smartpho...</td>\n",
       "      <td>https://m.media-amazon.com/images/I/71qG253Lcx...</td>\n",
       "      <td>4.0</td>\n",
       "      <td>https://www.amazon.com/product-reviews/B07X51T2VK</td>\n",
       "      <td>1</td>\n",
       "      <td>$74.99</td>\n",
       "    </tr>\n",
       "  </tbody>\n",
       "</table>\n",
       "<p>792 rows × 9 columns</p>\n",
       "</div>"
      ],
      "text/plain": [
       "           asin     brand                                              title  \\\n",
       "0    B0000SX2UC     Nokia  Dual-Band / Tri-Mode Sprint PCS Phone w/ Voice...   \n",
       "1    B0009N5L7K  Motorola                                Motorola I265 phone   \n",
       "2    B000SKTZ0S  Motorola  MOTOROLA C168i AT&T CINGULAR PREPAID GOPHONE C...   \n",
       "3    B00198M12M     Nokia  Nokia 6500 Slide Black/silver Unlocked Cell Phone   \n",
       "4    B001AO4OUC  Motorola              Motorola i335 Cell Phone Boost Mobile   \n",
       "..          ...       ...                                                ...   \n",
       "787  B07WFJ6HRF     Apple  Apple iPhone XS, 512GB, Gold - For Verizon (Re...   \n",
       "788  B07WKSVF6X   Samsung  Samsung Galaxy A50 128GB, 4GB RAM 6.4\" Display...   \n",
       "789  B07WVRJQ7V   Samsung  Samsung Galaxy S9 (64GB, 4GB RAM) 5.8\" QHD+ Di...   \n",
       "790  B07WXKWDT2  Motorola  Motorola Moto G7 Play (32GB, 2GB RAM) 5.7\" HD+...   \n",
       "791  B07X51T2VK    HUAWEI  Honor 5X Unlocked Smartphone, 16GB Dark Grey (...   \n",
       "\n",
       "                                                   url  \\\n",
       "0    https://www.amazon.com/Dual-Band-Tri-Mode-Acti...   \n",
       "1    https://www.amazon.com/Motorola-i265-I265-phon...   \n",
       "2    https://www.amazon.com/MOTOROLA-C168i-CINGULAR...   \n",
       "3    https://www.amazon.com/Nokia-6500-Slide-silver...   \n",
       "4    https://www.amazon.com/Motorola-i335-Phone-Boo...   \n",
       "..                                                 ...   \n",
       "787  https://www.amazon.com/Apple-iPhone-XS-512GB-G...   \n",
       "788  https://www.amazon.com/Samsung-A50-Display-Fac...   \n",
       "789  https://www.amazon.com/Samsung-Galaxy-S9-Displ...   \n",
       "790  https://www.amazon.com/Motorola-Vision-Display...   \n",
       "791  https://www.amazon.com/Honor-Unlocked-Smartpho...   \n",
       "\n",
       "                                                 image  rating  \\\n",
       "0    https://m.media-amazon.com/images/I/2143EBQ210...     3.0   \n",
       "1    https://m.media-amazon.com/images/I/419WBAVDAR...     2.9   \n",
       "2    https://m.media-amazon.com/images/I/71b+q3ydkI...     2.6   \n",
       "3    https://m.media-amazon.com/images/I/41ss4HpLkL...     2.4   \n",
       "4    https://m.media-amazon.com/images/I/710UO8gdT+...     3.3   \n",
       "..                                                 ...     ...   \n",
       "787  https://m.media-amazon.com/images/I/71kt40Gjzt...     3.7   \n",
       "788  https://m.media-amazon.com/images/I/61HyCNLJ2+...     4.7   \n",
       "789  https://m.media-amazon.com/images/I/71EpwFTgLO...     2.0   \n",
       "790  https://m.media-amazon.com/images/I/51xgfG4A28...     3.0   \n",
       "791  https://m.media-amazon.com/images/I/71qG253Lcx...     4.0   \n",
       "\n",
       "                                             reviewUrl  totalReviews  \\\n",
       "0    https://www.amazon.com/product-reviews/B0000SX2UC            14   \n",
       "1    https://www.amazon.com/product-reviews/B0009N5L7K             7   \n",
       "2    https://www.amazon.com/product-reviews/B000SKTZ0S            22   \n",
       "3    https://www.amazon.com/product-reviews/B00198M12M             5   \n",
       "4    https://www.amazon.com/product-reviews/B001AO4OUC            21   \n",
       "..                                                 ...           ...   \n",
       "787  https://www.amazon.com/product-reviews/B07WFJ6HRF            50   \n",
       "788  https://www.amazon.com/product-reviews/B07WKSVF6X             7   \n",
       "789  https://www.amazon.com/product-reviews/B07WVRJQ7V             1   \n",
       "790  https://www.amazon.com/product-reviews/B07WXKWDT2             5   \n",
       "791  https://www.amazon.com/product-reviews/B07X51T2VK             1   \n",
       "\n",
       "                prices  \n",
       "0                  NaN  \n",
       "1               $49.95  \n",
       "2                  NaN  \n",
       "3                  NaN  \n",
       "4                  NaN  \n",
       "..                 ...  \n",
       "787  $999.95,$1,349.99  \n",
       "788            $304.99  \n",
       "789            $519.99  \n",
       "790            $139.99  \n",
       "791             $74.99  \n",
       "\n",
       "[792 rows x 9 columns]"
      ]
     },
     "execution_count": 4,
     "metadata": {},
     "output_type": "execute_result"
    }
   ],
   "source": [
    "df"
   ]
  },
  {
   "cell_type": "code",
   "execution_count": 4,
   "metadata": {},
   "outputs": [
    {
     "data": {
      "text/html": [
       "<div>\n",
       "<style scoped>\n",
       "    .dataframe tbody tr th:only-of-type {\n",
       "        vertical-align: middle;\n",
       "    }\n",
       "\n",
       "    .dataframe tbody tr th {\n",
       "        vertical-align: top;\n",
       "    }\n",
       "\n",
       "    .dataframe thead th {\n",
       "        text-align: right;\n",
       "    }\n",
       "</style>\n",
       "<table border=\"1\" class=\"dataframe\">\n",
       "  <thead>\n",
       "    <tr style=\"text-align: right;\">\n",
       "      <th></th>\n",
       "      <th>asin</th>\n",
       "      <th>brand</th>\n",
       "      <th>title</th>\n",
       "      <th>url</th>\n",
       "      <th>image</th>\n",
       "      <th>rating</th>\n",
       "      <th>reviewUrl</th>\n",
       "      <th>totalReviews</th>\n",
       "      <th>prices</th>\n",
       "    </tr>\n",
       "  </thead>\n",
       "  <tbody>\n",
       "    <tr>\n",
       "      <td>0</td>\n",
       "      <td>B0000SX2UC</td>\n",
       "      <td>Nokia</td>\n",
       "      <td>Dual-Band / Tri-Mode Sprint PCS Phone w/ Voice...</td>\n",
       "      <td>https://www.amazon.com/Dual-Band-Tri-Mode-Acti...</td>\n",
       "      <td>https://m.media-amazon.com/images/I/2143EBQ210...</td>\n",
       "      <td>3.0</td>\n",
       "      <td>https://www.amazon.com/product-reviews/B0000SX2UC</td>\n",
       "      <td>14</td>\n",
       "      <td>NaN</td>\n",
       "    </tr>\n",
       "    <tr>\n",
       "      <td>1</td>\n",
       "      <td>B0009N5L7K</td>\n",
       "      <td>Motorola</td>\n",
       "      <td>Motorola I265 phone</td>\n",
       "      <td>https://www.amazon.com/Motorola-i265-I265-phon...</td>\n",
       "      <td>https://m.media-amazon.com/images/I/419WBAVDAR...</td>\n",
       "      <td>2.9</td>\n",
       "      <td>https://www.amazon.com/product-reviews/B0009N5L7K</td>\n",
       "      <td>7</td>\n",
       "      <td>$49.95</td>\n",
       "    </tr>\n",
       "    <tr>\n",
       "      <td>2</td>\n",
       "      <td>B000SKTZ0S</td>\n",
       "      <td>Motorola</td>\n",
       "      <td>MOTOROLA C168i AT&amp;T CINGULAR PREPAID GOPHONE C...</td>\n",
       "      <td>https://www.amazon.com/MOTOROLA-C168i-CINGULAR...</td>\n",
       "      <td>https://m.media-amazon.com/images/I/71b+q3ydkI...</td>\n",
       "      <td>2.6</td>\n",
       "      <td>https://www.amazon.com/product-reviews/B000SKTZ0S</td>\n",
       "      <td>22</td>\n",
       "      <td>NaN</td>\n",
       "    </tr>\n",
       "    <tr>\n",
       "      <td>3</td>\n",
       "      <td>B00198M12M</td>\n",
       "      <td>Nokia</td>\n",
       "      <td>Nokia 6500 Slide Black/silver Unlocked Cell Phone</td>\n",
       "      <td>https://www.amazon.com/Nokia-6500-Slide-silver...</td>\n",
       "      <td>https://m.media-amazon.com/images/I/41ss4HpLkL...</td>\n",
       "      <td>2.4</td>\n",
       "      <td>https://www.amazon.com/product-reviews/B00198M12M</td>\n",
       "      <td>5</td>\n",
       "      <td>NaN</td>\n",
       "    </tr>\n",
       "    <tr>\n",
       "      <td>4</td>\n",
       "      <td>B001AO4OUC</td>\n",
       "      <td>Motorola</td>\n",
       "      <td>Motorola i335 Cell Phone Boost Mobile</td>\n",
       "      <td>https://www.amazon.com/Motorola-i335-Phone-Boo...</td>\n",
       "      <td>https://m.media-amazon.com/images/I/710UO8gdT+...</td>\n",
       "      <td>3.3</td>\n",
       "      <td>https://www.amazon.com/product-reviews/B001AO4OUC</td>\n",
       "      <td>21</td>\n",
       "      <td>NaN</td>\n",
       "    </tr>\n",
       "  </tbody>\n",
       "</table>\n",
       "</div>"
      ],
      "text/plain": [
       "         asin     brand                                              title  \\\n",
       "0  B0000SX2UC     Nokia  Dual-Band / Tri-Mode Sprint PCS Phone w/ Voice...   \n",
       "1  B0009N5L7K  Motorola                                Motorola I265 phone   \n",
       "2  B000SKTZ0S  Motorola  MOTOROLA C168i AT&T CINGULAR PREPAID GOPHONE C...   \n",
       "3  B00198M12M     Nokia  Nokia 6500 Slide Black/silver Unlocked Cell Phone   \n",
       "4  B001AO4OUC  Motorola              Motorola i335 Cell Phone Boost Mobile   \n",
       "\n",
       "                                                 url  \\\n",
       "0  https://www.amazon.com/Dual-Band-Tri-Mode-Acti...   \n",
       "1  https://www.amazon.com/Motorola-i265-I265-phon...   \n",
       "2  https://www.amazon.com/MOTOROLA-C168i-CINGULAR...   \n",
       "3  https://www.amazon.com/Nokia-6500-Slide-silver...   \n",
       "4  https://www.amazon.com/Motorola-i335-Phone-Boo...   \n",
       "\n",
       "                                               image  rating  \\\n",
       "0  https://m.media-amazon.com/images/I/2143EBQ210...     3.0   \n",
       "1  https://m.media-amazon.com/images/I/419WBAVDAR...     2.9   \n",
       "2  https://m.media-amazon.com/images/I/71b+q3ydkI...     2.6   \n",
       "3  https://m.media-amazon.com/images/I/41ss4HpLkL...     2.4   \n",
       "4  https://m.media-amazon.com/images/I/710UO8gdT+...     3.3   \n",
       "\n",
       "                                           reviewUrl  totalReviews  prices  \n",
       "0  https://www.amazon.com/product-reviews/B0000SX2UC            14     NaN  \n",
       "1  https://www.amazon.com/product-reviews/B0009N5L7K             7  $49.95  \n",
       "2  https://www.amazon.com/product-reviews/B000SKTZ0S            22     NaN  \n",
       "3  https://www.amazon.com/product-reviews/B00198M12M             5     NaN  \n",
       "4  https://www.amazon.com/product-reviews/B001AO4OUC            21     NaN  "
      ]
     },
     "execution_count": 4,
     "metadata": {},
     "output_type": "execute_result"
    }
   ],
   "source": [
    "df.head()"
   ]
  },
  {
   "cell_type": "code",
   "execution_count": null,
   "metadata": {},
   "outputs": [],
   "source": []
  },
  {
   "cell_type": "code",
   "execution_count": 5,
   "metadata": {},
   "outputs": [
    {
     "data": {
      "text/html": [
       "<div>\n",
       "<style scoped>\n",
       "    .dataframe tbody tr th:only-of-type {\n",
       "        vertical-align: middle;\n",
       "    }\n",
       "\n",
       "    .dataframe tbody tr th {\n",
       "        vertical-align: top;\n",
       "    }\n",
       "\n",
       "    .dataframe thead th {\n",
       "        text-align: right;\n",
       "    }\n",
       "</style>\n",
       "<table border=\"1\" class=\"dataframe\">\n",
       "  <thead>\n",
       "    <tr style=\"text-align: right;\">\n",
       "      <th></th>\n",
       "      <th>asin</th>\n",
       "      <th>brand</th>\n",
       "      <th>title</th>\n",
       "      <th>url</th>\n",
       "      <th>image</th>\n",
       "      <th>rating</th>\n",
       "      <th>reviewUrl</th>\n",
       "      <th>totalReviews</th>\n",
       "      <th>prices</th>\n",
       "    </tr>\n",
       "  </thead>\n",
       "  <tbody>\n",
       "    <tr>\n",
       "      <td>787</td>\n",
       "      <td>B07WFJ6HRF</td>\n",
       "      <td>Apple</td>\n",
       "      <td>Apple iPhone XS, 512GB, Gold - For Verizon (Re...</td>\n",
       "      <td>https://www.amazon.com/Apple-iPhone-XS-512GB-G...</td>\n",
       "      <td>https://m.media-amazon.com/images/I/71kt40Gjzt...</td>\n",
       "      <td>3.7</td>\n",
       "      <td>https://www.amazon.com/product-reviews/B07WFJ6HRF</td>\n",
       "      <td>50</td>\n",
       "      <td>$999.95,$1,349.99</td>\n",
       "    </tr>\n",
       "    <tr>\n",
       "      <td>788</td>\n",
       "      <td>B07WKSVF6X</td>\n",
       "      <td>Samsung</td>\n",
       "      <td>Samsung Galaxy A50 128GB, 4GB RAM 6.4\" Display...</td>\n",
       "      <td>https://www.amazon.com/Samsung-A50-Display-Fac...</td>\n",
       "      <td>https://m.media-amazon.com/images/I/61HyCNLJ2+...</td>\n",
       "      <td>4.7</td>\n",
       "      <td>https://www.amazon.com/product-reviews/B07WKSVF6X</td>\n",
       "      <td>7</td>\n",
       "      <td>$304.99</td>\n",
       "    </tr>\n",
       "    <tr>\n",
       "      <td>789</td>\n",
       "      <td>B07WVRJQ7V</td>\n",
       "      <td>Samsung</td>\n",
       "      <td>Samsung Galaxy S9 (64GB, 4GB RAM) 5.8\" QHD+ Di...</td>\n",
       "      <td>https://www.amazon.com/Samsung-Galaxy-S9-Displ...</td>\n",
       "      <td>https://m.media-amazon.com/images/I/71EpwFTgLO...</td>\n",
       "      <td>2.0</td>\n",
       "      <td>https://www.amazon.com/product-reviews/B07WVRJQ7V</td>\n",
       "      <td>1</td>\n",
       "      <td>$519.99</td>\n",
       "    </tr>\n",
       "    <tr>\n",
       "      <td>790</td>\n",
       "      <td>B07WXKWDT2</td>\n",
       "      <td>Motorola</td>\n",
       "      <td>Motorola Moto G7 Play (32GB, 2GB RAM) 5.7\" HD+...</td>\n",
       "      <td>https://www.amazon.com/Motorola-Vision-Display...</td>\n",
       "      <td>https://m.media-amazon.com/images/I/51xgfG4A28...</td>\n",
       "      <td>3.0</td>\n",
       "      <td>https://www.amazon.com/product-reviews/B07WXKWDT2</td>\n",
       "      <td>5</td>\n",
       "      <td>$139.99</td>\n",
       "    </tr>\n",
       "    <tr>\n",
       "      <td>791</td>\n",
       "      <td>B07X51T2VK</td>\n",
       "      <td>HUAWEI</td>\n",
       "      <td>Honor 5X Unlocked Smartphone, 16GB Dark Grey (...</td>\n",
       "      <td>https://www.amazon.com/Honor-Unlocked-Smartpho...</td>\n",
       "      <td>https://m.media-amazon.com/images/I/71qG253Lcx...</td>\n",
       "      <td>4.0</td>\n",
       "      <td>https://www.amazon.com/product-reviews/B07X51T2VK</td>\n",
       "      <td>1</td>\n",
       "      <td>$74.99</td>\n",
       "    </tr>\n",
       "  </tbody>\n",
       "</table>\n",
       "</div>"
      ],
      "text/plain": [
       "           asin     brand                                              title  \\\n",
       "787  B07WFJ6HRF     Apple  Apple iPhone XS, 512GB, Gold - For Verizon (Re...   \n",
       "788  B07WKSVF6X   Samsung  Samsung Galaxy A50 128GB, 4GB RAM 6.4\" Display...   \n",
       "789  B07WVRJQ7V   Samsung  Samsung Galaxy S9 (64GB, 4GB RAM) 5.8\" QHD+ Di...   \n",
       "790  B07WXKWDT2  Motorola  Motorola Moto G7 Play (32GB, 2GB RAM) 5.7\" HD+...   \n",
       "791  B07X51T2VK    HUAWEI  Honor 5X Unlocked Smartphone, 16GB Dark Grey (...   \n",
       "\n",
       "                                                   url  \\\n",
       "787  https://www.amazon.com/Apple-iPhone-XS-512GB-G...   \n",
       "788  https://www.amazon.com/Samsung-A50-Display-Fac...   \n",
       "789  https://www.amazon.com/Samsung-Galaxy-S9-Displ...   \n",
       "790  https://www.amazon.com/Motorola-Vision-Display...   \n",
       "791  https://www.amazon.com/Honor-Unlocked-Smartpho...   \n",
       "\n",
       "                                                 image  rating  \\\n",
       "787  https://m.media-amazon.com/images/I/71kt40Gjzt...     3.7   \n",
       "788  https://m.media-amazon.com/images/I/61HyCNLJ2+...     4.7   \n",
       "789  https://m.media-amazon.com/images/I/71EpwFTgLO...     2.0   \n",
       "790  https://m.media-amazon.com/images/I/51xgfG4A28...     3.0   \n",
       "791  https://m.media-amazon.com/images/I/71qG253Lcx...     4.0   \n",
       "\n",
       "                                             reviewUrl  totalReviews  \\\n",
       "787  https://www.amazon.com/product-reviews/B07WFJ6HRF            50   \n",
       "788  https://www.amazon.com/product-reviews/B07WKSVF6X             7   \n",
       "789  https://www.amazon.com/product-reviews/B07WVRJQ7V             1   \n",
       "790  https://www.amazon.com/product-reviews/B07WXKWDT2             5   \n",
       "791  https://www.amazon.com/product-reviews/B07X51T2VK             1   \n",
       "\n",
       "                prices  \n",
       "787  $999.95,$1,349.99  \n",
       "788            $304.99  \n",
       "789            $519.99  \n",
       "790            $139.99  \n",
       "791             $74.99  "
      ]
     },
     "execution_count": 5,
     "metadata": {},
     "output_type": "execute_result"
    }
   ],
   "source": [
    "df.tail()"
   ]
  },
  {
   "cell_type": "code",
   "execution_count": 6,
   "metadata": {},
   "outputs": [
    {
     "name": "stdout",
     "output_type": "stream",
     "text": [
      "<class 'pandas.core.frame.DataFrame'>\n",
      "RangeIndex: 792 entries, 0 to 791\n",
      "Data columns (total 9 columns):\n",
      "asin            792 non-null object\n",
      "brand           792 non-null object\n",
      "title           792 non-null object\n",
      "url             792 non-null object\n",
      "image           792 non-null object\n",
      "rating          792 non-null float64\n",
      "reviewUrl       792 non-null object\n",
      "totalReviews    792 non-null int64\n",
      "prices          577 non-null object\n",
      "dtypes: float64(1), int64(1), object(7)\n",
      "memory usage: 55.8+ KB\n"
     ]
    }
   ],
   "source": [
    "df.info()"
   ]
  },
  {
   "cell_type": "code",
   "execution_count": 8,
   "metadata": {},
   "outputs": [
    {
     "data": {
      "text/html": [
       "<div>\n",
       "<style scoped>\n",
       "    .dataframe tbody tr th:only-of-type {\n",
       "        vertical-align: middle;\n",
       "    }\n",
       "\n",
       "    .dataframe tbody tr th {\n",
       "        vertical-align: top;\n",
       "    }\n",
       "\n",
       "    .dataframe thead th {\n",
       "        text-align: right;\n",
       "    }\n",
       "</style>\n",
       "<table border=\"1\" class=\"dataframe\">\n",
       "  <thead>\n",
       "    <tr style=\"text-align: right;\">\n",
       "      <th></th>\n",
       "      <th>rating</th>\n",
       "      <th>totalReviews</th>\n",
       "    </tr>\n",
       "  </thead>\n",
       "  <tbody>\n",
       "    <tr>\n",
       "      <td>count</td>\n",
       "      <td>792.000000</td>\n",
       "      <td>792.000000</td>\n",
       "    </tr>\n",
       "    <tr>\n",
       "      <td>mean</td>\n",
       "      <td>3.607576</td>\n",
       "      <td>104.231061</td>\n",
       "    </tr>\n",
       "    <tr>\n",
       "      <td>std</td>\n",
       "      <td>0.668730</td>\n",
       "      <td>166.242503</td>\n",
       "    </tr>\n",
       "    <tr>\n",
       "      <td>min</td>\n",
       "      <td>1.000000</td>\n",
       "      <td>1.000000</td>\n",
       "    </tr>\n",
       "    <tr>\n",
       "      <td>25%</td>\n",
       "      <td>3.200000</td>\n",
       "      <td>7.000000</td>\n",
       "    </tr>\n",
       "    <tr>\n",
       "      <td>50%</td>\n",
       "      <td>3.700000</td>\n",
       "      <td>31.500000</td>\n",
       "    </tr>\n",
       "    <tr>\n",
       "      <td>75%</td>\n",
       "      <td>4.000000</td>\n",
       "      <td>122.250000</td>\n",
       "    </tr>\n",
       "    <tr>\n",
       "      <td>max</td>\n",
       "      <td>5.000000</td>\n",
       "      <td>984.000000</td>\n",
       "    </tr>\n",
       "  </tbody>\n",
       "</table>\n",
       "</div>"
      ],
      "text/plain": [
       "           rating  totalReviews\n",
       "count  792.000000    792.000000\n",
       "mean     3.607576    104.231061\n",
       "std      0.668730    166.242503\n",
       "min      1.000000      1.000000\n",
       "25%      3.200000      7.000000\n",
       "50%      3.700000     31.500000\n",
       "75%      4.000000    122.250000\n",
       "max      5.000000    984.000000"
      ]
     },
     "execution_count": 8,
     "metadata": {},
     "output_type": "execute_result"
    }
   ],
   "source": [
    "df.describe()"
   ]
  },
  {
   "cell_type": "code",
   "execution_count": 9,
   "metadata": {},
   "outputs": [
    {
     "data": {
      "text/html": [
       "<div>\n",
       "<style scoped>\n",
       "    .dataframe tbody tr th:only-of-type {\n",
       "        vertical-align: middle;\n",
       "    }\n",
       "\n",
       "    .dataframe tbody tr th {\n",
       "        vertical-align: top;\n",
       "    }\n",
       "\n",
       "    .dataframe thead th {\n",
       "        text-align: right;\n",
       "    }\n",
       "</style>\n",
       "<table border=\"1\" class=\"dataframe\">\n",
       "  <thead>\n",
       "    <tr style=\"text-align: right;\">\n",
       "      <th></th>\n",
       "      <th>asin</th>\n",
       "      <th>brand</th>\n",
       "      <th>title</th>\n",
       "      <th>url</th>\n",
       "      <th>image</th>\n",
       "      <th>rating</th>\n",
       "      <th>reviewUrl</th>\n",
       "      <th>totalReviews</th>\n",
       "      <th>prices</th>\n",
       "    </tr>\n",
       "  </thead>\n",
       "  <tbody>\n",
       "    <tr>\n",
       "      <td>0</td>\n",
       "      <td>False</td>\n",
       "      <td>False</td>\n",
       "      <td>False</td>\n",
       "      <td>False</td>\n",
       "      <td>False</td>\n",
       "      <td>False</td>\n",
       "      <td>False</td>\n",
       "      <td>False</td>\n",
       "      <td>True</td>\n",
       "    </tr>\n",
       "    <tr>\n",
       "      <td>1</td>\n",
       "      <td>False</td>\n",
       "      <td>False</td>\n",
       "      <td>False</td>\n",
       "      <td>False</td>\n",
       "      <td>False</td>\n",
       "      <td>False</td>\n",
       "      <td>False</td>\n",
       "      <td>False</td>\n",
       "      <td>False</td>\n",
       "    </tr>\n",
       "    <tr>\n",
       "      <td>2</td>\n",
       "      <td>False</td>\n",
       "      <td>False</td>\n",
       "      <td>False</td>\n",
       "      <td>False</td>\n",
       "      <td>False</td>\n",
       "      <td>False</td>\n",
       "      <td>False</td>\n",
       "      <td>False</td>\n",
       "      <td>True</td>\n",
       "    </tr>\n",
       "    <tr>\n",
       "      <td>3</td>\n",
       "      <td>False</td>\n",
       "      <td>False</td>\n",
       "      <td>False</td>\n",
       "      <td>False</td>\n",
       "      <td>False</td>\n",
       "      <td>False</td>\n",
       "      <td>False</td>\n",
       "      <td>False</td>\n",
       "      <td>True</td>\n",
       "    </tr>\n",
       "    <tr>\n",
       "      <td>4</td>\n",
       "      <td>False</td>\n",
       "      <td>False</td>\n",
       "      <td>False</td>\n",
       "      <td>False</td>\n",
       "      <td>False</td>\n",
       "      <td>False</td>\n",
       "      <td>False</td>\n",
       "      <td>False</td>\n",
       "      <td>True</td>\n",
       "    </tr>\n",
       "    <tr>\n",
       "      <td>...</td>\n",
       "      <td>...</td>\n",
       "      <td>...</td>\n",
       "      <td>...</td>\n",
       "      <td>...</td>\n",
       "      <td>...</td>\n",
       "      <td>...</td>\n",
       "      <td>...</td>\n",
       "      <td>...</td>\n",
       "      <td>...</td>\n",
       "    </tr>\n",
       "    <tr>\n",
       "      <td>787</td>\n",
       "      <td>False</td>\n",
       "      <td>False</td>\n",
       "      <td>False</td>\n",
       "      <td>False</td>\n",
       "      <td>False</td>\n",
       "      <td>False</td>\n",
       "      <td>False</td>\n",
       "      <td>False</td>\n",
       "      <td>False</td>\n",
       "    </tr>\n",
       "    <tr>\n",
       "      <td>788</td>\n",
       "      <td>False</td>\n",
       "      <td>False</td>\n",
       "      <td>False</td>\n",
       "      <td>False</td>\n",
       "      <td>False</td>\n",
       "      <td>False</td>\n",
       "      <td>False</td>\n",
       "      <td>False</td>\n",
       "      <td>False</td>\n",
       "    </tr>\n",
       "    <tr>\n",
       "      <td>789</td>\n",
       "      <td>False</td>\n",
       "      <td>False</td>\n",
       "      <td>False</td>\n",
       "      <td>False</td>\n",
       "      <td>False</td>\n",
       "      <td>False</td>\n",
       "      <td>False</td>\n",
       "      <td>False</td>\n",
       "      <td>False</td>\n",
       "    </tr>\n",
       "    <tr>\n",
       "      <td>790</td>\n",
       "      <td>False</td>\n",
       "      <td>False</td>\n",
       "      <td>False</td>\n",
       "      <td>False</td>\n",
       "      <td>False</td>\n",
       "      <td>False</td>\n",
       "      <td>False</td>\n",
       "      <td>False</td>\n",
       "      <td>False</td>\n",
       "    </tr>\n",
       "    <tr>\n",
       "      <td>791</td>\n",
       "      <td>False</td>\n",
       "      <td>False</td>\n",
       "      <td>False</td>\n",
       "      <td>False</td>\n",
       "      <td>False</td>\n",
       "      <td>False</td>\n",
       "      <td>False</td>\n",
       "      <td>False</td>\n",
       "      <td>False</td>\n",
       "    </tr>\n",
       "  </tbody>\n",
       "</table>\n",
       "<p>792 rows × 9 columns</p>\n",
       "</div>"
      ],
      "text/plain": [
       "      asin  brand  title    url  image  rating  reviewUrl  totalReviews  \\\n",
       "0    False  False  False  False  False   False      False         False   \n",
       "1    False  False  False  False  False   False      False         False   \n",
       "2    False  False  False  False  False   False      False         False   \n",
       "3    False  False  False  False  False   False      False         False   \n",
       "4    False  False  False  False  False   False      False         False   \n",
       "..     ...    ...    ...    ...    ...     ...        ...           ...   \n",
       "787  False  False  False  False  False   False      False         False   \n",
       "788  False  False  False  False  False   False      False         False   \n",
       "789  False  False  False  False  False   False      False         False   \n",
       "790  False  False  False  False  False   False      False         False   \n",
       "791  False  False  False  False  False   False      False         False   \n",
       "\n",
       "     prices  \n",
       "0      True  \n",
       "1     False  \n",
       "2      True  \n",
       "3      True  \n",
       "4      True  \n",
       "..      ...  \n",
       "787   False  \n",
       "788   False  \n",
       "789   False  \n",
       "790   False  \n",
       "791   False  \n",
       "\n",
       "[792 rows x 9 columns]"
      ]
     },
     "execution_count": 9,
     "metadata": {},
     "output_type": "execute_result"
    }
   ],
   "source": [
    "df.isnull()"
   ]
  },
  {
   "cell_type": "code",
   "execution_count": 10,
   "metadata": {},
   "outputs": [
    {
     "data": {
      "text/plain": [
       "asin              0\n",
       "brand             0\n",
       "title             0\n",
       "url               0\n",
       "image             0\n",
       "rating            0\n",
       "reviewUrl         0\n",
       "totalReviews      0\n",
       "prices          215\n",
       "dtype: int64"
      ]
     },
     "execution_count": 10,
     "metadata": {},
     "output_type": "execute_result"
    }
   ],
   "source": [
    "df.isnull().sum()"
   ]
  },
  {
   "cell_type": "code",
   "execution_count": 11,
   "metadata": {},
   "outputs": [
    {
     "data": {
      "text/plain": [
       "asin            792\n",
       "brand           792\n",
       "title           792\n",
       "url             792\n",
       "image           792\n",
       "rating          792\n",
       "reviewUrl       792\n",
       "totalReviews    792\n",
       "prices          792\n",
       "dtype: int64"
      ]
     },
     "execution_count": 11,
     "metadata": {},
     "output_type": "execute_result"
    }
   ],
   "source": [
    "df.isna().count()"
   ]
  },
  {
   "cell_type": "code",
   "execution_count": 12,
   "metadata": {},
   "outputs": [
    {
     "data": {
      "text/plain": [
       "<matplotlib.axes._subplots.AxesSubplot at 0x26ba4737508>"
      ]
     },
     "execution_count": 12,
     "metadata": {},
     "output_type": "execute_result"
    },
    {
     "data": {
      "image/png": "[encoded data removed]",
      "text/plain": [
       "<Figure size 432x288 with 1 Axes>"
      ]
     },
     "metadata": {
      "needs_background": "light"
     },
     "output_type": "display_data"
    }
   ],
   "source": [
    "sns.heatmap(df.isnull(), yticklabels=False, cbar=False, cmap='viridis')"
   ]
  },
  {
   "cell_type": "code",
   "execution_count": null,
   "metadata": {},
   "outputs": [],
   "source": []
  },
  {
   "cell_type": "code",
   "execution_count": 13,
   "metadata": {},
   "outputs": [
    {
     "data": {
      "text/plain": [
       "<matplotlib.axes._subplots.AxesSubplot at 0x26ba4b3a9c8>"
      ]
     },
     "execution_count": 13,
     "metadata": {},
     "output_type": "execute_result"
    },
    {
     "data": {
      "image/png": "[encoded data removed]",
      "text/plain": [
       "<Figure size 432x288 with 2 Axes>"
      ]
     },
     "metadata": {
      "needs_background": "light"
     },
     "output_type": "display_data"
    }
   ],
   "source": [
    "sns.heatmap(df.corr())"
   ]
  },
  {
   "cell_type": "code",
   "execution_count": 14,
   "metadata": {},
   "outputs": [
    {
     "data": {
      "text/plain": [
       "<seaborn.axisgrid.PairGrid at 0x26ba4bd4588>"
      ]
     },
     "execution_count": 14,
     "metadata": {},
     "output_type": "execute_result"
    },
    {
     "data": {
      "image/png": "[encoded data removed]",
      "text/plain": [
       "<Figure size 360x360 with 6 Axes>"
      ]
     },
     "metadata": {
      "needs_background": "light"
     },
     "output_type": "display_data"
    }
   ],
   "source": [
    "sns.pairplot(df)"
   ]
  },
  {
   "cell_type": "code",
   "execution_count": null,
   "metadata": {},
   "outputs": [],
   "source": []
  },
  {
   "cell_type": "code",
   "execution_count": 54,
   "metadata": {},
   "outputs": [],
   "source": [
    "def impute_median(series):\n",
    "    return series.fillna(series.medians())\n"
   ]
  },
  {
   "cell_type": "code",
   "execution_count": 17,
   "metadata": {},
   "outputs": [
    {
     "data": {
      "text/plain": [
       "asin              0\n",
       "brand             0\n",
       "title             0\n",
       "url               0\n",
       "image             0\n",
       "rating            0\n",
       "reviewUrl         0\n",
       "totalReviews      0\n",
       "prices          215\n",
       "dtype: int64"
      ]
     },
     "execution_count": 17,
     "metadata": {},
     "output_type": "execute_result"
    }
   ],
   "source": [
    "df.isnull().sum()"
   ]
  },
  {
   "cell_type": "code",
   "execution_count": 18,
   "metadata": {},
   "outputs": [
    {
     "data": {
      "text/plain": [
       "0                    NaN\n",
       "1                 $49.95\n",
       "2                    NaN\n",
       "3                    NaN\n",
       "4                    NaN\n",
       "             ...        \n",
       "787    $999.95,$1,349.99\n",
       "788              $304.99\n",
       "789              $519.99\n",
       "790              $139.99\n",
       "791               $74.99\n",
       "Name: prices, Length: 792, dtype: object"
      ]
     },
     "execution_count": 18,
     "metadata": {},
     "output_type": "execute_result"
    }
   ],
   "source": [
    "df.prices"
   ]
  },
  {
   "cell_type": "code",
   "execution_count": 19,
   "metadata": {},
   "outputs": [
    {
     "data": {
      "text/plain": [
       "<matplotlib.axes._subplots.AxesSubplot at 0x26ba4e97788>"
      ]
     },
     "execution_count": 19,
     "metadata": {},
     "output_type": "execute_result"
    },
    {
     "data": {
      "image/png": "[encoded data removed]",
      "text/plain": [
       "<Figure size 432x288 with 1 Axes>"
      ]
     },
     "metadata": {
      "needs_background": "light"
     },
     "output_type": "display_data"
    }
   ],
   "source": [
    "df.boxplot(\"totalReviews\")"
   ]
  },
  {
   "cell_type": "code",
   "execution_count": 20,
   "metadata": {},
   "outputs": [
    {
     "data": {
      "text/plain": [
       "<matplotlib.axes._subplots.AxesSubplot at 0x26ba4ee4288>"
      ]
     },
     "execution_count": 20,
     "metadata": {},
     "output_type": "execute_result"
    },
    {
     "data": {
      "image/png": "[encoded data removed]",
      "text/plain": [
       "<Figure size 432x288 with 1 Axes>"
      ]
     },
     "metadata": {
      "needs_background": "light"
     },
     "output_type": "display_data"
    }
   ],
   "source": [
    "df.boxplot(\"rating\")"
   ]
  },
  {
   "cell_type": "code",
   "execution_count": 21,
   "metadata": {},
   "outputs": [
    {
     "data": {
      "text/plain": [
       "(792, 9)"
      ]
     },
     "execution_count": 21,
     "metadata": {},
     "output_type": "execute_result"
    }
   ],
   "source": [
    "df.shape"
   ]
  },
  {
   "cell_type": "code",
   "execution_count": 22,
   "metadata": {},
   "outputs": [
    {
     "name": "stdout",
     "output_type": "stream",
     "text": [
      "792\n"
     ]
    }
   ],
   "source": [
    "print(df[\"asin\"].nunique())"
   ]
  },
  {
   "cell_type": "code",
   "execution_count": 23,
   "metadata": {},
   "outputs": [
    {
     "name": "stdout",
     "output_type": "stream",
     "text": [
      "10\n"
     ]
    },
    {
     "data": {
      "text/plain": [
       "array(['Nokia', 'Motorola', 'Sony', 'Samsung', 'HUAWEI', 'Apple',\n",
       "       'OnePlus', 'Google', 'ASUS', 'Xiaomi'], dtype=object)"
      ]
     },
     "execution_count": 23,
     "metadata": {},
     "output_type": "execute_result"
    }
   ],
   "source": [
    "print(df[\"brand\"].nunique())\n",
    "df[\"brand\"].unique()"
   ]
  },
  {
   "cell_type": "code",
   "execution_count": 24,
   "metadata": {},
   "outputs": [
    {
     "data": {
      "text/plain": [
       "array(['https://www.amazon.com/Dual-Band-Tri-Mode-Activated-Dialing-Backlit/dp/B0000SX2UC',\n",
       "       'https://www.amazon.com/Motorola-i265-I265-phone/dp/B0009N5L7K',\n",
       "       'https://www.amazon.com/MOTOROLA-C168i-CINGULAR-PREPAID-GOPHONE/dp/B000SKTZ0S',\n",
       "       'https://www.amazon.com/Nokia-6500-Slide-silver-Unlocked/dp/B00198M12M',\n",
       "       'https://www.amazon.com/Motorola-i335-Phone-Boost-Mobile/dp/B001AO4OUC',\n",
       "       'https://www.amazon.com/Motorola-V365-contract-cellular-phone/dp/B001DCJAJG',\n",
       "       'https://www.amazon.com/Sony-Ericsson-Triband-Bronze-Unlocked/dp/B001DZY4KI',\n",
       "       'https://www.amazon.com/Nokia-1680-Black-Phone-T-Mobile/dp/B001GQ3DJM',\n",
       "       'https://www.amazon.com/New-Nokia-1100-for-Tracfone/dp/B0027VKQPE',\n",
       "       'https://www.amazon.com/Samsung-T301G-Prepaid-Phone-Tracfone/dp/B00280QJFU',\n",
       "       'https://www.amazon.com/Motorola-I205-phone-nextel-Boost/dp/B0029X7UHC',\n",
       "       'https://www.amazon.com/Samsung-a167-Prepaid-GoPhone-AT/dp/B002AS9WEA',\n",
       "       'https://www.amazon.com/Verizon-Wireless-Motorola-RAZR-V3m/dp/B002UHS0UI',\n",
       "       'https://www.amazon.com/Samsung-Smooth-Verizon-Wireless-Prepaid/dp/B003FCO9XE',\n",
       "       'https://www.amazon.com/Samsung-a107-Prepaid-GoPhone-AT/dp/B003MW0OIQ',\n",
       "       'https://www.amazon.com/Samsung-Rugby-II-Black-AT/dp/B003P2VNAQ',\n",
       "       'https://www.amazon.com/Motorola-i570-Nextel-rugged-black/dp/B003W646YK',\n",
       "       'https://www.amazon.com/Samsung-Gusto-Black-Verizon-Wireless/dp/B003XREZ4O',\n",
       "       'https://www.amazon.com/Samsung-SCH-U640-Ruggedized-megapixel-Verizon/dp/B004C7NVD0',\n",
       "       'https://www.amazon.com/Samsung-R355C-Net-10-Unlimited/dp/B004GLQTG8',\n",
       "       'https://www.amazon.com/Samsung-I917-Unlocked-Wi-Fi-No-Warranty/dp/B004H23JXW',\n",
       "       'https://www.amazon.com/Samsung-Factor-Prepaid-Phone-Mobile/dp/B004UVR9A4',\n",
       "       'https://www.amazon.com/Motorola-VU204-Contract-Bluetooth-Wireless/dp/B004Y0TNRS',\n",
       "       'https://www.amazon.com/Samsung-SA-S5260WESP-Cellphone-Unlocked-Warranty/dp/B004YBP8EY',\n",
       "       'https://www.amazon.com/Motorola-Clutch-i475-Prepaid-Mobile/dp/B0052OL576',\n",
       "       'https://www.amazon.com/Verizon-PagePlus-amsung-U320-Contract/dp/B005JGSVCE',\n",
       "       'https://www.amazon.com/Huawei-Pinnacle-Prepaid-Phone-MetroPCS/dp/B005WJJKE6',\n",
       "       'https://www.amazon.com/Verizon-Samsung-Convoy-Contract-Rugged/dp/B006OU39QW',\n",
       "       'https://www.amazon.com/Samsung-Replenish-Prepaid-Android-Mobile/dp/B006VH79R8',\n",
       "       'https://www.amazon.com/Samsung-I677-Unlocked-Windows-Bluetooth/dp/B00727AODC',\n",
       "       'https://www.amazon.com/Samsung-Replenish-SPH-M580-Contract-Sprint/dp/B007LU0HU0',\n",
       "       'https://www.amazon.com/Samsung-Focus-Windows-Phone-Smartphone/dp/B007P736SE',\n",
       "       'https://www.amazon.com/Samsung-a157-GoPhone-AT-T/dp/B007X6FFLS',\n",
       "       'https://www.amazon.com/Samsung-Convoy-U660-Verizon-Phone/dp/B008FRL6VC',\n",
       "       'https://www.amazon.com/Samsung-Replenish-M580-Contract-Smartphone/dp/B008LXDCMQ',\n",
       "       'https://www.amazon.com/Samsung-Entro-Mobile-Phone-Virgin/dp/B008P2SUEI',\n",
       "       'https://www.amazon.com/Samsung-Gusto-Prepaid-Verizon-Wireless/dp/B008PAW5EQ',\n",
       "       'https://www.amazon.com/Motorola-Computer-Windows-Mobile-MC75A8-PYFSWQRA9WR/dp/B0096DERAG',\n",
       "       'https://www.amazon.com/Motorola-Droid-RAZR-Verizon-Wireless/dp/B0096QYH80',\n",
       "       'https://www.amazon.com/Nokia-Unlocked-Smartphone-PureView-Technology/dp/B009ZC91AY',\n",
       "       'https://www.amazon.com/Samsung-Galaxy-Express-Gray-8GB/dp/B00A408AF8',\n",
       "       'https://www.amazon.com/Nokia-Lumia-Windows-Phone-Black/dp/B00A7F57EM',\n",
       "       'https://www.amazon.com/Nokia-Lumia-822-Verizon-Wireless/dp/B00A7F5M9W',\n",
       "       'https://www.amazon.com/Nokia-Unlocked-Windows-Smartphone-Optics/dp/B00ACZ0DUA',\n",
       "       'https://www.amazon.com/Nokia-Lumia-Unlocked-Windows-Smartphone/dp/B00B2BYU1Q',\n",
       "       'https://www.amazon.com/Samsung-Unlocked-Internet-Capabilities-Speakerphone/dp/B00B5081MI',\n",
       "       'https://www.amazon.com/Motorola-DROID-RAZR-Verizon-Wireless/dp/B00B593XAY',\n",
       "       'https://www.amazon.com/Motorola-Droid-RAZR-XT926-Black/dp/B00B6SFDHK',\n",
       "       'https://www.amazon.com/Nokia-620-Magenta-Factory-Unlocked/dp/B00BIR1LKM',\n",
       "       'https://www.amazon.com/Samsung-GT-I9500-Factory-Unlocked-Cellphone/dp/B00BV1MVJ0',\n",
       "       'https://www.amazon.com/Samsung-Factory-Unlocked-Cellphone-International/dp/B00CIF9MJK',\n",
       "       'https://www.amazon.com/Nokia-Unlocked-Windows-Touchscreen-Smartphone/dp/B00CKUH92A',\n",
       "       'https://www.amazon.com/Nokia-Lumia-928-Verizon-Wireless/dp/B00CQAOIIC',\n",
       "       'https://www.amazon.com/Nokia-RM-893-Windows-Smartphone-Unlocked/dp/B00CS2ZWKQ',\n",
       "       'https://www.amazon.com/Nokia-520-Unlocked-Dual-Core-Smartphone/dp/B00D7OOAHA',\n",
       "       'https://www.amazon.com/Samsung-Prevail-II-Discontinued-Manufacturer/dp/B00D99ZBR6',\n",
       "       'https://www.amazon.com/Samsung-Galaxy-Mega-5-8-Unlocked/dp/B00DUJ6TYY',\n",
       "       'https://www.amazon.com/Nokia-Lumia-520-Discontinued-Manufacturer/dp/B00E45043A',\n",
       "       'https://www.amazon.com/Samsung-Galaxy-S4-White-Frost/dp/B00E6FGSHY',\n",
       "       'https://www.amazon.com/Nokia-Lumia-Quad-Band-Unlocked-Smartphone/dp/B00E8TGT1S',\n",
       "       'https://www.amazon.com/Motorola-Moto-Unlocked-Phone-Warranty/dp/B00E92B88I',\n",
       "       'https://www.amazon.com/Nokia-RM-877-Unlocked-Windows-Smartphone/dp/B00ECAABBC',\n",
       "       'https://www.amazon.com/Motorola-Factory-Unlocked-Quad-Core-Smartphone/dp/B00ECBREK2',\n",
       "       'https://www.amazon.com/Samsung-Galaxy-Mega-Discontinued-Manufacturer/dp/B00EKXDL0E',\n",
       "       'https://www.amazon.com/Samsung-Convoy-Gray-Verizon-Wireless/dp/B00EP2BN00',\n",
       "       'https://www.amazon.com/Samsung-Galaxy-Note-Black-32GB/dp/B00F2SDM00',\n",
       "       'https://www.amazon.com/Samsung-Galaxy-Note-Verizon-Wireless/dp/B00F2SKPIM',\n",
       "       'https://www.amazon.com/Samsung-a157V-Phone-Annual-Contract/dp/B00F9RRVUG',\n",
       "       'https://www.amazon.com/Samsung-Galaxy-Note-White-Sprint/dp/B00FJ8YCZM',\n",
       "       'https://www.amazon.com/Samsung-Galaxy-Mega-Black-Sprint/dp/B00G9FVHMK',\n",
       "       'https://www.amazon.com/Samsung-Galaxy-S4-Verizon-Wireless/dp/B00HWEJJSQ',\n",
       "       'https://www.amazon.com/Nokia-Lumia-Icon-Verizon-Wireless/dp/B00HWENIUG',\n",
       "       'https://www.amazon.com/Nokia-Lumia-Unlocked-Windows-Smartphone/dp/B00I2KY5TM',\n",
       "       'https://www.amazon.com/Nokia-928-Unlocked-Windows-Smartphone/dp/B00I2KY6LE',\n",
       "       'https://www.amazon.com/Nokia-Lumia-Pre-paid-T-mobile-Brightspot/dp/B00I3OIXJU',\n",
       "       'https://www.amazon.com/Samsung-Galaxy-M919-Unlocked-Phone/dp/B00IDTU8PC',\n",
       "       'https://www.amazon.com/Samsung-Galaxy-L720-Sprint-Smartphone/dp/B00IEMJYL2',\n",
       "       'https://www.amazon.com/Samsung-Galaxy-S5-Black-16GB/dp/B00IZ1XA94',\n",
       "       'https://www.amazon.com/Samsung-Galaxy-SPH-720T-Tri-Band-Sprint/dp/B00JEHJMG8',\n",
       "       'https://www.amazon.com/Samsung-ATIV-SE-Verizon-Wireless/dp/B00JH2WPO6',\n",
       "       'https://www.amazon.com/Motorola-DROID-MAXX-Verizon-Wireless/dp/B00JS73V2U',\n",
       "       'https://www.amazon.com/Samsung-Gusto-Verizon-Wireless-Prepaid/dp/B00JYR6GGM',\n",
       "       'https://www.amazon.com/Motorola-Moto-Generation-Unlocked-Cellphone/dp/B00K0NS0P4',\n",
       "       'https://www.amazon.com/Samsung-Galaxy-S5-Shimmery-Unlocked/dp/B00K15Q2B0',\n",
       "       'https://www.amazon.com/Samsung-Galaxy-S5-Active-Ruby/dp/B00KHY09BE',\n",
       "       'https://www.amazon.com/Nokia-Lumia-Unlocked-Windows-Quad-Core/dp/B00KM10ITK',\n",
       "       'https://www.amazon.com/Nokia-220-RM-971-Unlocked-Camera/dp/B00L4DXRS4',\n",
       "       'https://www.amazon.com/Samsung-Galaxy-Verizon-Wireless-Smartphone/dp/B00LAEA8E8',\n",
       "       'https://www.amazon.com/Genuine-Nokia-Unlocked-Student-Fashionable/dp/B00LYRY2AM',\n",
       "       'https://www.amazon.com/Motorola-Moto-generation-Unlocked-Cellphone/dp/B00MWI4KKE',\n",
       "       'https://www.amazon.com/Samsung-Galaxy-Alpha-Charcoal-Black/dp/B00N532C1E',\n",
       "       'https://www.amazon.com/Samsung-Galaxy-Mega-Brown-Black/dp/B00N532DU4',\n",
       "       'https://www.amazon.com/Samsung-Galaxy-Mega-6-3-Smartphone/dp/B00NACK1DG',\n",
       "       'https://www.amazon.com/Nokia-Lumia-830-Smartphone-Black/dp/B00NFG57CW',\n",
       "       'https://www.amazon.com/Samsung-Galaxy-Note-Charcoal-Sprint/dp/B00NKR9FT2',\n",
       "       'https://www.amazon.com/Samsung-Galaxy-Note-Frosted-Sprint/dp/B00NKR9MJA',\n",
       "       'https://www.amazon.com/Samsung-Unlocked-Extremely-Durable-Smartphone/dp/B00NMWYA36',\n",
       "       'https://www.amazon.com/Nokia-Lumia-530-White-Contract/dp/B00O15MWOM',\n",
       "       'https://www.amazon.com/Samsung-Galaxy-SGH-i337-16GB-Black/dp/B00OAW79PS',\n",
       "       'https://www.amazon.com/Samsung-Galaxy-Note-Unlocked-Cellphone/dp/B00OEK6TWU',\n",
       "       'https://www.amazon.com/Samsung-Galaxy-ACE-Style-Black/dp/B00OL5H1HU',\n",
       "       'https://www.amazon.com/Motorola-DROID-Turbo-Ballistic-Wireless/dp/B00OZTSY6Y',\n",
       "       'https://www.amazon.com/Motorola-Moto-Generation-Football-Wireless/dp/B00PA583YA',\n",
       "       'https://www.amazon.com/Samsung-Galaxy-Note-Edge-Charcoal/dp/B00PI1EZPC',\n",
       "       'https://www.amazon.com/Nokia-Lumia-520-GoPhone-Black/dp/B00PR2QSU2',\n",
       "       'https://www.amazon.com/Samsung-SM-N915T-T-Mobile-Certified-Refurbished/dp/B00Q8NHBWI',\n",
       "       'https://www.amazon.com/Motorola-Moto-Prepaid-Phone-Net10/dp/B00QQPNYZ6',\n",
       "       'https://www.amazon.com/Samsung-Convoy-Non-Camera-Verizon-Wireless/dp/B00R3R6W3W',\n",
       "       'https://www.amazon.com/Samsung-Galaxy-Unlocked-Quad-Core-Smartphone/dp/B00SIB3HS0',\n",
       "       'https://www.amazon.com/Nokia-Unlocked-Windows-Smartphone-Optics/dp/B00TRLXO6U',\n",
       "       'https://www.amazon.com/Motorola-XT1103-Factory-Unlocked-Midnight/dp/B00U8F1F1A',\n",
       "       'https://www.amazon.com/Samsung-SM-G920F-Unlocked-Cellphone-International/dp/B00U8KT62A',\n",
       "       'https://www.amazon.com/Samsung-Galaxy-S6-G920F-Unlocked/dp/B00UA8JZA8',\n",
       "       'https://www.amazon.com/Samsung-Edge-G925T-Black-Sapphire/dp/B00UPCKKUI',\n",
       "       'https://www.amazon.com/Samsung-Galaxy-Unlocked-Android-Smartphone/dp/B00UZ7QJ6W',\n",
       "       'https://www.amazon.com/Samsung-Galaxy-S6-Sapphire-Sprint/dp/B00V7FWBZY',\n",
       "       'https://www.amazon.com/Samsung-Galaxy-S6-Sapphire-Sprint/dp/B00V7FWEX8',\n",
       "       'https://www.amazon.com/Samsung-Galaxy-S6-Platinum-Sprint/dp/B00V7FWPVO',\n",
       "       'https://www.amazon.com/Samsung-Galaxy-S6-Edge-Sprint/dp/B00V7FWWA8',\n",
       "       'https://www.amazon.com/Samsung-Galaxy-S6-Edge-Sapphire/dp/B00V7FWZVY',\n",
       "       'https://www.amazon.com/Samsung-Galaxy-S6-Cellphone-INTERNATIONAL/dp/B00VGYOY38',\n",
       "       'https://www.amazon.com/Samsung-GALAXY-Unlocked-Octa-Core-Smartphone/dp/B00VH2TWBS',\n",
       "       'https://www.amazon.com/Samsung-Galaxy-Edge-G925T-T-Mobile/dp/B00W2HK38I',\n",
       "       'https://www.amazon.com/Samsung-Convoy-SCH-U680-Verizon-Wireless/dp/B00WF988BW',\n",
       "       'https://www.amazon.com/Samsung-G920A-Unlocked-Octa-Core-Smartphone/dp/B00WHE2WCG',\n",
       "       'https://www.amazon.com/Samsung-Galaxy-Unlocked-SM-G920A-Smartphone/dp/B00WHE2WVM',\n",
       "       'https://www.amazon.com/Samsung-Galaxy-G925F-Unlocked-Phone/dp/B00WIYFBWI',\n",
       "       'https://www.amazon.com/Apple-iPhone-GSM-Unlocked-128GB/dp/B00XBCUOB4',\n",
       "       'https://www.amazon.com/Motorola-Moto-LTE-Contract-Cellular/dp/B00XQVDW6Y',\n",
       "       'https://www.amazon.com/Samsung-J1-Smartphone-Carirer-Verizon/dp/B00YAE9DXM',\n",
       "       'https://www.amazon.com/Apple-iPhone-Unlocked-Space-Renewed/dp/B00YD5400Y',\n",
       "       'https://www.amazon.com/Apple-iPhone-GSM-Unlocked-16GB/dp/B00YD547Q6',\n",
       "       'https://www.amazon.com/Apple-iPhone-Plus-Unlocked-16GB/dp/B00YD54GG2',\n",
       "       'https://www.amazon.com/Apple-iPhone-Plus-Unlocked-16GB/dp/B00YD54J8W',\n",
       "       'https://www.amazon.com/Apple-iPhone-Plus-Unlocked-64GB/dp/B00YD54KJK',\n",
       "       'https://www.amazon.com/Apple-iPhone-5S-T-Mobile-16GB/dp/B00YD7GOPQ',\n",
       "       'https://www.amazon.com/Apple-iPhone-Verizon-Smartphone-Refurbished/dp/B00YD7J52U',\n",
       "       'https://www.amazon.com/Samsung-Galaxy-Note-Wireless-Smartphone/dp/B00YW7L830',\n",
       "       'https://www.amazon.com/Samsung-Galaxy-S6-Active-Grey/dp/B00ZE8HRYK',\n",
       "       'https://www.amazon.com/Sony-Xperia-E6533-Unlocked-Factory/dp/B010CK8O9Q',\n",
       "       'https://www.amazon.com/Sony-Xperia-Z3-5-2-Inch-Smartphone/dp/B010V43VFA',\n",
       "       'https://www.amazon.com/Samsung-Galaxy-G920T-32GB-T-Mobile/dp/B011AC4U7A',\n",
       "       'https://www.amazon.com/Motorola-Unlocked-Display-Smartphone-Octa-Core/dp/B012W8XE6E',\n",
       "       'https://www.amazon.com/Samsung-Galaxy-S6-Edge-Sprint/dp/B0134TVCHI',\n",
       "       'https://www.amazon.com/Sony-D2004-Unlocked-Dual-Core-Smartphone/dp/B013IP8IKM',\n",
       "       'https://www.amazon.com/Samsung-Galaxy-Note-Verizon-Wireless/dp/B013XAPPIK',\n",
       "       'https://www.amazon.com/Samsung-Galaxy-J5-Smartphone-International/dp/B0147LDSG0',\n",
       "       'https://www.amazon.com/Apple-iPhone-GSM-Unlocked-16GB/dp/B014KI1XL2',\n",
       "       'https://www.amazon.com/Samsung-128GB-Galaxy-Certified-Refurbished/dp/B014V5X80S',\n",
       "       'https://www.amazon.com/Samsung-Galaxy-Verizon-Wireless-Smartphone/dp/B014V5XDV2',\n",
       "       'https://www.amazon.com/Apple-iPhone-GSM-Unlocked-64GB/dp/B014Z8HDWU',\n",
       "       'https://www.amazon.com/Samsung-Unlocked-Smartphone-Certified-Refurbished/dp/B01595SI9U',\n",
       "       'https://www.amazon.com/OnePlus-Unlocked-Smartphone-Sandstone-Version/dp/B015FZLA8A',\n",
       "       'https://www.amazon.com/Apple-iPhone-GSM-Unlocked-16GB/dp/B015KNMK0O',\n",
       "       'https://www.amazon.com/Motorola-Droid-Turbo-Android-Smartphone/dp/B015ROR4PC',\n",
       "       'https://www.amazon.com/Nexus-6P-Unlocked-Smartphone-Warranty/dp/B015YCRZ1K',\n",
       "       'https://www.amazon.com/Samsung-Galaxy-SM-G900T-Unlocked-Renewed/dp/B016X075F8',\n",
       "       'https://www.amazon.com/Samsung-Galaxy-I337-Unlocked-Smartphone/dp/B016X1ZXNS',\n",
       "       'https://www.amazon.com/Samsung-Galaxy-S6-Edge-Plus/dp/B017UV6RBW',\n",
       "       'https://www.amazon.com/Samsung-T-Mobile-Unlocked-Certified-Refurbished/dp/B0182MA8UY',\n",
       "       'https://www.amazon.com/Samsung-Galaxy-SM-N920V-Verizon-Wireless/dp/B018OMP8ES',\n",
       "       'https://www.amazon.com/Samsung-Unlocked-Octa-Core-Android-Smartphone/dp/B018TUJE9U',\n",
       "       'https://www.amazon.com/Motorola-Turbo-Unlocked-Verizon-Wireless/dp/B0192TCZWA',\n",
       "       'https://www.amazon.com/Motorola-Moto-Turbo-Unlocked-DUAL-Resistant-1-5/dp/B019BH7V0O',\n",
       "       'https://www.amazon.com/Samsung-Galaxy-SPH-L720T-Tri-Band-Mobile/dp/B019S654DO',\n",
       "       'https://www.amazon.com/Samsung-Galaxy-Grand-Prime-Quad-Core/dp/B01AL0WL46',\n",
       "       'https://www.amazon.com/Motorola-Droid-Turbo-Smartphone-Refurbished/dp/B01ATTBXY8',\n",
       "       'https://www.amazon.com/Samsung-Galaxy-Note-SM-N900T-T-Mobile/dp/B01B93KLUU',\n",
       "       'https://www.amazon.com/Samsung-Galaxy-SM-N920T-Smartphone-T-Mobile/dp/B01BG1MW5C',\n",
       "       'https://www.amazon.com/Motorola-Droid-XT1565-Unlocked-version/dp/B01BHEBDVW',\n",
       "       'https://www.amazon.com/Apple-iPhone-Unlocked-Gold-Renewed/dp/B01BI2XQ5O',\n",
       "       'https://www.amazon.com/Samsung-Prepaid-Smartphone-Powered-T-Mobile/dp/B01BLSX96G',\n",
       "       'https://www.amazon.com/Samsung-SM-G935F-Factory-Unlocked-Smartphone/dp/B01C5OIINO',\n",
       "       'https://www.amazon.com/Apple-iPhone-Fully-Unlocked-64GB/dp/B01C62I49I',\n",
       "       'https://www.amazon.com/Samsung-Galaxy-S7-Edge-Wireless/dp/B01CJ3SCCI',\n",
       "       'https://www.amazon.com/Samsung-Galaxy-Unlocked-Verizon-Wireless/dp/B01CJ3SCJ6',\n",
       "       'https://www.amazon.com/Samsung-Galaxy-Black-Verizon-Wireless/dp/B01CJ3SCN2',\n",
       "       'https://www.amazon.com/Samsung-Galaxy-GS7-Edge-Wireless/dp/B01CJ3SF02',\n",
       "       'https://www.amazon.com/Samsung-Galaxy-S7-Smartphone-International/dp/B01CJU9126',\n",
       "       'https://www.amazon.com/Samsung-Galaxy-Note-SM-N920T-64gb/dp/B01CN1RZY2',\n",
       "       'https://www.amazon.com/Huawei-NXT-L09-Factory-Unlocked-Smartphone/dp/B01COSAKMI',\n",
       "       'https://www.amazon.com/Samsung-Galaxy-Edge-Black-Sprint/dp/B01CP4CGCI',\n",
       "       'https://www.amazon.com/Samsung-Galaxy-G930P-32GB-Black/dp/B01CP4CGTQ',\n",
       "       'https://www.amazon.com/Apple-iPhone-6S-Unlocked-64GB/dp/B01CR1FQMG',\n",
       "       'https://www.amazon.com/Apple-iPhone-6S-Unlocked-16GB/dp/B01CR2IA6Y',\n",
       "       'https://www.amazon.com/GoPhone-Samsung-Flight-Touchscreen-QWERTY/dp/B01CW3CI7A',\n",
       "       'https://www.amazon.com/Samsung-Galaxy-SM-G930A-Unlocked-Smartphone/dp/B01CYYYRNK',\n",
       "       'https://www.amazon.com/Samsung-SM-G920V-Sapphire-Smartphone-Verizon/dp/B01D0JV7AO',\n",
       "       'https://www.amazon.com/Samsung-SM-G920V-Smartphone-Certified-Refurbished/dp/B01D0K1XUM',\n",
       "       'https://www.amazon.com/Samsung-Galaxy-S7-Edge-Smartphone/dp/B01D4GDARQ',\n",
       "       'https://www.amazon.com/Samsung-SM-G920A-Sapphire-Smartphone-Renewed/dp/B01D52K8DI',\n",
       "       'https://www.amazon.com/Samsung-Galaxy-SM-G920A-32GB-Renewed/dp/B01D52MTPS',\n",
       "       'https://www.amazon.com/Samsung-Galaxy-SM-G930F-Unlocked-Smartphone/dp/B01D56C50I',\n",
       "       'https://www.amazon.com/Apple-iPhone-6S-AT-64GB/dp/B01DC1ZM0Q',\n",
       "       'https://www.amazon.com/Samsung-Galaxy-G920P-Mobile-Smartphone/dp/B01DUPOOMG',\n",
       "       'https://www.amazon.com/Samsung-Galaxy-S7-Prepaid-Carrier/dp/B01DYH5JC4',\n",
       "       'https://www.amazon.com/Moto-4th-Gen-Unlocked-Black/dp/B01DZJFWWS',\n",
       "       'https://www.amazon.com/Moto-Plus-4th-Gen-Unlocked/dp/B01DZJFWXC',\n",
       "       'https://www.amazon.com/Samsung-Galaxy-Express-Prepaid-Carrier/dp/B01E7FK14S',\n",
       "       'https://www.amazon.com/Samsung-Charcoal-Verizon-Certified-Refurbished/dp/B01E7JU3KG',\n",
       "       'https://www.amazon.com/Apple-iPhone-Plus-Unlocked-16GB/dp/B01EVMZMZU',\n",
       "       'https://www.amazon.com/Samsung-Galaxy-G930A-32GB-Black/dp/B01F482BTK',\n",
       "       'https://www.amazon.com/Samsung-Galaxy-S7-G930A-Platinum/dp/B01F4889GE',\n",
       "       'https://www.amazon.com/Samsung-Galaxy-Edge-G935A-32GB/dp/B01FCFZS3G',\n",
       "       'https://www.amazon.com/Samsung-Galaxy-Unlocked-Octa-Core-Smartphone/dp/B01FCR0GOK',\n",
       "       'https://www.amazon.com/Samsung-Galaxy-G930T-32GB-T-Mobile/dp/B01FIW1B9S',\n",
       "       'https://www.amazon.com/Sony-Xperia-F3113-Android-Phone/dp/B01FJT7E0A',\n",
       "       'https://www.amazon.com/Sony-Xperia-unlocked-smartphone-Warranty/dp/B01FJT7E3M',\n",
       "       'https://www.amazon.com/Sony-Performance-unlocked-smartphone-Warranty/dp/B01FJT7MZC',\n",
       "       'https://www.amazon.com/Sony-Xperia-F5121-Camera-Phone/dp/B01FJT7N4W',\n",
       "       'https://www.amazon.com/Nokia-Lumia-435-Touchscreen-International/dp/B01G7JCECE',\n",
       "       'https://www.amazon.com/Samsung-Galaxy-Amp-2-Cricket/dp/B01GP2XIJQ',\n",
       "       'https://www.amazon.com/Samsung-Express-J120a-Unlocked-White/dp/B01GQWT4SE',\n",
       "       'https://www.amazon.com/Apple-iPhone-Unlocked-Phone-16GB/dp/B01GXAT0CE',\n",
       "       'https://www.amazon.com/Apple-iPhone-SE-Unlocked-64GB/dp/B01GXAZFR8',\n",
       "       'https://www.amazon.com/OnePlus-Graphite-Factory-Unlocked-Version/dp/B01H3V07EW',\n",
       "       'https://www.amazon.com/Samsung-Galaxy-Active-SM-G891A-No-Contract/dp/B01H93TCCM',\n",
       "       'https://www.amazon.com/Samsung-Galaxy-unlocked-smartphone-Warranty/dp/B01HFD0XJM',\n",
       "       'https://www.amazon.com/Samsung-G920A-Galaxy-Saphire-Renewed/dp/B01HQTL47A',\n",
       "       'https://www.amazon.com/Samsung-G930V-Smartphones-Certified-Refurbished/dp/B01HU2C224',\n",
       "       'https://www.amazon.com/Samsung-G891A-Unlocked-Resistant-Smartphone/dp/B01HW6GRL0',\n",
       "       'https://www.amazon.com/Samsung-Galaxy-S6-Unlocked-Smartphone/dp/B01I0HP1Z8',\n",
       "       'https://www.amazon.com/Samsung-SM-G920V-Smartphone-Certified-Refurbished/dp/B01INN9D0I',\n",
       "       'https://www.amazon.com/Samsung-Galaxy-Verizon-No-Contract-Smartphone/dp/B01INRGCV2',\n",
       "       'https://www.amazon.com/Motorola-00991NARTL-Moto-Unlocked-Black/dp/B01INV912A',\n",
       "       'https://www.amazon.com/Huawei-Honor-Unlocked-Smartphone-Camera/dp/B01IVV7W8M',\n",
       "       'https://www.amazon.com/Samsung-Certified-Pre-Owned-Carrier-Locked/dp/B01J63O3KY',\n",
       "       'https://www.amazon.com/Samsung-Verizon-Certified-Pre-Owned-Prepaid/dp/B01J63ODA4',\n",
       "       'https://www.amazon.com/Samsung-SM-G930F-Factory-Unlocked-Smartphone/dp/B01J6MS6Z8',\n",
       "       'https://www.amazon.com/Samsung-Galaxy-Unlocked-Memory-SM-J321AZ/dp/B01J8C50TQ',\n",
       "       'https://www.amazon.com/Apple-iPhone-Plus-Unlocked-16GB/dp/B01JAWXOO2',\n",
       "       'https://www.amazon.com/Samsung-G920A-Unlocked-Octa-Core-Smartphone/dp/B01K5QLD5E',\n",
       "       'https://www.amazon.com/Samsung-Unlocked-Octa-Core-Android-Smartphone/dp/B01K5RGPIS',\n",
       "       'https://www.amazon.com/Samsung-Galaxy-SM-G935-Unlocked-Latest/dp/B01KS3IAUK',\n",
       "       'https://www.amazon.com/Apple-iPhone-GSM-Unlocked-64GB/dp/B01L1BOQT2',\n",
       "       'https://www.amazon.com/Apple-iPhone-SE-Unlocked-64GB/dp/B01L1BOQTW',\n",
       "       'https://www.amazon.com/Samsung-B690-convoy-4-verizon-wireless/dp/B01L9D7J00',\n",
       "       'https://www.amazon.com/Sony-Xperia-Compact-Unlocked-Smartphone/dp/B01LACBLEK',\n",
       "       'https://www.amazon.com/Unlocked-Smartphone-screen-storage-5-2mm/dp/B01LEL8ABY',\n",
       "       'https://www.amazon.com/Apple-iPhone-Plus-Unlocked-32GB/dp/B01LWICBLN',\n",
       "       'https://www.amazon.com/Sony-Compact-F5321-FACTORY-UNLOCKED/dp/B01LWMIYAQ',\n",
       "       'https://www.amazon.com/Samsung-SM-G928V-Smartphone-Verizon-Renewed/dp/B01LYMY88F',\n",
       "       'https://www.amazon.com/Samsung-Galaxy-C7000-Unlocked-Cellphone/dp/B01LYRCMAB',\n",
       "       'https://www.amazon.com/Google-Pixel-Phone-128-GB/dp/B01LZ2SO4L',\n",
       "       'https://www.amazon.com/Google-Pixel-Phone-display-Unlocked/dp/B01M01YX15',\n",
       "       'https://www.amazon.com/Google-Pixel-XL-Phone-128GB/dp/B01M1CTCO0',\n",
       "       'https://www.amazon.com/Sony-Xperia-XZ-Unlocked-Smartphone/dp/B01M1HY1E3',\n",
       "       'https://www.amazon.com/Samsung-Galaxy-S7-32GB-G930T/dp/B01M4HGVJ7',\n",
       "       'https://www.amazon.com/Samsung-Verizon-Unlocked-Titanium-Renewed/dp/B01M7O431L',\n",
       "       'https://www.amazon.com/Samsung-Certified-Pre-Owned-Prepaid-Carrier/dp/B01M9INZ1I',\n",
       "       'https://www.amazon.com/Motorola-XT1635-Factory-Unlocked-Phone/dp/B01MDMJGYT',\n",
       "       'https://www.amazon.com/Motorola-Generation-Unlocked-Smartphone-Worldwide/dp/B01MFDM6QE',\n",
       "       'https://www.amazon.com/APPLE-iPhone-6S-UNLOCKED-Refurbished/dp/B01MQWFFM3',\n",
       "       'https://www.amazon.com/Apple-iPhone-6S-AT-64GB/dp/B01MR0IA4O',\n",
       "       'https://www.amazon.com/Apple-iPhone-AT-16GB-Renewed/dp/B01MRH0YND',\n",
       "       'https://www.amazon.com/Apple-iPhone-GSM-Unlocked-128GB/dp/B01MSEPCPU',\n",
       "       'https://www.amazon.com/Samsung-Galaxy-T-Mobile-Unlocked-Smartphone/dp/B01MT57AVU',\n",
       "       'https://www.amazon.com/Apple-iPhone-Plus-Unlocked-256GB/dp/B01MUTETGP',\n",
       "       'https://www.amazon.com/Samsung-Galaxy-Note-N920T-32GB/dp/B01MY2FEAS',\n",
       "       'https://www.amazon.com/Samsung-Galaxy-S7-4G-LTE-T-Mobile/dp/B01MY4DGA7',\n",
       "       'https://www.amazon.com/Samsung-S6-G890A-Unlocked-Smartphone/dp/B01MY7VL44',\n",
       "       'https://www.amazon.com/Apple-iPhone-Plus-AT-128GB/dp/B01N02G1C9',\n",
       "       'https://www.amazon.com/Apple-iPhone-Plus-AT-16GB/dp/B01N0AOOK1',\n",
       "       'https://www.amazon.com/Samsung-Galaxy-Factory-Unlocked-Smartphone/dp/B01N0NWGE6',\n",
       "       'https://www.amazon.com/Motorola-Moto-Droid-XT1650-01-White/dp/B01N17VM0E',\n",
       "       'https://www.amazon.com/Samsung-SM-J320VLPP-J3-Verizon-Prepaid/dp/B01N1Q6V7K',\n",
       "       'https://www.amazon.com/Samsung-SM-G920T-Smartphone-Certified-Refurbished/dp/B01N1SCZ86',\n",
       "       'https://www.amazon.com/Apple-iPhone-6S-AT-128GB/dp/B01N1WUFU0',\n",
       "       'https://www.amazon.com/iPhone-6S-64GB-Rose-Refurbished/dp/B01N27UF9Z',\n",
       "       'https://www.amazon.com/Google-Display-Factory-Unlocked-Verizon/dp/B01N2HPFWK',\n",
       "       'https://www.amazon.com/Samsung-Galaxy-N920T-Black-Sapphire/dp/B01N2YQQW7',\n",
       "       'https://www.amazon.com/Samsung-Galaxy-S6-SM-G920T-Smartphone/dp/B01N3720RE',\n",
       "       'https://www.amazon.com/Samsung-Galaxy-SM-G930V-Verizon-Renewed/dp/B01N4E0RF1',\n",
       "       'https://www.amazon.com/Samsung-Galaxy-G920T-32GB-Gold/dp/B01N4S65YE',\n",
       "       'https://www.amazon.com/Samsung-Galaxy-N910P-Charcoal-Black/dp/B01N4VFJAX',\n",
       "       'https://www.amazon.com/Google-Pixel-32GB-Verizon-Wireless/dp/B01N5BOBIF',\n",
       "       'https://www.amazon.com/TracFone-Samsung-Galaxy-Prepaid-Smartphone/dp/B01N5OQDIK',\n",
       "       'https://www.amazon.com/Samsung-Galaxy-N910P-Frosted-White/dp/B01N5WQ2P4',\n",
       "       'https://www.amazon.com/Samsung-Galaxy-Edge-SM-G925T-Smartphone/dp/B01N6P6E0K',\n",
       "       'https://www.amazon.com/Apple-iPhone-GSM-Unlocked-32GB/dp/B01N6YAP98',\n",
       "       'https://www.amazon.com/Apple-iPhone-Plus-Unlocked-32GB/dp/B01N6ZAR0D',\n",
       "       'https://www.amazon.com/Samsung-TWSAS120VCP-3-Wireless-Prepaid-Smartphone/dp/B01N9R1JA7',\n",
       "       'https://www.amazon.com/Motorola-XT1635-Silver-Verizon-Wireless/dp/B01N9VG61T',\n",
       "       'https://www.amazon.com/Samsung-Galaxy-Edge-G935V-32GB/dp/B01N9XOXCK',\n",
       "       'https://www.amazon.com/Apple-iPhone-GSM-Unlocked-128GB/dp/B01N9YO1DS',\n",
       "       'https://www.amazon.com/Samsung-G891A-Shatter-Resistant-Extremely-Smartphone/dp/B01N9YOVME',\n",
       "       'https://www.amazon.com/Samsung-Galaxy-G920P-Black-Sapphire/dp/B01NAZJYO5',\n",
       "       'https://www.amazon.com/Samsung-Galaxy-Note-N920P-Sprint/dp/B01NB1IGR8',\n",
       "       'https://www.amazon.com/Samsung-Galaxy-G930P-32GB-Black/dp/B01NBZDKGJ',\n",
       "       'https://www.amazon.com/Samsung-Galaxy-Note-32GB-Unlocked/dp/B01NC2MEJP',\n",
       "       'https://www.amazon.com/Motorola-Moto-Droid-XT1650-01-White/dp/B01NH5HCGZ',\n",
       "       'https://www.amazon.com/Samsung-SM-G900V-Smartphone-Certified-Refurbished/dp/B06VW5FVLB',\n",
       "       'https://www.amazon.com/Samsung-Galaxy-Edge-G925T-T-Mobile/dp/B06VWSQPPF',\n",
       "       'https://www.amazon.com/Samsung-Galaxy-Edge-G935P-Silver/dp/B06W2M6RT2',\n",
       "       'https://www.amazon.com/Samsung-SM-G900V-Smartphone-Certified-Refurbished/dp/B06W9L7YJM',\n",
       "       'https://www.amazon.com/Samsung-Galaxy-G925P-White-Pearl/dp/B06WWLYGWW',\n",
       "       'https://www.amazon.com/Samsung-Galaxy-G920T-White-Pearl/dp/B06WWR3T5B',\n",
       "       'https://www.amazon.com/Apple-iPhone-Unlocked-Quad-Core-Smartphone/dp/B06X9FGTMN',\n",
       "       'https://www.amazon.com/Apple-iPhone-SE-Unlocked-Refurbished/dp/B06X9FL2PW',\n",
       "       'https://www.amazon.com/Sony-Xperia-XA1-Unlocked-Smartphone/dp/B06X9HVVC5',\n",
       "       'https://www.amazon.com/Apple-iPhone-a1662-Unlocked-Refurbished/dp/B06X9WY6P6',\n",
       "       'https://www.amazon.com/Apple-iPhone-SE-Unlocked-Refurbished/dp/B06X9XVGY9',\n",
       "       'https://www.amazon.com/Motorla-XT1635-Verizon-Unlocked-Black/dp/B06XD2NLFS',\n",
       "       'https://www.amazon.com/Samsung-Galaxy-T-Mobile-Smartphone-g925t/dp/B06XH42JZ5',\n",
       "       'https://www.amazon.com/Samsung-Galaxy-G920A-64GB-Unlocked/dp/B06XHV6HWL',\n",
       "       'https://www.amazon.com/Apple-iPhone-6S-Fully-Unlocked/dp/B06XR1K6HR',\n",
       "       'https://www.amazon.com/Apple-iPhone-256GB-Unlocked-Quad-Core/dp/B06XR2D5S1',\n",
       "       'https://www.amazon.com/Apple-iPhone-Fully-Unlocked-16GB/dp/B06XRG6S73',\n",
       "       'https://www.amazon.com/Apple-iPhone-Fully-Unlocked-16GB/dp/B06XRGN22N',\n",
       "       'https://www.amazon.com/Apple-iPhone-Unlocked-Dual-Core-Camera/dp/B06XRJQX91',\n",
       "       'https://www.amazon.com/Apple-iPhone-256GB-Unlocked-Quad-Core/dp/B06XRJXL3R',\n",
       "       'https://www.amazon.com/Samsung-Galaxy-J7-Contract-Smartphone/dp/B06XS2GWFC',\n",
       "       'https://www.amazon.com/Apple-iPhone-Plus-a1661-Renewed/dp/B06XS2X4XL',\n",
       "       'https://www.amazon.com/Apple-iPhone-Unlocked-Quad-Core-Smartphone/dp/B06XS4978K',\n",
       "       'https://www.amazon.com/Samsung-G550T-Unlocked-Galaxy-Smartphone/dp/B06XS98LMS',\n",
       "       'https://www.amazon.com/Samsung-Galaxy-G935A-Unlocked-Renewed/dp/B06XSF5C42',\n",
       "       'https://www.amazon.com/Samsung-Galaxy-S7-Active-Smartphone/dp/B06XW9RMYW',\n",
       "       'https://www.amazon.com/Samsung-Galaxy-Verizon-Wireless-Smartphone/dp/B06XY3KMSP',\n",
       "       'https://www.amazon.com/Samsung-Galaxy-SM-G950F-Unlocked-64GB/dp/B06XYMCMHD',\n",
       "       'https://www.amazon.com/Samsung-Galaxy-64GB-Unlocked-Phone/dp/B06XZPNYL7',\n",
       "       'https://www.amazon.com/Samsung-Galaxy-64GB-Phone-display/dp/B06XZPS351',\n",
       "       'https://www.amazon.com/Samsung-Galaxy-64GB-Unlocked-Phone/dp/B06XZRH5ZC',\n",
       "       'https://www.amazon.com/Samsung-Galaxy-64GB-Unlocked-Phone/dp/B06XZRMD1J',\n",
       "       'https://www.amazon.com/Samsung-Galaxy-T-Mobile-Unlocked-Smartphone/dp/B06XZRZ12Q',\n",
       "       'https://www.amazon.com/Huawei-VKY-L29-5-5-Inch-FACTORY-UNLOCKED/dp/B06XZWJDMS',\n",
       "       'https://www.amazon.com/Samsung-Galaxy-SM-G955U-Arctic-Silver/dp/B06XZWNRC5',\n",
       "       'https://www.amazon.com/Samsung-Galaxy-Factory-Unlocked-Smartphone/dp/B06Y14T5YW',\n",
       "       'https://www.amazon.com/Samsung-Galaxy-64GB-Unlocked-Phone/dp/B06Y15D68F',\n",
       "       'https://www.amazon.com/Samsung-Galaxy-64GB-Unlocked-Phone/dp/B06Y15D6RP',\n",
       "       'https://www.amazon.com/Samsung-Galaxy-64GB-Phone-display/dp/B06Y16521Q',\n",
       "       'https://www.amazon.com/Samsung-Galaxy-Factory-Unlocked-Smartphone/dp/B06Y16RL4W',\n",
       "       'https://www.amazon.com/Samsung-Galaxy-G950U-Unlocked-Phone/dp/B06Y17BL9Y',\n",
       "       'https://www.amazon.com/Samsung-Galaxy-64GB-Phone-display/dp/B06Y189H68',\n",
       "       'https://www.amazon.com/Samsung-Galaxy-G930T-T-Mobile-Unlocked/dp/B06Y18MNFG',\n",
       "       'https://www.amazon.com/Sony-Factory-Unlocked-International-Warranty/dp/B06Y196Z7N',\n",
       "       'https://www.amazon.com/Apple-iPhone-Gold-128-Refurbished/dp/B06Y1N3RH7',\n",
       "       'https://www.amazon.com/Sony-Xperia-XZ-Premium-Smartphone/dp/B06Y2GX8K8',\n",
       "       'https://www.amazon.com/Samsung-Galaxy-64GB-Verizon-Wireless/dp/B06Y3KRV1W',\n",
       "       'https://www.amazon.com/Moto-4th-Generation-Unlocked-T-Mobile/dp/B06ZZVZKTR',\n",
       "       'https://www.amazon.com/Verizon-Motorola-Carrier-Locked-Prepaid/dp/B0714DBSNH',\n",
       "       'https://www.amazon.com/Apple-iPhone-GSM-Unlocked-16GB/dp/B071HYPM5D',\n",
       "       'https://www.amazon.com/Apple-iPhone-GSM-Unlocked-32GB/dp/B071JCPSTX',\n",
       "       'https://www.amazon.com/Sony-Xperia-Ultra-Factory-Unlocked/dp/B071JP8XDJ',\n",
       "       'https://www.amazon.com/Samsung-SM-G928T-T-Mobile-Certified-Refurbished/dp/B071KGKFTF',\n",
       "       'https://www.amazon.com/Samsung-Galaxy-LTE-GSM-Unlocked/dp/B071KGTRG8',\n",
       "       'https://www.amazon.com/Apple-iPhone-GSM-Unlocked-32GB/dp/B071P9HZWW',\n",
       "       'https://www.amazon.com/Samsung-Unlocked-Quad-Core-Smartphone-Renewed/dp/B071P9NHSN',\n",
       "       'https://www.amazon.com/Verizon-Motorola-Carrier-Locked-Prepaid/dp/B071VTYHDQ',\n",
       "       'https://www.amazon.com/SAMSUNG-GALAXY-64GB-ORCHID-T-MOBILE/dp/B071XBFSPN',\n",
       "       'https://www.amazon.com/SAMSUNG-GALAXY-PLUS-64GB-ORCHID/dp/B071XBH5PL',\n",
       "       'https://www.amazon.com/Samsung-SM-G925T-T-Mobile-Certified-Refurbished/dp/B071XDPF13',\n",
       "       'https://www.amazon.com/Nokia-Unlocked-Smartphone-T-Mobile-MetroPCS/dp/B071ZDQ6MV',\n",
       "       'https://www.amazon.com/Google-Pixel-Quite-Black-32GB/dp/B071ZN4K8V',\n",
       "       'https://www.amazon.com/Samsung-Galaxy-Note-SM-N920T-Platinum/dp/B0721KVTMC',\n",
       "       'https://www.amazon.com/Wireless-HeadSet-Domestic-genuine-products%E3%80%91/dp/B0721RRM7C',\n",
       "       'https://www.amazon.com/Samsung-Galaxy-G930A-32GB-Black/dp/B0722NN2RG',\n",
       "       'https://www.amazon.com/Apple-iPad-Mini-Space-Refurbished/dp/B0728HMXFD',\n",
       "       'https://www.amazon.com/Google-Pixel-Unlocked-Smartphone-Carriers/dp/B072B7XSVT',\n",
       "       'https://www.amazon.com/Samsung-SM-J327-Mission-Prepaid-Carrier/dp/B072JN1H1X',\n",
       "       'https://www.amazon.com/Samsung-Galaxy-32GB-G930A-Refurbished/dp/B072KNNF33',\n",
       "       'https://www.amazon.com/Samsung-Galaxy-SM-G950U-Arctic-Silver/dp/B072MQ6RZV',\n",
       "       'https://www.amazon.com/Samsung-Galaxy-SM-G950U-Midnight-Black/dp/B072MQRRTR',\n",
       "       'https://www.amazon.com/Hotspot-E5573Cs-609-Unlocked-America-Countries/dp/B072N19DZR',\n",
       "       'https://www.amazon.com/Samsung-Galaxy-64GB-SM-G950U-Orchid/dp/B072QR6NKG',\n",
       "       'https://www.amazon.com/Samsung-Galaxy-Prime-Nougat-Unlocked/dp/B072V2BNM6',\n",
       "       'https://www.amazon.com/Motorola-XT1775-Moto-Unlocked-Smartphone/dp/B072ZWCKP5',\n",
       "       'https://www.amazon.com/Apple-iPhone-32GB-Rose-Renewed/dp/B0731HBTZ7',\n",
       "       'https://www.amazon.com/Apple-iPhone-6S-Unlocked-Refurbished/dp/B0731JJCRZ',\n",
       "       'https://www.amazon.com/Google-Pixel-Unlocked-Renewed-Silver/dp/B0731KVYPN',\n",
       "       'https://www.amazon.com/Samsung-Galaxy-Edge-G935T-T-Mobile/dp/B0731XJ4FB',\n",
       "       'https://www.amazon.com/Samsung-Galaxy-Edge-G935A-Coral/dp/B0733FPPDG',\n",
       "       'https://www.amazon.com/Motorola-XT1710-Factory-Unlocked-Global/dp/B073SBYMK7',\n",
       "       'https://www.amazon.com/Samsung-Galaxy-SM-G950UZVATMB-Certified-Refurbished/dp/B0741W8Y7S',\n",
       "       'https://www.amazon.com/Samsung-Galaxy-Unlocked-Quad-Core-Camera/dp/B0743N1S93',\n",
       "       'https://www.amazon.com/Apple-iPad-Mini-Space-Refurbished/dp/B0744W8WB2',\n",
       "       'https://www.amazon.com/Samsung-Galaxy-SM-G955UZBAATT-Certified-Refurbished/dp/B074JJ3NW5',\n",
       "       'https://www.amazon.com/Wireless-Samsung-Galaxy-S8-4G-LTE-Prepaid-Smartphone/dp/B074MJDYZM',\n",
       "       'https://www.amazon.com/Sony-Xperia-Factory-Unlocked-Phone/dp/B074P5FMG5',\n",
       "       'https://www.amazon.com/Motorola-XT1685-5-2-inches-Factory-Unlocked/dp/B074TD2H5K',\n",
       "       'https://www.amazon.com/Motorola-XT1806-Factory-Unlocked-Phone/dp/B074VDZZKW',\n",
       "       'https://www.amazon.com/Motorola-XT1806-Factory-Unlocked-Phone/dp/B074VF842B',\n",
       "       'https://www.amazon.com/Motorola-Moto-Factory-Unlocked-Phone/dp/B074VFRKZG',\n",
       "       'https://www.amazon.com/Motorola-Force-XT1789-Super-Black/dp/B074XF6JCD',\n",
       "       'https://www.amazon.com/Samsung-Galaxy-64GB-Phone-display/dp/B074ZMQHMQ',\n",
       "       'https://www.amazon.com/Motorola-Moto-Play-XT1710-06-International/dp/B0751KLN39',\n",
       "       'https://www.amazon.com/Apple-iPhone-SE-Unlocked-32GB/dp/B0751RGH6W',\n",
       "       'https://www.amazon.com/Apple-iPhone-GSM-Unlocked-32GB/dp/B0751TDNM3',\n",
       "       'https://www.amazon.com/Samsung-Galaxy-Unlocked-Android-Megapixel/dp/B07536MYBQ',\n",
       "       'https://www.amazon.com/Samsung-Unlocked-Lollipop-Certified-Refurbished/dp/B0753QKW5L',\n",
       "       'https://www.amazon.com/ZE554KL-S630-4G64G-WH-5-5-inch-Unlocked-Warranty-Moonlight/dp/B0756F2GJT',\n",
       "       'https://www.amazon.com/Nokia-TA-1037-Dual-Band-Unlocked-warranty/dp/B0757B64H2',\n",
       "       'https://www.amazon.com/Nokia-Unlocked-Smartphone-T-Mobile-MetroPCS/dp/B075FKVJV3',\n",
       "       'https://www.amazon.com/Nokia-3310-3G-Unlocked-T-Mobile/dp/B075FL4H89',\n",
       "       'https://www.amazon.com/Apple-iPhone-Plus-Unlocked-256GB/dp/B075FTXP6G',\n",
       "       'https://www.amazon.com/Apple-iPhone-Factory-Unlocked-Renewed/dp/B075FW7GZV',\n",
       "       'https://www.amazon.com/Samsung-Galaxy-S7-T-Mobile-Unlocked/dp/B075H3VWGN',\n",
       "       'https://www.amazon.com/Samsung-Galaxy-S7-SM-G930T-Unlocked/dp/B075MSFBJY',\n",
       "       'https://www.amazon.com/Samsung-Galaxy-S7-SM-G930T-Unlocked/dp/B075MSP5LH',\n",
       "       'https://www.amazon.com/Sony-Xperia-XA1-Plus-Smartphone/dp/B075QRTVNC',\n",
       "       'https://www.amazon.com/Motorola-Force-XT1789-Lunar-T-Mobile/dp/B075SKYZXY',\n",
       "       'https://www.amazon.com/Samsung-Galaxy-Unlocked-Smartphone-Camera/dp/B075WDMQG5',\n",
       "       'https://www.amazon.com/Apple-iPhone-AT-128GB-Refurbished/dp/B075WXQBRD',\n",
       "       'https://www.amazon.com/Samsung-Galaxy-Unlocked-Android-Megapixel/dp/B075Z8SFXM',\n",
       "       'https://www.amazon.com/Samsung-Galaxy-Unlocked-Version-Smartphone/dp/B075ZD2WFN',\n",
       "       'https://www.amazon.com/Samsung-Galaxy-Unlocked-Android-Megapixel/dp/B075ZGJMQY',\n",
       "       'https://www.amazon.com/Samsung-Galaxy-T-Mobile-Smartphone-Camera/dp/B075ZHJ1SK',\n",
       "       'https://www.amazon.com/Samsung-Galaxy-Unlocked-Version-Camera/dp/B075ZHWDN2',\n",
       "       'https://www.amazon.com/Apple-Unlocked-Cellphone-EXTENDED-Refurbished/dp/B0764JKDWS',\n",
       "       'https://www.amazon.com/Google-Pixel-Unlocked-64gb-Black/dp/B0766GHWM6',\n",
       "       'https://www.amazon.com/Google-Pixel-Unlocked-128gb-CDMA/dp/B0766HPGYP',\n",
       "       'https://www.amazon.com/Google-Unlocked-Octa-Core-12-2MP-Camera/dp/B0767538YH',\n",
       "       'https://www.amazon.com/Apple-iPhone-AT-64GB-Refurbished/dp/B07684BWYW',\n",
       "       'https://www.amazon.com/Nokia-TA-1036-Unlocked-Android-Phone/dp/B076BVNGZQ',\n",
       "       'https://www.amazon.com/Samsung-Galaxy-SM-N950U-Midnight-Unlocked/dp/B076CS3X2X',\n",
       "       'https://www.amazon.com/Samsung-Galaxy-S8-Certified-Refurbished/dp/B076HVSJQR',\n",
       "       'https://www.amazon.com/Motorola-Moto-XT171002-Verizon-Wireless/dp/B076HZDVN6',\n",
       "       'https://www.amazon.com/Samsung-SM-G955U-Midnight-Certified-Refurbished/dp/B076JJRZ3P',\n",
       "       'https://www.amazon.com/Samsung-Galaxy-S6-Octa-Core-Smartphone/dp/B076M93C6B',\n",
       "       'https://www.amazon.com/Samsung-Galaxy-64GB-Phone-Smartphone/dp/B076M9RQJ2',\n",
       "       'https://www.amazon.com/Google-Pixel-Silver-Certified-Refurbished/dp/B076MB4CYN',\n",
       "       'https://www.amazon.com/Samsung-Verizon-Wireless-Certified-Refurbished/dp/B076QJZR5V',\n",
       "       'https://www.amazon.com/Google-GA00139-US-Verizon-Wireless-Smartphone/dp/B076QKMQ81',\n",
       "       'https://www.amazon.com/Samsung-Unlocked-Midnight-Certified-Refurbished/dp/B076XLLCQC',\n",
       "       'https://www.amazon.com/Apple-iPhone-SE-Unlocked-16GB/dp/B0774T8DC6',\n",
       "       'https://www.amazon.com/Apple-iPhone-Plus-Fully-Unlocked/dp/B07751XZ5F',\n",
       "       'https://www.amazon.com/Apple-iPhone-Plus-Unlocked-64GB/dp/B07752FPVQ',\n",
       "       'https://www.amazon.com/Apple-iPhone-GSM-Unlocked-256GB/dp/B07753NSQZ',\n",
       "       'https://www.amazon.com/Apple-iPhone-GSM-Unlocked-64GB/dp/B077578VXH',\n",
       "       'https://www.amazon.com/Apple-iPhone-Fully-Unlocked-256GB/dp/B07757NY3X',\n",
       "       'https://www.amazon.com/Apple-iPhone-GSM-Unlocked-64GB/dp/B077583FPX',\n",
       "       'https://www.amazon.com/Apple-iPhone-GSM-Unlocked-256GB/dp/B077596D7L',\n",
       "       'https://www.amazon.com/Apple-iPhone-Fully-Unlocked-256GB/dp/B07759W12Z',\n",
       "       'https://www.amazon.com/Apple-iPhone-Plus-Unlocked-64GB/dp/B0775FLHPN',\n",
       "       'https://www.amazon.com/Modem-Huawei-Unlocked-Caribbean-Europe/dp/B0776ZJ1C3',\n",
       "       'https://www.amazon.com/Samsung-Galaxy-SM-N950U-Orchid-T-Mobile/dp/B07772QJ2G',\n",
       "       'https://www.amazon.com/Samsung-Galaxy-SM-N950U-Midnight-Unlocked/dp/B07773H2VQ',\n",
       "       'https://www.amazon.com/Samsung-Galaxy-Note-SM-N920T-T-Mobile/dp/B0777V5BRJ',\n",
       "       'https://www.amazon.com/Apple-iPhone-Plus-Fully-Unlocked/dp/B0778XYWD3',\n",
       "       'https://www.amazon.com/Samsung-Galaxy-Note-N950U-64GB/dp/B077BL94N3',\n",
       "       'https://www.amazon.com/Apple-iPhone-Plus-Fully-Unlocked/dp/B077BSYGB5',\n",
       "       'https://www.amazon.com/Google-Pixel-XL-Unlocked-CDMA/dp/B077CTDDQ6',\n",
       "       'https://www.amazon.com/Samsung-Galaxy-G930T-T-Mobile-Unlocked/dp/B077MR13HM',\n",
       "       'https://www.amazon.com/Apple-iPhone-Fully-Unlocked-256GB/dp/B077NJQPGB',\n",
       "       'https://www.amazon.com/Apple-iPhone-Fully-Unlocked-256GB/dp/B077NK4TZ7',\n",
       "       'https://www.amazon.com/Google-Pixel-Unlocked-Only-CDMA/dp/B077WSVG4Z',\n",
       "       'https://www.amazon.com/Apple-iPhone-GSM-Unlocked-128GB/dp/B077YT57R6',\n",
       "       'https://www.amazon.com/Nokia-Single-SIM-Polished-Blue/dp/B077Z1NXFB',\n",
       "       'https://www.amazon.com/Sony-Xperia-Ultra-Factory-Unlocked/dp/B077ZKKBDB',\n",
       "       'https://www.amazon.com/Sony-Xperia-Factory-Unlocked-Phone/dp/B077ZMWX1W',\n",
       "       'https://www.amazon.com/Google-Verizon-Unlocked-Certified-Refurbished/dp/B0781VQD66',\n",
       "       'https://www.amazon.com/Google-Pixel-64-Black-Refurbished/dp/B0787V183F',\n",
       "       'https://www.amazon.com/Samsung-Wireless-Charging-Certified-Refurbished/dp/B0788F8DKC',\n",
       "       'https://www.amazon.com/Samsung-Galaxy-S8-Plus-Unlocked/dp/B0788ZD69Z',\n",
       "       'https://www.amazon.com/Straight-Samsung-Galaxy-Prepaid-Smartphone/dp/B078BP86SC',\n",
       "       'https://www.amazon.com/Samsung-SM-T580-10-1-Inch-Touchscreen-International/dp/B078BY4P44',\n",
       "       'https://www.amazon.com/Samsung-Galaxy-S7-32gb-Gold/dp/B078HL31D8',\n",
       "       'https://www.amazon.com/Samsung-Galaxy-Note8-64GB-Verizon/dp/B078JR6L2S',\n",
       "       'https://www.amazon.com/Google-Unlocked-Octa-Core-12-2MP-Camera/dp/B078KGP5K5',\n",
       "       'https://www.amazon.com/Samsung-Galaxy-Unlocked-64GB-Refurbished/dp/B078N87QFD',\n",
       "       'https://www.amazon.com/Apple-iPhone-a1897-Unlocked-Renewed/dp/B078P23KVB',\n",
       "       'https://www.amazon.com/Motorola-XT1805-Factory-Unlocked-International/dp/B078RBVVCV',\n",
       "       'https://www.amazon.com/Huawei-Unlocked-Processor-Camera-Resistant/dp/B078T2T2FL',\n",
       "       'https://www.amazon.com/Samsung-Galaxy-64GB-Phone-Smartphone/dp/B078WJSWWN',\n",
       "       'https://www.amazon.com/Apple-iPhone-GSM-Unlocked-128GB/dp/B078WZ86Y9',\n",
       "       'https://www.amazon.com/Apple-iPhone-256GB-Unlocked-Renewed/dp/B078WZX9LD',\n",
       "       'https://www.amazon.com/Samsung-Galaxy-SM-G955U-T-Mobile-Renewed/dp/B078YWG75M',\n",
       "       'https://www.amazon.com/Samsung-SM-G950U-T-Mobile-Certified-Refurbished/dp/B078YX7N89',\n",
       "       'https://www.amazon.com/Samsung-SM-G950U-T-Mobile-Certified-Refurbished/dp/B078YX8S5N',\n",
       "       'https://www.amazon.com/Samsung-Galaxy-Plus-SM-G955U-Renewed/dp/B078YXJPRF',\n",
       "       'https://www.amazon.com/Samsung-Galaxy-SM-G950U-Certified-Refurbished/dp/B078YXKLC6',\n",
       "       'https://www.amazon.com/Samsung-Galaxy-SM-G950U-Certified-Refurbished/dp/B078YXKQSJ',\n",
       "       'https://www.amazon.com/Samsung-SM-G950U-T-Mobile-Certified-Refurbished/dp/B078YXPCJJ',\n",
       "       'https://www.amazon.com/Samsung-Galaxy-S8-Active-SM-G892A/dp/B078YXQ38Z',\n",
       "       'https://www.amazon.com/Samsung-Galaxy-Active-SM-G892A-Unlocked/dp/B078YY1SFC',\n",
       "       'https://www.amazon.com/ASUS-ZenFone-Plus-ZB570TL-MT67-3G32G-BK-1920x1080-3GB/dp/B07914FQ4R',\n",
       "       'https://www.amazon.com/Huawei-Mate-Factory-Unlocked-5-93/dp/B0791VS3N9',\n",
       "       'https://www.amazon.com/Samsung-Galaxy-G950U-T-Mobile-Unlocked/dp/B0792DWMS5',\n",
       "       'https://www.amazon.com/Sony-Factory-Unlocked-Smartphone-International/dp/B07946VKT8',\n",
       "       'https://www.amazon.com/Samsung-Galaxy-Edge-G935A-Unlocked/dp/B0799QJKQ5',\n",
       "       'https://www.amazon.com/Samsung-Galaxy-Active-SM-G892U-Sprint/dp/B079B34R7G',\n",
       "       'https://www.amazon.com/Google-Pixel-XL-Black-Renewed/dp/B079C1K282',\n",
       "       'https://www.amazon.com/Motorola-XT1789-T-Mobile-Certified-Refurbished/dp/B079C47CS4',\n",
       "       'https://www.amazon.com/Samsung-Galaxy-S9-Unlocked-Smartphone/dp/B079H6RLKQ',\n",
       "       'https://www.amazon.com/Apple-iPhone-GSM-Unlocked-32GB/dp/B079HB518K',\n",
       "       'https://www.amazon.com/Apple-iPhone-128-Black-Refurbished/dp/B079HC27HJ',\n",
       "       'https://www.amazon.com/Fullview-Dual-SIM-Fingerprint-FIG-L23-International/dp/B079HG7TZS',\n",
       "       'https://www.amazon.com/Pixel-XL-Unlocked-GSM-CDMA/dp/B079J59FGT',\n",
       "       'https://www.amazon.com/Google-Pixel-XL-Unlocked-CDMA/dp/B079J5MKXJ',\n",
       "       'https://www.amazon.com/Google-Pixel-128GB-Silver-Unlocked/dp/B079K78C1Y',\n",
       "       'https://www.amazon.com/Nokia-Unlocked-Smartphone-T-Mobile-Metropcs/dp/B079NM9SZL',\n",
       "       'https://www.amazon.com/Nokia-Unlocked-Smartphone-T-Mobile-MetroPCS/dp/B079NQHRPS',\n",
       "       'https://www.amazon.com/Huawei-Unlocked-H1711-Android-Desbloqueado/dp/B079PS2HZM',\n",
       "       'https://www.amazon.com/Samsung-Galaxy-SPRINT-Midnight-Black/dp/B079RJWMZG',\n",
       "       'https://www.amazon.com/Apple-iPhone-Fully-Unlocked-256GB/dp/B079RWXLBL',\n",
       "       'https://www.amazon.com/Samsung-Galaxy-Edge-G925T-Platinum/dp/B079TZ8NKG',\n",
       "       'https://www.amazon.com/Samsung-Galaxy-G925T-White-Pearl/dp/B079TZJF9F',\n",
       "       'https://www.amazon.com/Samsung-SM-G965F-Unlocked-Smartphone-Midnight/dp/B079X582LF',\n",
       "       'https://www.amazon.com/Fullview-Dual-SIM-Unlocked-Fingerprint-International/dp/B079YZMN3X',\n",
       "       'https://www.amazon.com/Moto-G6-Unlocked-T-Mobile-Warranty/dp/B079Z792J7',\n",
       "       'https://www.amazon.com/Sony-Xperia-Compact-Unlocked-Smartphone/dp/B07B81WJRQ',\n",
       "       'https://www.amazon.com/Sony-Xperia-XZ2-Unlocked-Smarphone/dp/B07B82VTX5',\n",
       "       'https://www.amazon.com/Samsung-Galaxy-S9-Smartphone-International/dp/B07BBRCZ37',\n",
       "       'https://www.amazon.com/Samsung-Galaxy-Dual-Smartphone-International/dp/B07BBRYWRY',\n",
       "       'https://www.amazon.com/Samsung-Galaxy-S9-AT-Locked/dp/B07BBT5MMD',\n",
       "       'https://www.amazon.com/Samsung-Galaxy-Smartphone-Lilac-Purple/dp/B07BBTLDJR',\n",
       "       'https://www.amazon.com/Samsung-Galaxy-S9-Smartphone-Midnight/dp/B07BBZJ8BX',\n",
       "       'https://www.amazon.com/Samsung-Eclipse-Verizon-Certified-Refurbished/dp/B07BDP5S59',\n",
       "       'https://www.amazon.com/Samsung-Verizon-Unlocked-Certified-Refurbished/dp/B07BFCFDXG',\n",
       "       'https://www.amazon.com/Samsung-Smartphone-Wireless-Certified-Refurbished/dp/B07BFHTJTK',\n",
       "       'https://www.amazon.com/Samsung-Galaxy-Note-64GB-Orchid/dp/B07BFPDGNX',\n",
       "       'https://www.amazon.com/Apple-iPhone-Dual-Core-Smartphone-Camera/dp/B07BGTCHW7',\n",
       "       'https://www.amazon.com/Huawei-Dual-SIM-Factory-Unlocked-Smartphone/dp/B07BHDMHR1',\n",
       "       'https://www.amazon.com/Samsung-Galaxy-SM-G9600-Factory-Unlocked/dp/B07BHT4KGM',\n",
       "       'https://www.amazon.com/Samsung-Galaxy-SM-G9650-Factory-Unlocked/dp/B07BHTLZZS',\n",
       "       'https://www.amazon.com/Apple-iPhone-GSM-Unlocked-64GB/dp/B07BKSBK9M',\n",
       "       'https://www.amazon.com/Samsung-Galaxy-Active-SM-G892A-Unlocked/dp/B07BR995NC',\n",
       "       'https://www.amazon.com/Samsung-SM-N950U-T-Mobile-Certified-Refurbished/dp/B07BSTPWTS',\n",
       "       'https://www.amazon.com/Samsung-Galaxy-Note-SM-N950U-Renewed/dp/B07BSWXZD5',\n",
       "       'https://www.amazon.com/Samsung-Galaxy-Note-SM-N950U-Renewed/dp/B07BSYQ534',\n",
       "       'https://www.amazon.com/Moto-Z3-Play-Power-Pack/dp/B07C2VFMN2',\n",
       "       'https://www.amazon.com/Samsung-Certified-Pre-Owned-Factory-Unlocked/dp/B07C57L57V',\n",
       "       'https://www.amazon.com/Huawei-P20-Lite-Unlocked-Smartphone/dp/B07C5HH17G',\n",
       "       'https://www.amazon.com/Sony-Xperia-Factory-Unlocked-Smartphone/dp/B07C5QBPYP',\n",
       "       'https://www.amazon.com/Samsung-Galaxy-S9-Unlocked-Midnight/dp/B07C65VV3R',\n",
       "       'https://www.amazon.com/Samsung-Galaxy-Unlocked-Certified-Refurbished/dp/B07C65XFBB',\n",
       "       'https://www.amazon.com/Apple-iPhone-Plus-Fully-Unlocked/dp/B07C7NFJMR',\n",
       "       'https://www.amazon.com/EML-L29-Display-Unlocked-International-Warranty/dp/B07CB315Y7',\n",
       "       'https://www.amazon.com/Samsung-Certified-Pre-Owned-Factory-Unlocked/dp/B07CFYMN1S',\n",
       "       'https://www.amazon.com/Huawei-Unlocked-T-Mobile-worldwide-Caribbean/dp/B07CGFWF2G',\n",
       "       'https://www.amazon.com/Apple-iPhone-Plus-Verizon-64GB/dp/B07CGMQDXW',\n",
       "       'https://www.amazon.com/Samsung-Verizon-Quad-Core-Camera-Renewed/dp/B07CH2FZW5',\n",
       "       'https://www.amazon.com/Motorola-XT1925-2-Unlocked-Smartphone-International/dp/B07CHW5KMY',\n",
       "       'https://www.amazon.com/Motorola-Moto-Plus-Smartphone-International/dp/B07CHWMYHP',\n",
       "       'https://www.amazon.com/ASUS-ZenFone-ZC600KL-S630-4G-64G-BK-2160x1080-Quad-camera/dp/B07CJ7DLHL',\n",
       "       'https://www.amazon.com/Samsung-Galaxy-SM-N920T-T-Mobile-Unlocked/dp/B07CJQKKYW',\n",
       "       'https://www.amazon.com/ASUS-ZenFone-5Z-ZS620KL-S845-6G64G-2160x1080/dp/B07CLT3BDN',\n",
       "       'https://www.amazon.com/ASUS-ZenFone-5Z-ZS620KL-S845-6G64G-2160x1080/dp/B07CLWGC3T',\n",
       "       'https://www.amazon.com/ASUS-ZenFone-Max-M1-ZB555KL-S425-2G16G-BK/dp/B07CM54RY8',\n",
       "       'https://www.amazon.com/Huawei-CLT-L29-6-1-inches-Factory-Unlocked/dp/B07CMMGLL3',\n",
       "       'https://www.amazon.com/Samsung-Galaxy-G930P-Prepaid-Mobile/dp/B07CQ28D33',\n",
       "       'https://www.amazon.com/Apple-iPhone-16GB-Unlocked-Phone/dp/B07CT1NTW1',\n",
       "       'https://www.amazon.com/Google-Pixel-64GB-Smartphone-Refurbished/dp/B07CT4JC7J',\n",
       "       'https://www.amazon.com/Samsung-Galaxy-GSM-Unlocked-Smartphone/dp/B07D4S6KF6',\n",
       "       'https://www.amazon.com/Apple-iPhone-AT-64GB-Refurbished/dp/B07D6TCG98',\n",
       "       'https://www.amazon.com/Xiaomi-Camera-Unlocked-Version-Warranty/dp/B07D856BVR',\n",
       "       'https://www.amazon.com/OnePlus-Factory-Unlocked-Phone-Screen/dp/B07D9TTLZG',\n",
       "       'https://www.amazon.com/Nokia-3-1-Unlocked-Smartphone-T-Mobile/dp/B07DD71K4D',\n",
       "       'https://www.amazon.com/Nokia-3-1-Unlocked-Smartphone-T-Mobile/dp/B07DDBQ67F',\n",
       "       'https://www.amazon.com/SM-A605GN-Octa-Core-Fingerprint-Factory-International/dp/B07DF8MFT3',\n",
       "       'https://www.amazon.com/Samsung-Galaxy-Active-SM-G892U-Meteor/dp/B07DFPGZ6N',\n",
       "       'https://www.amazon.com/Samsung-Galaxy-Sprint-Certified-Refurbished/dp/B07DP4V5PX',\n",
       "       'https://www.amazon.com/Apple-iPhone-GSM-Unlocked-16GB/dp/B07DVV3BJY',\n",
       "       'https://www.amazon.com/ASUS-ZenFone-Plus-ZB570-1920x1080-3GB/dp/B07DW9XMQC',\n",
       "       'https://www.amazon.com/Verizon-Prepaid-screen-fingerprint-Android/dp/B07DXJR9T5',\n",
       "       'https://www.amazon.com/Mobile-fingerprint-Android-Prepaid-Carrier/dp/B07DXPLJB2',\n",
       "       'https://www.amazon.com/Samsung-Unlocked-Midnight-Certified-Refurbished/dp/B07DY25LDW',\n",
       "       'https://www.amazon.com/Samsung-Galaxy-J8-64GB-Unlocked/dp/B07DZZKBBL',\n",
       "       'https://www.amazon.com/Huawei-FullView-Smartphone-Unlocked-International/dp/B07F2RX25J',\n",
       "       'https://www.amazon.com/Cameras-Display-Unlocked-Version-Warranty/dp/B07F3YGL26',\n",
       "       'https://www.amazon.com/Apple-Wi-Fi-Cellular-Space-Refurbished/dp/B07FKD3H9Q',\n",
       "       'https://www.amazon.com/Sony-Factory-Unlocked-Smartphone-International/dp/B07FKWT3JP',\n",
       "       'https://www.amazon.com/Motorola-Moto-G6-Play-16GB/dp/B07FMD7MRX',\n",
       "       'https://www.amazon.com/Samsung-Galaxy-S7-Edge-Refurbished/dp/B07FMFK1Q9',\n",
       "       'https://www.amazon.com/Samsung-Galaxy-S7-Edge-Refurbished/dp/B07FMHBMRJ',\n",
       "       'https://www.amazon.com/Xiaomi-64GB-Camera-AndroidOne-Smartphone/dp/B07FMPVBQR',\n",
       "       'https://www.amazon.com/Motorola-XT1924-4-Unlocked-International-Warranty/dp/B07FMZ9CMZ',\n",
       "       'https://www.amazon.com/Apple-iPhone-special-Product-A1897/dp/B07FRWH1R3',\n",
       "       'https://www.amazon.com/Samsung-J737T-Galaxy-Star-T-Mobile/dp/B07FS3RNFJ',\n",
       "       'https://www.amazon.com/Samsung-Galaxy-Note-SM-N920T-Platinum/dp/B07FXRR28W',\n",
       "       'https://www.amazon.com/Samsung-Galaxy-Factory-Unlocked-Warranty/dp/B07FZHHQB8',\n",
       "       'https://www.amazon.com/Huawei-Honor-Factory-Unlocked-Smartphone/dp/B07G2S7CT3',\n",
       "       'https://www.amazon.com/Samsung-Single-SIM-SM-N960F-Unlocked-Smartphone/dp/B07G3T73J5',\n",
       "       'https://www.amazon.com/Samsung-Galaxy-J7-Refine-Prepaid/dp/B07G4G6C2L',\n",
       "       'https://www.amazon.com/Samsung-Galaxy-32GB-J810M-DS/dp/B07G5NL6RB',\n",
       "       'https://www.amazon.com/XIAOMI-CAMERA-SCREEN-VERSION-WARRANTY/dp/B07G7JQCNX',\n",
       "       'https://www.amazon.com/Motorola-Moto-Factory-Unlocked-Phone/dp/B07G7N1MD2',\n",
       "       'https://www.amazon.com/Xiaomi-6-64GB-Factory-Unlocked-Smartphone/dp/B07G7QZKBG',\n",
       "       'https://www.amazon.com/Xiaomi-Lite-64GB-5-84-International/dp/B07G8VPHG3',\n",
       "       'https://www.amazon.com/Samsung-SM-N960F-DS-sAMOLED-Unlocked/dp/B07GCBWWPL',\n",
       "       'https://www.amazon.com/Samsung-Galaxy-Factory-Unlocked-Lavender/dp/B07GDTHH2H',\n",
       "       'https://www.amazon.com/Motorola-Moto-G4-Plus-Unlocked/dp/B07GGGTT78',\n",
       "       'https://www.amazon.com/Apple-iPhone-Fully-Unlocked-Refurbished/dp/B07GNQ9221',\n",
       "       'https://www.amazon.com/ASUS-ZS600KL-S845-8G128G-Smartphone-2160x1080-Display/dp/B07GS272K7',\n",
       "       'https://www.amazon.com/Asus-ZenFone-Memory-Unlocked-Midnight/dp/B07GVLKNB4',\n",
       "       'https://www.amazon.com/Motorola-MOTXT192917-Unlocked-Droid-Capable/dp/B07GVNHQV4',\n",
       "       'https://www.amazon.com/Samsung-Galaxy-T-Mobile-Unlocked-Smartphone/dp/B07GW1DXFP',\n",
       "       'https://www.amazon.com/Samsung-Galaxy-Note-N920A-Unlocked/dp/B07GWV23X7',\n",
       "       'https://www.amazon.com/ASUS-ZenFone-Smartphone-Exclusive-Refurbished/dp/B07GX1DBD9',\n",
       "       'https://www.amazon.com/Samsung-SM-J737UZKAXAA-Factory-Unlocked-Smartphone/dp/B07GY3NJY9',\n",
       "       'https://www.amazon.com/Samsung-Galaxy-Factory-Unlocked-Smartphone/dp/B07GYK8MBD',\n",
       "       'https://www.amazon.com/Samsung-Galaxy-Active-64GB-SM-G892A/dp/B07GYYT1LK',\n",
       "       'https://www.amazon.com/Samsung-DS-Factory-Unlocked-Smartphone/dp/B07GZS32JK',\n",
       "       'https://www.amazon.com/Samsung-Galaxy-Plus-G955U-Phone/dp/B07H3FZ9DV',\n",
       "       'https://www.amazon.com/Xiaomi-Pocophone-Graphite-Unlocked-Warranty/dp/B07H41NB46',\n",
       "       'https://www.amazon.com/Xiaomi-Redmi-Unlocked-Smartphone-International/dp/B07H7SBBWQ',\n",
       "       'https://www.amazon.com/Samsung-Factory-Unlocked-Caribbean-SM-J260M/dp/B07H8Q3C9T',\n",
       "       'https://www.amazon.com/Motorola-Moto-Fingerprint-Sensor-XT1920-19/dp/B07H8SBLBC',\n",
       "       'https://www.amazon.com/Samsung-Galaxy-Unlocked-Cellairis-Protector/dp/B07HC3CSMR',\n",
       "       'https://www.amazon.com/Samsung-Enterprise-Unlocked-Cellairis-Protector/dp/B07HC74RMG',\n",
       "       'https://www.amazon.com/Samsung-Galaxy-Note-N920A-Black/dp/B07HCQ8VDQ',\n",
       "       'https://www.amazon.com/Nokia-7-1-Unlocked-Smartphone-T-Mobile/dp/B07HD2X91Q',\n",
       "       'https://www.amazon.com/Samsung-Galaxy-Note-Smartphone-Refurbished/dp/B07HFHX6HX',\n",
       "       'https://www.amazon.com/Motorola-Unlocked-Android-Smartphone-Blush/dp/B07HFKWDK7',\n",
       "       'https://www.amazon.com/OnePlus-6T-A6013-128GB-Mirror/dp/B07HH9ZD4Y',\n",
       "       'https://www.amazon.com/Nokia-Unlocked-Smartphone-T-Mobile-MetroPCS/dp/B07HHQ2K9J',\n",
       "       'https://www.amazon.com/Nokia-Unlocked-Smartphone-T-Mobile-MetroPCS/dp/B07HHRF89L',\n",
       "       'https://www.amazon.com/Xiaomi-Factory-Unlocked-Smartphone-Version/dp/B07HK4JNV1',\n",
       "       'https://www.amazon.com/Pixel-Phone-3-128GB-Certified-Refurbished/dp/B07HKPBTVV',\n",
       "       'https://www.amazon.com/Pixel-Phone-XL-Certified-Refurbished/dp/B07HKPMFZ5',\n",
       "       'https://www.amazon.com/Motorola-Unlocked-Cricket-XT1921-2-Desbloqueado/dp/B07HMC84L1',\n",
       "       'https://www.amazon.com/Sony-H3123-SBH-90C-Accessory-Bluetooth/dp/B07HQTWQVT',\n",
       "       'https://www.amazon.com/Samsung-Galaxy-Plus-Verizon-Unlocked/dp/B07HRXB728',\n",
       "       'https://www.amazon.com/Samsung-Galaxy-G955U-Phone-Display/dp/B07HWYWPN7',\n",
       "       'https://www.amazon.com/Verizon-Wireless-Prepaid-Motorola-No-Contract/dp/B07HXHPNKH',\n",
       "       'https://www.amazon.com/Samsung-Galaxy-S9-SM-G960U-T-Mobile/dp/B07J1Q8P6G',\n",
       "       'https://www.amazon.com/Samsung-Galaxy-Verizon-Unlocked-Midnight/dp/B07J2Q68N4',\n",
       "       'https://www.amazon.com/Huawei-SNE-LX3-Factory-Unlocked-International/dp/B07J4Z9647',\n",
       "       'https://www.amazon.com/Motorola-Moto-G6-Verizon-Warranty/dp/B07J58XN6D',\n",
       "       'https://www.amazon.com/Samsung-Certified-Wireless-Compatible-Smartphones/dp/B07J5GH52Q',\n",
       "       'https://www.amazon.com/Motorola-Force-Super-Black-Unlocked/dp/B07J62YCWB',\n",
       "       'https://www.amazon.com/Huawei-Dual-SIM-Unlocked-Smartphone-Midnight/dp/B07JB4Q9W8',\n",
       "       'https://www.amazon.com/Samsung-Wi-Fi-Smartwatch-Resistant-Renewed/dp/B07JFTCMV3',\n",
       "       'https://www.amazon.com/Huawei-JKM-LX3-HiSilicon-Fingerprint-Glonass/dp/B07JGVYVK8',\n",
       "       'https://www.amazon.com/Samsung-Galaxy-Note-N950U-64GB/dp/B07JML1XPT',\n",
       "       'https://www.amazon.com/Xiaomi-Display-Snapdragon-Cameras-Unlocked/dp/B07JMPGNHK',\n",
       "       'https://www.amazon.com/Samsung-Unlocked-Military-Grade-Smartphone-Shatter-Resistant/dp/B07JRDXXK6',\n",
       "       'https://www.amazon.com/Google-Pixel-Factory-Unlocked-White/dp/B07JVC2JNQ',\n",
       "       'https://www.amazon.com/Samsung-Certified-Pre-Owned-Factory-Unlocked/dp/B07JZRFHTP',\n",
       "       'https://www.amazon.com/Samsung-Certified-Pre-Owned-Factory-Unlocked/dp/B07JZRL7N5',\n",
       "       'https://www.amazon.com/Huawei-Mate-20-HMA-L29-128GB/dp/B07JZXVS9D',\n",
       "       'https://www.amazon.com/Huawei-Mate-LYA-L29-128GB-International/dp/B07K1M36CM',\n",
       "       'https://www.amazon.com/Motorola-XT1765-Smartphone-Android-T-Mobile/dp/B07K1MFQ7S',\n",
       "       'https://www.amazon.com/Samsung-Galaxy-2018-16GB-J737A/dp/B07K2FZYKV',\n",
       "       'https://www.amazon.com/Moto-E4-Verizon-Prepaid-Smartphone/dp/B07K2HWC9V',\n",
       "       'https://www.amazon.com/Google-Pixel-XL-Just-Black/dp/B07K3X5JTP',\n",
       "       'https://www.amazon.com/Samsung-Galaxy-S8-Unlocked-64GB/dp/B07K4F5759',\n",
       "       'https://www.amazon.com/Samsung-Galaxy-Active-SM-G892U-Unlocked/dp/B07K4TRTDV',\n",
       "       'https://www.amazon.com/Apple-iPhone-XS-Fully-Unlocked/dp/B07K4V35TJ',\n",
       "       'https://www.amazon.com/Screen-Fingerprint-Cameras-Display-Unlocked/dp/B07K64PTLP',\n",
       "       'https://www.amazon.com/Apple-iPhone-MAX-64GB-Refurbished/dp/B07K8TVZ3J',\n",
       "       'https://www.amazon.com/Samsung-SM-J727T-Smartphone-Android-T-Mobile/dp/B07KCPMMF7',\n",
       "       'https://www.amazon.com/Samsung-Galaxy-N960U-128GB-T-Mobile/dp/B07KCQHWTN',\n",
       "       'https://www.amazon.com/Apple-iPhone-Max-Fully-Unlocked/dp/B07KFN43WC',\n",
       "       'https://www.amazon.com/Motorola-Moto-XT1650-03-Factory-Unlocked/dp/B07KGHN2ZB',\n",
       "       'https://www.amazon.com/Samsung-Carrier-Branded-Unlocked-Renewed/dp/B07KJM21TB',\n",
       "       'https://www.amazon.com/SAMSUNG-Galaxy-2018-SM-A920F-Dual/dp/B07KKP8G1Q',\n",
       "       'https://www.amazon.com/SAMSUNG-Galaxy-NOTE9-512GB-Ocean/dp/B07KLXX29N',\n",
       "       'https://www.amazon.com/Huawei-Display-Battery-Unlocked-HMA-L29/dp/B07KMFRPR1',\n",
       "       'https://www.amazon.com/Samsung-Factory-Unlocked-Warranty-Midnight/dp/B07KNB1TN8',\n",
       "       'https://www.amazon.com/Samsung-Galaxy-A710M-Unlocked-Smartphone/dp/B07KQNCDP3',\n",
       "       'https://www.amazon.com/Samsung-Electronics-Factory-Unlocked-Phone/dp/B07KSFL2K5',\n",
       "       'https://www.amazon.com/Nokia-Plus-TA-1046-Dual-Black/dp/B07KWDTVR4',\n",
       "       'https://www.amazon.com/Samsung-Galaxy-Infinity-U-Display-Warranty/dp/B07KWX9GNJ',\n",
       "       'https://www.amazon.com/Samsung-Galaxy-G960U-Unlocked-64GB/dp/B07KX73JJL',\n",
       "       'https://www.amazon.com/Google-Pixel-Unlocked-GSM-CDMA/dp/B07KX8DXW8',\n",
       "       'https://www.amazon.com/Motorola-Android-Factory-Unlocked-Phone/dp/B07KYGHQ1X',\n",
       "       'https://www.amazon.com/Huawei-Honor-Factory-Unlocked-Smartphone/dp/B07L14D7F7',\n",
       "       'https://www.amazon.com/Samsung-Galaxy-SM-G955U-Midnight-Renewed/dp/B07L1CG9BD',\n",
       "       'https://www.amazon.com/Google-Pixel-Unlocked-GSM-CDMA/dp/B07L375RS6',\n",
       "       'https://www.amazon.com/Motorola-Moto-G6-MOTXT192512-Smartphone/dp/B07L44WY1F',\n",
       "       'https://www.amazon.com/Huawei-Honor-Factory-Unlocked-Smartphone/dp/B07L4WRXXT',\n",
       "       'https://www.amazon.com/Samsung-Galaxy-2018-16GB-J337A/dp/B07L543G3M',\n",
       "       'https://www.amazon.com/Google-Pixel-Factory-Unlocked-Renewed/dp/B07L6RCH5W',\n",
       "       'https://www.amazon.com/Samsung-SM-J810F-DS-Unlocked-Smartphone/dp/B07L759TFQ',\n",
       "       'https://www.amazon.com/Nokia-6-1-Unlocked-Smartphone-T-Mobile/dp/B07LBPP4J9',\n",
       "       'https://www.amazon.com/Samsung-Galaxy-SM-N960U-128GB-Ocean/dp/B07LDS3WDR',\n",
       "       'https://www.amazon.com/Samsung-Galaxy-Unlocked-Smartphone-Carriers/dp/B07LDVW8G8',\n",
       "       'https://www.amazon.com/Samsung-Galaxy-J337A-Unlocked-Camera/dp/B07M94R4GF',\n",
       "       'https://www.amazon.com/Motorola-XT1921-Unlocked-Android-Camera/dp/B07MCMGHB5',\n",
       "       'https://www.amazon.com/Motorola-Moto-One-Smartphone-International/dp/B07MF3JM4T',\n",
       "       'https://www.amazon.com/Motorola-G6-Unlocked-T-Mobile-PAAE0000US/dp/B07MF3Y8Y5',\n",
       "       'https://www.amazon.com/Samsung-Galaxy-SM-N900T-T-Mobile-Renewed/dp/B07MGC6WVV',\n",
       "       'https://www.amazon.com/ASUS-ZenFone-ZC600KL-S630-4G-64G-BK-2160x1080-Quad-camera/dp/B07MK93MVZ',\n",
       "       'https://www.amazon.com/Samsung-S6-Unlocked-Octa-Core-Smartphone/dp/B07MLBF9VS',\n",
       "       'https://www.amazon.com/Motorola-Factory-Unlocked-International-Warranty/dp/B07MN8QTK1',\n",
       "       'https://www.amazon.com/Samsung-Galaxy-Note9-Verizon-Renewed/dp/B07MR1PF21',\n",
       "       'https://www.amazon.com/Moto-Play-Memory-Prepaid-Phone/dp/B07MY7XPNZ',\n",
       "       'https://www.amazon.com/Sony-Xperia-Plus-Unlocked-Smartphone/dp/B07MZ2TRTC',\n",
       "       'https://www.amazon.com/Nokia-PureView-Unlocked-Smartphone-T-Mobile/dp/B07N11SM58',\n",
       "       'https://www.amazon.com/Samsung-Galaxy-2018-16GB-J737A/dp/B07N2GXR7K',\n",
       "       'https://www.amazon.com/Samsung-Galaxy-Factory-Unlocked-Phone/dp/B07N4M412B',\n",
       "       'https://www.amazon.com/ASUS-ZenFone-Max-M1-ZB555KL-S425-2G16G-BK/dp/B07N5MGYPS',\n",
       "       'https://www.amazon.com/Xiaomi-Unlocked-Multi-Functional-Magnetic-Smartphone/dp/B07N6N7JP3',\n",
       "       'https://www.amazon.com/Samsung-Galaxy-Android-T-Mobile-Smartphone/dp/B07N7M2P59',\n",
       "       'https://www.amazon.com/Samsung-Galaxy-SM-N960U-Unlocked-Renewed/dp/B07N7M7VBV',\n",
       "       'https://www.amazon.com/Moto-G7-Unlocked-Warranty-T-Mobile/dp/B07N91S9MW',\n",
       "       'https://www.amazon.com/Motorola-Play-Nano-SIM-Phone-Camera/dp/B07N9LN3RC',\n",
       "       'https://www.amazon.com/Moto-G7-Unlocked-Warranty-T-Mobile/dp/B07N9M9FX4',\n",
       "       'https://www.amazon.com/Dewdrop-Display-Battery-Unlocked-Smartphone/dp/B07NDL1D58',\n",
       "       'https://www.amazon.com/HUAWEI-Smart-Pot-LX3-Unlocked-Camera/dp/B07NGDHMKL',\n",
       "       'https://www.amazon.com/Samsung-Galaxy-Factory-Unlocked-Renewed/dp/B07NGNPX4J',\n",
       "       'https://www.amazon.com/ASUS-ZenFone-ZB631KL-6-3-inches-Unlocked/dp/B07NL58M5L',\n",
       "       'https://www.amazon.com/AT-Prepaid-Samsung-Express-Memory/dp/B07NLBGSY5',\n",
       "       'https://www.amazon.com/Samsung-Smartphone-Android-Certified-Refurbished/dp/B07NLLFGTL',\n",
       "       'https://www.amazon.com/Apple-6S-Plus-Unlocked-Smartphone/dp/B07NMVTJPG',\n",
       "       'https://www.amazon.com/Samsung-A50-Display-Unlocked-International/dp/B07NNVLH1D',\n",
       "       'https://www.amazon.com/Motorola-Unlocked-Smartphone-International-Model/dp/B07NP2Y82Q',\n",
       "       'https://www.amazon.com/Motorola-Unlocked-Smartphone-International-Model/dp/B07NP3RD5H',\n",
       "       'https://www.amazon.com/Motorola-Unlocked-Smartphone-International-Model/dp/B07NPRQYP1',\n",
       "       'https://www.amazon.com/Motorola-Factory-Unlocked-International-XT1955-4/dp/B07NQGV37P',\n",
       "       'https://www.amazon.com/Samsung-Galaxy-G965U-Midnight-Black/dp/B07NQNJ8XK',\n",
       "       'https://www.amazon.com/Samsung-Certified-Pre-Owned-Factory-Unlocked/dp/B07NRCRFVJ',\n",
       "       'https://www.amazon.com/Motorola-Moto-Play-XT1929-3-Indigo/dp/B07NVWSTHP',\n",
       "       'https://www.amazon.com/Samsung-SM-G975F-Dual-SIM-Unlocked-Smartphone/dp/B07NWKP41X',\n",
       "       'https://www.amazon.com/Moto-X4-Android-One-Unlocked/dp/B07NYBD9DW',\n",
       "       'https://www.amazon.com/Nokia-Unlocked-Smartphone-T-Mobile-MetroPCS/dp/B07NZ98856',\n",
       "       'https://www.amazon.com/Samsung-S10e-Unlocked-Smartphone-International/dp/B07NZVM3RN',\n",
       "       'https://www.amazon.com/Xiaomi-Display-Snapdragon-Factory-Unlocked/dp/B07NZVV9PL',\n",
       "       'https://www.amazon.com/Samsung-SM-G975F-Unlocked-Smartphone-International/dp/B07NZX5BKH',\n",
       "       'https://www.amazon.com/Samsung-SM-G973F-DS-Smartphone-International/dp/B07NZXXZB2',\n",
       "       'https://www.amazon.com/Apple-iPhone-XR-Fully-Unlocked/dp/B07P6Y7954',\n",
       "       'https://www.amazon.com/Apple-iPhone-XR-Fully-Unlocked/dp/B07P6Y8L3F',\n",
       "       'https://www.amazon.com/Google-Pixel-Memory-Phone-Unlocked/dp/B07P8MQHSH',\n",
       "       'https://www.amazon.com/Samsung-Galaxy-SM-G9650-Factory-Unlocked/dp/B07PC21HKM',\n",
       "       'https://www.amazon.com/MRD-LX3-Dewdrop-Fingerprint-Unlocked-Warranty/dp/B07PGWBKR2',\n",
       "       'https://www.amazon.com/Sony-Unlocked-Smartphone-CinemaWide-Display/dp/B07PHQ7FBP',\n",
       "       'https://www.amazon.com/Samsung-Factory-Unlocked-Warranty-Renewed/dp/B07PJV9ZLR',\n",
       "       'https://www.amazon.com/Samsung-Galaxy-J737T-T-Mobile-Android/dp/B07PLLZRHC',\n",
       "       'https://www.amazon.com/Motorola-XT1921-3-T-Mobile-Smartphone-Android/dp/B07PN7FV4L',\n",
       "       'https://www.amazon.com/Samsung-Galaxy-Verizon-Unlocked-Android/dp/B07PPB4Y7S',\n",
       "       'https://www.amazon.com/Sony-Xperia-Plus-i4293-Black/dp/B07PPZQHPV',\n",
       "       'https://www.amazon.com/OnePlus-A6013-128GB-Mirror-Black/dp/B07PQSYGKB',\n",
       "       'https://www.amazon.com/Moto-Z3-Play-Unlocked-Warranty/dp/B07PR1Z2BF',\n",
       "       'https://www.amazon.com/Nokia-Mobile-5-1-Plus-Smartphone/dp/B07PRSPD3Q',\n",
       "       'https://www.amazon.com/Samsung-A50-SM-A505G-Unlocked-International/dp/B07PV68K73',\n",
       "       'https://www.amazon.com/Xiaomi-Unlocked-Smartphone-International-Warranty/dp/B07PXV5GXJ',\n",
       "       'https://www.amazon.com/Xiaomi-Redmi-Note-Snapdragon-Black/dp/B07PY52GVP',\n",
       "       'https://www.amazon.com/HUAWEI-Factory-Unlocked-International-Version/dp/B07Q2WPMNB',\n",
       "       'https://www.amazon.com/Samsung-Galaxy-Edge-G935A-Unlocked/dp/B07Q3XHJWL',\n",
       "       'https://www.amazon.com/Samsung-M30-Radiation-Extended-Unlocked/dp/B07Q3ZPWQM',\n",
       "       'https://www.amazon.com/Samsung-Galaxy-S8-G950U-64GB/dp/B07Q61VVDC',\n",
       "       'https://www.amazon.com/Xiaomi-Factory-Unlocked-Smartphone-Warranty/dp/B07Q6ZZ4S1',\n",
       "       'https://www.amazon.com/Samsung-A10-Infinity-V-Unlocked-Smartphone/dp/B07Q84DPZH',\n",
       "       'https://www.amazon.com/Samsung-T-Mobile-Unlocked-Midnight-Renewed/dp/B07QB9HMLF',\n",
       "       'https://www.amazon.com/Xiaomi-Factory-Unlocked-Smartphone-Warranty/dp/B07QCCW5KB',\n",
       "       'https://www.amazon.com/Samsung-Galaxy-M105M-Unlocked-Camera/dp/B07QCQ9JRH',\n",
       "       'https://www.amazon.com/Xiaomi-Unlocked-Smartphone-Global-Version/dp/B07QCXPP71',\n",
       "       'https://www.amazon.com/Samsung-Galaxy-M20-Unlocked-Cameras/dp/B07QDP1YCJ',\n",
       "       'https://www.amazon.com/Huawei-Honor-Factory-Unlocked-Smartphone/dp/B07QDVJRY6',\n",
       "       'https://www.amazon.com/Samsung-Galaxy-N960U-T-Mobile-Unlocked/dp/B07QFFSQFN',\n",
       "       'https://www.amazon.com/Samsung-Galaxy-M20-Unlocked-Camera/dp/B07QFS3L4G',\n",
       "       'https://www.amazon.com/Samsung-Factory-Unlocked-Caribbean-SM-J260M/dp/B07QG4FJ8Z',\n",
       "       'https://www.amazon.com/Samsung-Galaxy-T-Mobile-Unlocked-Renewed/dp/B07QGG4654',\n",
       "       'https://www.amazon.com/Xiaomi-Factory-Unlocked-Smartphone-Version/dp/B07QJCY1SF',\n",
       "       'https://www.amazon.com/Xiaomi-Display-Snapdragon-Unlocked-Smartphone/dp/B07QJDF611',\n",
       "       'https://www.amazon.com/Xiaomi-Factory-Unlocked-Smartphone-Warranty/dp/B07QK32C8M',\n",
       "       'https://www.amazon.com/Samsung-SM-A705F-Dual-SIM-6-7-Inch-Smartphone/dp/B07QN78KC6',\n",
       "       'https://www.amazon.com/Motorola-XT1955-2-Unlocked-Smartphone-International/dp/B07QP7WZ1T',\n",
       "       'https://www.amazon.com/Motorola-XT1941-3-Unlocked-Dual-SIM-Megapixel/dp/B07QP9CSFT',\n",
       "       'https://www.amazon.com/Huawei-ELE-L29-Hybrid-Unlocked-Triple/dp/B07QQDZ5SN',\n",
       "       'https://www.amazon.com/Nokia-4-2-Unlocked-Smartphone-T-Mobile/dp/B07QTLB1D9',\n",
       "       'https://www.amazon.com/Samsung-DS-Unlocked-Smartphone-International/dp/B07QV2JKGQ',\n",
       "       'https://www.amazon.com/Motorola-Unlocked-Smartphone-International-Warranty/dp/B07QWNFKFF',\n",
       "       'https://www.amazon.com/Samsung-Infinity-U-Unlocked-International-Warranty/dp/B07QZSD327',\n",
       "       'https://www.amazon.com/Samsung-A10-Unlocked-International-Infinity-V/dp/B07QZZZ7RR',\n",
       "       'https://www.amazon.com/Samsung-Galaxy-G965U-Unlocked-Camera/dp/B07R3FCNCZ',\n",
       "       'https://www.amazon.com/Xiaomi-64GB-6GB-RAM-Resolution/dp/B07R4PP7FF',\n",
       "       'https://www.amazon.com/Xiaomi-128GB-6GB-RAM-Resolution/dp/B07R5ZYR77',\n",
       "       'https://www.amazon.com/Google-Pixel-Memory-Phone-Unlocked/dp/B07R7DY911',\n",
       "       'https://www.amazon.com/Moto-Z4-Unlocked-Warranty-PAF60007US/dp/B07RB78W37',\n",
       "       'https://www.amazon.com/OnePlus-Factory-Unlocked-Verizon-Tmobile/dp/B07RCXCPV5',\n",
       "       'https://www.amazon.com/Samsung-Galaxy-Edge-G935P-SM-G935P/dp/B07RN984G5',\n",
       "       'https://www.amazon.com/Samsung-A70-Infinity-U-Smartphone-International/dp/B07RS512XL',\n",
       "       'https://www.amazon.com/Samsung-Galaxy-SM-J337V-Eclipse-Verizon/dp/B07RXLTVTP',\n",
       "       'https://www.amazon.com/OnePlus-Storage-Memory-Display-Android/dp/B07RYBGNDQ',\n",
       "       'https://www.amazon.com/Samsung-Galaxy-N960U-T-Mobile-Unlocked/dp/B07RZ8QFV1',\n",
       "       'https://www.amazon.com/Huawei-Display-Factory-Unlocked-MAR-LX3A/dp/B07S41W46Y',\n",
       "       'https://www.amazon.com/Motorola-Display-Factory-Unlocked-XT1970-1/dp/B07SBJPYLW',\n",
       "       'https://www.amazon.com/Samsung-Galaxy-DS-Unlocked-Smartphone/dp/B07SCJNSRT',\n",
       "       'https://www.amazon.com/Samsung-A10-Infinity-V-Display-Unlocked/dp/B07SD888PR',\n",
       "       'https://www.amazon.com/Xiaomi-Mi-9T-Factory-Unlocked/dp/B07SQ2JZTF',\n",
       "       'https://www.amazon.com/Samsung-Galaxy-DS-Unlocked-Smartphone/dp/B07SQFPZZM',\n",
       "       'https://www.amazon.com/Samsung-Galaxy-Verizon-Unlocked-Renewed/dp/B07SRD6SVX',\n",
       "       'https://www.amazon.com/Nokia-2-2-Unlocked-Smartphone-T-Mobile/dp/B07SWFLKYW',\n",
       "       'https://www.amazon.com/Apple-Retina-Display-Cellular-Renewed/dp/B07SWR8QZL',\n",
       "       'https://www.amazon.com/Motorola-Unlocked-Smartphone-International-XT1952-2/dp/B07T2MQ7MP',\n",
       "       'https://www.amazon.com/Samsung-SM-A205GDS-Infinity-V-Unlocked-International/dp/B07TDC7BKR',\n",
       "       'https://www.amazon.com/Xiaomi-AMOLED-Display-Factory-Unlocked/dp/B07TRPH8SD',\n",
       "       'https://www.amazon.com/Google-Pixel-Memory-Unlocked-Renewed/dp/B07TTJTDQ9',\n",
       "       'https://www.amazon.com/Samsung-A80-Rotating-Snapdragon-Unlocked/dp/B07V4TQDZ8',\n",
       "       'https://www.amazon.com/Samsung-Galaxy-Factory-Unlocked-Warranty/dp/B07V5KS95Y',\n",
       "       'https://www.amazon.com/Samsung-A80-SM-A805F-Factory-Unlocked/dp/B07V5RGNJK',\n",
       "       'https://www.amazon.com/Motorola-Unlocked-Smartphone-International-XT1955-2/dp/B07V682K4N',\n",
       "       'https://www.amazon.com/Xiaomi-64GB-Triple-Camera-Smartphone/dp/B07VD3JH2C',\n",
       "       'https://www.amazon.com/Xiaomi-Mi-A3-International-Version/dp/B07VXKDVKM',\n",
       "       'https://www.amazon.com/Display-Cameras-4000mAh-Battery-Unlocked/dp/B07VYP6VLS',\n",
       "       'https://www.amazon.com/Samsung-Unlocked-SM-A505UZKNXAA-Warranty-Compatible/dp/B07VZL1W7K',\n",
       "       'https://www.amazon.com/Apple-iPhone-XS-512GB-Gold/dp/B07WFJ6HRF',\n",
       "       'https://www.amazon.com/Samsung-A50-Display-Factory-Unlocked/dp/B07WKSVF6X',\n",
       "       'https://www.amazon.com/Samsung-Galaxy-S9-Display-Resistance/dp/B07WVRJQ7V',\n",
       "       'https://www.amazon.com/Motorola-Vision-Display-Factory-Unlocked/dp/B07WXKWDT2',\n",
       "       'https://www.amazon.com/Honor-Unlocked-Smartphone-Warranty-Renewed/dp/B07X51T2VK'],\n",
       "      dtype=object)"
      ]
     },
     "execution_count": 24,
     "metadata": {},
     "output_type": "execute_result"
    }
   ],
   "source": [
    "df[\"url\"].unique()"
   ]
  },
  {
   "cell_type": "code",
   "execution_count": 25,
   "metadata": {},
   "outputs": [
    {
     "data": {
      "text/plain": [
       "array([nan, '$49.95', '$78.99', '$99.99', '$59.89', '$99.95', '$149.95',\n",
       "       '$79.00', '$79.99', '$59.95', '$59.99', '$109.99', '$118.80',\n",
       "       '$189.95', '$89.00', '$389.28', '$181.49', '$168.96', '$164.92',\n",
       "       '$99.00', '$84.94', '$230.59', '$183.44', '$165.59',\n",
       "       '$142.99,$239.00', '$209.65', '$159.01', '$142.99', '$133.99',\n",
       "       '$169.00', '$339.99', '$494.99', '$89.95', '$239.99', '$219.99',\n",
       "       '$157.99', '$214.50', '$159.99', '$199.99', '$28.69', '$169.93',\n",
       "       '$184.01,$199.99', '$256.57', '$249.99', '$229.99',\n",
       "       '$322.50,$339.47', '$158.00', '$199.00', '$80.00', '$125.55',\n",
       "       '$169.99', '$153.00', '$79.95', '$159.95', '$149.99', '$516.43',\n",
       "       '$159.00', '$155.99', '$198.94', '$104.00', '$154.95', '$119.00',\n",
       "       '$139.98', '$151.99', '$139.99', '$129.99', '$130.00', '$109.50',\n",
       "       '$78.74', '$279.99', '$110.95', '$323.98', '$112.95', '$671.46',\n",
       "       '$319.99', '$138.00', '$179.99,$659.99', '$145.00',\n",
       "       '$99.00,$179.99', '$95.00', '$142.14', '$299.99',\n",
       "       '$124.99,$139.99', '$54.99', '$165.42', '$138.99', '$149.00',\n",
       "       '$69.49', '$94.99', '$114.99', '$147.72,$249.99', '$259.98',\n",
       "       '$355.99', '$135.98', '$139.89', '$279.00', '$140.55', '$161.99',\n",
       "       '$219.53', '$114.40', '$123.99', '$185.49', '$135.55',\n",
       "       '$128.00,$329.99', '$179.99', '$169.95', '$269.99', '$227.99',\n",
       "       '$217.99', '$145.99', '$208.95', '$88.95', '$189.00', '$240.00',\n",
       "       '$199.95', '$194.99,$299.99', '$144.00', '$191.98',\n",
       "       '$267.00,$399.99', '$132.99', '$124.55', '$200.00', '$69.95',\n",
       "       '$168.99', '$128.95', '$212.00', '$375.55,$449.99', '$194.95',\n",
       "       '$245.00,$399.99', '$195.54', '$207.95', '$167.95', '$72.97',\n",
       "       '$130.95', '$84.95', '$122.50', '$389.95', '$104.96', '$102.97',\n",
       "       '$144.95', '$150.95', '$298.69', '$136.00', '$101.00',\n",
       "       '$175.99,$271.84', '$389.99', '$324.99', '$339.00', '$184.83',\n",
       "       '$259.99', '$339.04,$499.99', '$409.00', '$499.99',\n",
       "       '$429.40,$589.99', '$910.37', '$234.95', '$219.95', '$667.16',\n",
       "       '$127.94', '$174.00', '$155.00', '$134.98', '$129.00,$179.00',\n",
       "       '$107.70', '$279.55,$399.99', '$91.99,$99.99', '$139.00',\n",
       "       '$294.95', '$290.00', '$48.00', '$299.00,$477.95', '$198.98',\n",
       "       '$212.99', '$152.00', '$112.36', '$188.95', '$215.00', '$264.95',\n",
       "       '$270.95', '$759.99', '$175.00', '$199.98', '$289.95', '$189.99',\n",
       "       '$124.41', '$450.99,$899.99', '$125.95', '$259.00', '$49.99',\n",
       "       '$94.11,$99.00', '$56.15,$59.00', '$399.99', '$164.99', '$454.99',\n",
       "       '$373.99', '$393.99', '$679.00', '$69.99', '$440.95', '$263.00',\n",
       "       '$289.00', '$255.00', '$107.55', '$309.10', '$108.99', '$479.99',\n",
       "       '$436.00,$549.99', '$373.50', '$373.00,$549.99', '$689.99',\n",
       "       '$480.00,$549.99', '$465.00', '$24.50', '$349.00', '$334.55',\n",
       "       '$195.00', '$421.98', '$536.58', '$339.87', '$369.99', '$292.00',\n",
       "       '$299.00', '$249.00', '$150.00', '$213.30', '$32.95', '$243.30',\n",
       "       '$359.00', '$499.00', '$269.00', '$486.94,$599.99', '$187.00',\n",
       "       '$414.99', '$258.71', '$289.99', '$248.99', '$249.98', '$270.70',\n",
       "       '$237.38', '$255.00,$349.99', '$247.99', '$260.00', '$274.99',\n",
       "       '$179.00,$229.00', '$269.95', '$250.00', '$492.70,$599.99',\n",
       "       '$119.99', '$436.00', '$189.99,$249.99', '$459.00', '$477.50',\n",
       "       '$332.99,$449.99', '$349.99', '$174.99', '$449.94', '$692.14',\n",
       "       '$559.99,$699.99', '$321.99', '$316.99', '$348.35',\n",
       "       '$299.99,$499.99', '$300.00', '$209.99', '$364.85', '$359.47',\n",
       "       '$328.99', '$449.00', '$268.07', '$22.99', '$557.99', '$83.99',\n",
       "       '$129.60,$129.99', '$191.05,$191.43', '$199.00,$299.00',\n",
       "       '$169.00,$299.99', '$349.00,$499.00', '$359.00,$499.00', '$454.49',\n",
       "       '$195.95', '$105.00', '$288.99', '$299.95', '$162.50,$249.99',\n",
       "       '$520.22', '$109.95', '$146.48', '$239.95', '$312.94', '$304.95',\n",
       "       '$84.99', '$129.95', '$139.95', '$332.99', '$231.99', '$96.54',\n",
       "       '$267.71', '$198.99', '$210.99', '$160.00', '$129.99,$199.99',\n",
       "       '$159.72', '$1,149.99,$1,249.99', '$124.99', '$549.95',\n",
       "       '$149.00,$159.99', '$152.49', '$99.99,$129.99', '$135.00',\n",
       "       '$153.49', '$639.50,$849.99', '$129.00', '$165.55',\n",
       "       '$698.99,$899.99', '$87.98', '$284.95', '$326.89', '$134.00',\n",
       "       '$92.00', '$360.85', '$874.18', '$279.99,$349.99', '$314.99',\n",
       "       '$451.49', '$98.95', '$172.49', '$390.00', '$425.00', '$125.99',\n",
       "       '$440.42', '$330.99', '$469.90', '$193.99,$299.99', '$121.99',\n",
       "       '$23.99', '$777.43', '$199.96', '$192.49', '$372.38,$400.00',\n",
       "       '$349.95', '$592.85', '$540.00', '$87.59', '$598.97,$899.00',\n",
       "       '$247.20', '$284.00', '$789.00', '$340.00', '$944.99',\n",
       "       '$1,000.00,$1,399.99', '$329.99,$499.99', '$664.95', '$452.92',\n",
       "       '$349.17', '$250.94', '$328.00', '$379.99', '$274.25,$349.99',\n",
       "       '$172.44', '$285.00', '$400.00', '$117.00,$129.99', '$419.99',\n",
       "       '$88.98', '$167.99,$249.99', '$119.96', '$137.99', '$494.95',\n",
       "       '$77.00', '$378.00,$429.99', '$570.00,$699.00', '$110.00',\n",
       "       '$799.99,$899.99', '$364.90', '$254.99', '$550.95',\n",
       "       '$249.99,$299.99', '$160.28,$199.99', '$150.00,$179.99', '$519.00',\n",
       "       '$89.99,$99.99', '$207.99', '$242.00', '$229.27',\n",
       "       '$192.99,$299.99', '$192.99', '$419.95', '$452.49,$547.49',\n",
       "       '$815.00', '$344.45', '$79.00,$99.00', '$535.00', '$68.00',\n",
       "       '$774.50,$899.99', '$695.00', '$618.95,$749.99', '$579.99',\n",
       "       '$475.99,$799.00', '$125.00,$149.99', '$879.15,$949.99', '$629.95',\n",
       "       '$70.99', '$170.00', '$327.95', '$300.96', '$199.99,$349.99',\n",
       "       '$182.00', '$809.99', '$190.00', '$205.00', '$133.50,$179.99',\n",
       "       '$519.95', '$149.99,$199.99', '$675.95', '$189.75', '$103.74',\n",
       "       '$534.00', '$405.00', '$179.64', '$150.88', '$549.00,$599.99',\n",
       "       '$188.18', '$203.07', '$131.90', '$384.00', '$413.90', '$829.00',\n",
       "       '$346.70', '$309.99', '$310.00', '$128.00', '$132.98', '$344.50',\n",
       "       '$128.99', '$498.43', '$143.99', '$163.95', '$399.00', '$480.99',\n",
       "       '$1,199.99', '$479.79', '$188.99', '$187.72', '$211.96',\n",
       "       '$999.95,$1,349.99', '$304.99', '$519.99', '$74.99'], dtype=object)"
      ]
     },
     "execution_count": 25,
     "metadata": {},
     "output_type": "execute_result"
    }
   ],
   "source": [
    "df[\"prices\"].unique()"
   ]
  },
  {
   "cell_type": "code",
   "execution_count": 26,
   "metadata": {},
   "outputs": [
    {
     "data": {
      "text/plain": [
       "447"
      ]
     },
     "execution_count": 26,
     "metadata": {},
     "output_type": "execute_result"
    }
   ],
   "source": [
    "df[\"prices\"].nunique()"
   ]
  },
  {
   "cell_type": "code",
   "execution_count": 27,
   "metadata": {
    "scrolled": true
   },
   "outputs": [
    {
     "name": "stdout",
     "output_type": "stream",
     "text": [
      "1\n",
      "['Google']\n",
      "None\n"
     ]
    }
   ],
   "source": [
    "print(df[\"brand\"][df[\"totalReviews\"] == df[\"totalReviews\"].max()].nunique())\n",
    "print(print(df[\"brand\"][df[\"totalReviews\"] == df[\"totalReviews\"].max()].unique()))"
   ]
  },
  {
   "cell_type": "code",
   "execution_count": 28,
   "metadata": {},
   "outputs": [
    {
     "name": "stdout",
     "output_type": "stream",
     "text": [
      "7\n",
      "['Samsung' 'Motorola' 'Google' 'Sony' 'Xiaomi' 'Apple' 'ASUS']\n",
      "None\n"
     ]
    }
   ],
   "source": [
    "print(df[\"brand\"][df[\"rating\"] == df[\"rating\"].max()].nunique())\n",
    "print(print(df[\"brand\"][df[\"rating\"] == df[\"rating\"].max()].unique()))"
   ]
  },
  {
   "cell_type": "code",
   "execution_count": 29,
   "metadata": {},
   "outputs": [
    {
     "name": "stdout",
     "output_type": "stream",
     "text": [
      "9\n",
      "['Sony' 'Motorola' 'Samsung' 'Apple' 'HUAWEI' 'OnePlus' 'Xiaomi' 'ASUS'\n",
      " 'Google']\n",
      "None\n"
     ]
    }
   ],
   "source": [
    "print(df[\"brand\"][df[\"totalReviews\"] == df[\"totalReviews\"].min()].nunique())\n",
    "print(print(df[\"brand\"][df[\"totalReviews\"] == df[\"totalReviews\"].min()].unique()))"
   ]
  },
  {
   "cell_type": "code",
   "execution_count": 30,
   "metadata": {},
   "outputs": [
    {
     "name": "stdout",
     "output_type": "stream",
     "text": [
      "4\n",
      "['Motorola' 'Samsung' 'Apple' 'OnePlus']\n",
      "None\n"
     ]
    }
   ],
   "source": [
    "print(df[\"brand\"][df[\"rating\"] == df[\"rating\"].min()].nunique())\n",
    "print(print(df[\"brand\"][df[\"rating\"] == df[\"rating\"].min()].unique()))"
   ]
  },
  {
   "cell_type": "code",
   "execution_count": 31,
   "metadata": {},
   "outputs": [
    {
     "data": {
      "text/html": [
       "<div>\n",
       "<style scoped>\n",
       "    .dataframe tbody tr th:only-of-type {\n",
       "        vertical-align: middle;\n",
       "    }\n",
       "\n",
       "    .dataframe tbody tr th {\n",
       "        vertical-align: top;\n",
       "    }\n",
       "\n",
       "    .dataframe thead th {\n",
       "        text-align: right;\n",
       "    }\n",
       "</style>\n",
       "<table border=\"1\" class=\"dataframe\">\n",
       "  <thead>\n",
       "    <tr style=\"text-align: right;\">\n",
       "      <th></th>\n",
       "      <th>brand</th>\n",
       "      <th>prices</th>\n",
       "    </tr>\n",
       "  </thead>\n",
       "  <tbody>\n",
       "    <tr>\n",
       "      <td>352</td>\n",
       "      <td>Google</td>\n",
       "      <td>$107.70</td>\n",
       "    </tr>\n",
       "  </tbody>\n",
       "</table>\n",
       "</div>"
      ],
      "text/plain": [
       "      brand   prices\n",
       "352  Google  $107.70"
      ]
     },
     "execution_count": 31,
     "metadata": {},
     "output_type": "execute_result"
    }
   ],
   "source": [
    "df[[\"brand\", \"prices\"]][df[\"totalReviews\"] == df[\"totalReviews\"].max()]"
   ]
  },
  {
   "cell_type": "code",
   "execution_count": 32,
   "metadata": {},
   "outputs": [],
   "source": [
    "df[\"rating/review\"] = df[\"rating\"]/df[\"totalReviews\"]"
   ]
  },
  {
   "cell_type": "code",
   "execution_count": 33,
   "metadata": {},
   "outputs": [
    {
     "data": {
      "text/plain": [
       "(792, 10)"
      ]
     },
     "execution_count": 33,
     "metadata": {},
     "output_type": "execute_result"
    }
   ],
   "source": [
    "df.shape"
   ]
  },
  {
   "cell_type": "code",
   "execution_count": 34,
   "metadata": {},
   "outputs": [
    {
     "data": {
      "text/html": [
       "<div>\n",
       "<style scoped>\n",
       "    .dataframe tbody tr th:only-of-type {\n",
       "        vertical-align: middle;\n",
       "    }\n",
       "\n",
       "    .dataframe tbody tr th {\n",
       "        vertical-align: top;\n",
       "    }\n",
       "\n",
       "    .dataframe thead th {\n",
       "        text-align: right;\n",
       "    }\n",
       "</style>\n",
       "<table border=\"1\" class=\"dataframe\">\n",
       "  <thead>\n",
       "    <tr style=\"text-align: right;\">\n",
       "      <th></th>\n",
       "      <th>asin</th>\n",
       "      <th>brand</th>\n",
       "      <th>title</th>\n",
       "      <th>url</th>\n",
       "      <th>image</th>\n",
       "      <th>rating</th>\n",
       "      <th>reviewUrl</th>\n",
       "      <th>totalReviews</th>\n",
       "      <th>prices</th>\n",
       "      <th>rating/review</th>\n",
       "    </tr>\n",
       "  </thead>\n",
       "  <tbody>\n",
       "    <tr>\n",
       "      <td>0</td>\n",
       "      <td>B0000SX2UC</td>\n",
       "      <td>Nokia</td>\n",
       "      <td>Dual-Band / Tri-Mode Sprint PCS Phone w/ Voice...</td>\n",
       "      <td>https://www.amazon.com/Dual-Band-Tri-Mode-Acti...</td>\n",
       "      <td>https://m.media-amazon.com/images/I/2143EBQ210...</td>\n",
       "      <td>3.0</td>\n",
       "      <td>https://www.amazon.com/product-reviews/B0000SX2UC</td>\n",
       "      <td>14</td>\n",
       "      <td>NaN</td>\n",
       "      <td>0.214286</td>\n",
       "    </tr>\n",
       "    <tr>\n",
       "      <td>1</td>\n",
       "      <td>B0009N5L7K</td>\n",
       "      <td>Motorola</td>\n",
       "      <td>Motorola I265 phone</td>\n",
       "      <td>https://www.amazon.com/Motorola-i265-I265-phon...</td>\n",
       "      <td>https://m.media-amazon.com/images/I/419WBAVDAR...</td>\n",
       "      <td>2.9</td>\n",
       "      <td>https://www.amazon.com/product-reviews/B0009N5L7K</td>\n",
       "      <td>7</td>\n",
       "      <td>$49.95</td>\n",
       "      <td>0.414286</td>\n",
       "    </tr>\n",
       "    <tr>\n",
       "      <td>2</td>\n",
       "      <td>B000SKTZ0S</td>\n",
       "      <td>Motorola</td>\n",
       "      <td>MOTOROLA C168i AT&amp;T CINGULAR PREPAID GOPHONE C...</td>\n",
       "      <td>https://www.amazon.com/MOTOROLA-C168i-CINGULAR...</td>\n",
       "      <td>https://m.media-amazon.com/images/I/71b+q3ydkI...</td>\n",
       "      <td>2.6</td>\n",
       "      <td>https://www.amazon.com/product-reviews/B000SKTZ0S</td>\n",
       "      <td>22</td>\n",
       "      <td>NaN</td>\n",
       "      <td>0.118182</td>\n",
       "    </tr>\n",
       "    <tr>\n",
       "      <td>3</td>\n",
       "      <td>B00198M12M</td>\n",
       "      <td>Nokia</td>\n",
       "      <td>Nokia 6500 Slide Black/silver Unlocked Cell Phone</td>\n",
       "      <td>https://www.amazon.com/Nokia-6500-Slide-silver...</td>\n",
       "      <td>https://m.media-amazon.com/images/I/41ss4HpLkL...</td>\n",
       "      <td>2.4</td>\n",
       "      <td>https://www.amazon.com/product-reviews/B00198M12M</td>\n",
       "      <td>5</td>\n",
       "      <td>NaN</td>\n",
       "      <td>0.480000</td>\n",
       "    </tr>\n",
       "    <tr>\n",
       "      <td>4</td>\n",
       "      <td>B001AO4OUC</td>\n",
       "      <td>Motorola</td>\n",
       "      <td>Motorola i335 Cell Phone Boost Mobile</td>\n",
       "      <td>https://www.amazon.com/Motorola-i335-Phone-Boo...</td>\n",
       "      <td>https://m.media-amazon.com/images/I/710UO8gdT+...</td>\n",
       "      <td>3.3</td>\n",
       "      <td>https://www.amazon.com/product-reviews/B001AO4OUC</td>\n",
       "      <td>21</td>\n",
       "      <td>NaN</td>\n",
       "      <td>0.157143</td>\n",
       "    </tr>\n",
       "  </tbody>\n",
       "</table>\n",
       "</div>"
      ],
      "text/plain": [
       "         asin     brand                                              title  \\\n",
       "0  B0000SX2UC     Nokia  Dual-Band / Tri-Mode Sprint PCS Phone w/ Voice...   \n",
       "1  B0009N5L7K  Motorola                                Motorola I265 phone   \n",
       "2  B000SKTZ0S  Motorola  MOTOROLA C168i AT&T CINGULAR PREPAID GOPHONE C...   \n",
       "3  B00198M12M     Nokia  Nokia 6500 Slide Black/silver Unlocked Cell Phone   \n",
       "4  B001AO4OUC  Motorola              Motorola i335 Cell Phone Boost Mobile   \n",
       "\n",
       "                                                 url  \\\n",
       "0  https://www.amazon.com/Dual-Band-Tri-Mode-Acti...   \n",
       "1  https://www.amazon.com/Motorola-i265-I265-phon...   \n",
       "2  https://www.amazon.com/MOTOROLA-C168i-CINGULAR...   \n",
       "3  https://www.amazon.com/Nokia-6500-Slide-silver...   \n",
       "4  https://www.amazon.com/Motorola-i335-Phone-Boo...   \n",
       "\n",
       "                                               image  rating  \\\n",
       "0  https://m.media-amazon.com/images/I/2143EBQ210...     3.0   \n",
       "1  https://m.media-amazon.com/images/I/419WBAVDAR...     2.9   \n",
       "2  https://m.media-amazon.com/images/I/71b+q3ydkI...     2.6   \n",
       "3  https://m.media-amazon.com/images/I/41ss4HpLkL...     2.4   \n",
       "4  https://m.media-amazon.com/images/I/710UO8gdT+...     3.3   \n",
       "\n",
       "                                           reviewUrl  totalReviews  prices  \\\n",
       "0  https://www.amazon.com/product-reviews/B0000SX2UC            14     NaN   \n",
       "1  https://www.amazon.com/product-reviews/B0009N5L7K             7  $49.95   \n",
       "2  https://www.amazon.com/product-reviews/B000SKTZ0S            22     NaN   \n",
       "3  https://www.amazon.com/product-reviews/B00198M12M             5     NaN   \n",
       "4  https://www.amazon.com/product-reviews/B001AO4OUC            21     NaN   \n",
       "\n",
       "   rating/review  \n",
       "0       0.214286  \n",
       "1       0.414286  \n",
       "2       0.118182  \n",
       "3       0.480000  \n",
       "4       0.157143  "
      ]
     },
     "execution_count": 34,
     "metadata": {},
     "output_type": "execute_result"
    }
   ],
   "source": [
    "df.head()"
   ]
  },
  {
   "cell_type": "code",
   "execution_count": 35,
   "metadata": {},
   "outputs": [],
   "source": [
    "df1 = df.groupby(by='brand').count()"
   ]
  },
  {
   "cell_type": "code",
   "execution_count": 36,
   "metadata": {},
   "outputs": [
    {
     "data": {
      "image/png": "[encoded data removed]",
      "text/plain": [
       "<Figure size 432x288 with 1 Axes>"
      ]
     },
     "metadata": {
      "needs_background": "light"
     },
     "output_type": "display_data"
    }
   ],
   "source": [
    "df1[\"totalReviews\"].plot(kind='bar')\n",
    "plt.title(\"Graph On Brand vs total reviews\")\n",
    "plt.ylabel(\"total reviews\")\n",
    "plt.xlabel(\"Brand\")\n",
    "plt.show()"
   ]
  },
  {
   "cell_type": "code",
   "execution_count": 37,
   "metadata": {},
   "outputs": [
    {
     "data": {
      "image/png": "[encoded data removed]",
      "text/plain": [
       "<Figure size 432x288 with 1 Axes>"
      ]
     },
     "metadata": {
      "needs_background": "light"
     },
     "output_type": "display_data"
    }
   ],
   "source": [
    "sns.lineplot(x=df[\"rating\"], y=df[\"totalReviews\"])\n",
    "plt.title(\"Graph On Rating vs total reviews\")\n",
    "plt.ylabel(\"total reviews\")\n",
    "plt.xlabel(\"Ratings\")\n",
    "plt.show()"
   ]
  },
  {
   "cell_type": "code",
   "execution_count": 38,
   "metadata": {},
   "outputs": [
    {
     "data": {
      "text/html": [
       "<div>\n",
       "<style scoped>\n",
       "    .dataframe tbody tr th:only-of-type {\n",
       "        vertical-align: middle;\n",
       "    }\n",
       "\n",
       "    .dataframe tbody tr th {\n",
       "        vertical-align: top;\n",
       "    }\n",
       "\n",
       "    .dataframe thead th {\n",
       "        text-align: right;\n",
       "    }\n",
       "</style>\n",
       "<table border=\"1\" class=\"dataframe\">\n",
       "  <thead>\n",
       "    <tr style=\"text-align: right;\">\n",
       "      <th></th>\n",
       "      <th>asin</th>\n",
       "      <th>title</th>\n",
       "      <th>url</th>\n",
       "      <th>image</th>\n",
       "      <th>rating</th>\n",
       "      <th>reviewUrl</th>\n",
       "      <th>totalReviews</th>\n",
       "      <th>prices</th>\n",
       "      <th>rating/review</th>\n",
       "    </tr>\n",
       "    <tr>\n",
       "      <th>brand</th>\n",
       "      <th></th>\n",
       "      <th></th>\n",
       "      <th></th>\n",
       "      <th></th>\n",
       "      <th></th>\n",
       "      <th></th>\n",
       "      <th></th>\n",
       "      <th></th>\n",
       "      <th></th>\n",
       "    </tr>\n",
       "  </thead>\n",
       "  <tbody>\n",
       "    <tr>\n",
       "      <td>ASUS</td>\n",
       "      <td>13</td>\n",
       "      <td>13</td>\n",
       "      <td>13</td>\n",
       "      <td>13</td>\n",
       "      <td>13</td>\n",
       "      <td>13</td>\n",
       "      <td>13</td>\n",
       "      <td>11</td>\n",
       "      <td>13</td>\n",
       "    </tr>\n",
       "    <tr>\n",
       "      <td>Apple</td>\n",
       "      <td>101</td>\n",
       "      <td>101</td>\n",
       "      <td>101</td>\n",
       "      <td>101</td>\n",
       "      <td>101</td>\n",
       "      <td>101</td>\n",
       "      <td>101</td>\n",
       "      <td>94</td>\n",
       "      <td>101</td>\n",
       "    </tr>\n",
       "    <tr>\n",
       "      <td>Google</td>\n",
       "      <td>33</td>\n",
       "      <td>33</td>\n",
       "      <td>33</td>\n",
       "      <td>33</td>\n",
       "      <td>33</td>\n",
       "      <td>33</td>\n",
       "      <td>33</td>\n",
       "      <td>26</td>\n",
       "      <td>33</td>\n",
       "    </tr>\n",
       "    <tr>\n",
       "      <td>HUAWEI</td>\n",
       "      <td>36</td>\n",
       "      <td>36</td>\n",
       "      <td>36</td>\n",
       "      <td>36</td>\n",
       "      <td>36</td>\n",
       "      <td>36</td>\n",
       "      <td>36</td>\n",
       "      <td>29</td>\n",
       "      <td>36</td>\n",
       "    </tr>\n",
       "    <tr>\n",
       "      <td>Motorola</td>\n",
       "      <td>100</td>\n",
       "      <td>100</td>\n",
       "      <td>100</td>\n",
       "      <td>100</td>\n",
       "      <td>100</td>\n",
       "      <td>100</td>\n",
       "      <td>100</td>\n",
       "      <td>69</td>\n",
       "      <td>100</td>\n",
       "    </tr>\n",
       "    <tr>\n",
       "      <td>Nokia</td>\n",
       "      <td>49</td>\n",
       "      <td>49</td>\n",
       "      <td>49</td>\n",
       "      <td>49</td>\n",
       "      <td>49</td>\n",
       "      <td>49</td>\n",
       "      <td>49</td>\n",
       "      <td>31</td>\n",
       "      <td>49</td>\n",
       "    </tr>\n",
       "    <tr>\n",
       "      <td>OnePlus</td>\n",
       "      <td>7</td>\n",
       "      <td>7</td>\n",
       "      <td>7</td>\n",
       "      <td>7</td>\n",
       "      <td>7</td>\n",
       "      <td>7</td>\n",
       "      <td>7</td>\n",
       "      <td>5</td>\n",
       "      <td>7</td>\n",
       "    </tr>\n",
       "    <tr>\n",
       "      <td>Samsung</td>\n",
       "      <td>397</td>\n",
       "      <td>397</td>\n",
       "      <td>397</td>\n",
       "      <td>397</td>\n",
       "      <td>397</td>\n",
       "      <td>397</td>\n",
       "      <td>397</td>\n",
       "      <td>264</td>\n",
       "      <td>397</td>\n",
       "    </tr>\n",
       "    <tr>\n",
       "      <td>Sony</td>\n",
       "      <td>29</td>\n",
       "      <td>29</td>\n",
       "      <td>29</td>\n",
       "      <td>29</td>\n",
       "      <td>29</td>\n",
       "      <td>29</td>\n",
       "      <td>29</td>\n",
       "      <td>21</td>\n",
       "      <td>29</td>\n",
       "    </tr>\n",
       "    <tr>\n",
       "      <td>Xiaomi</td>\n",
       "      <td>27</td>\n",
       "      <td>27</td>\n",
       "      <td>27</td>\n",
       "      <td>27</td>\n",
       "      <td>27</td>\n",
       "      <td>27</td>\n",
       "      <td>27</td>\n",
       "      <td>27</td>\n",
       "      <td>27</td>\n",
       "    </tr>\n",
       "  </tbody>\n",
       "</table>\n",
       "</div>"
      ],
      "text/plain": [
       "          asin  title  url  image  rating  reviewUrl  totalReviews  prices  \\\n",
       "brand                                                                        \n",
       "ASUS        13     13   13     13      13         13            13      11   \n",
       "Apple      101    101  101    101     101        101           101      94   \n",
       "Google      33     33   33     33      33         33            33      26   \n",
       "HUAWEI      36     36   36     36      36         36            36      29   \n",
       "Motorola   100    100  100    100     100        100           100      69   \n",
       "Nokia       49     49   49     49      49         49            49      31   \n",
       "OnePlus      7      7    7      7       7          7             7       5   \n",
       "Samsung    397    397  397    397     397        397           397     264   \n",
       "Sony        29     29   29     29      29         29            29      21   \n",
       "Xiaomi      27     27   27     27      27         27            27      27   \n",
       "\n",
       "          rating/review  \n",
       "brand                    \n",
       "ASUS                 13  \n",
       "Apple               101  \n",
       "Google               33  \n",
       "HUAWEI               36  \n",
       "Motorola            100  \n",
       "Nokia                49  \n",
       "OnePlus               7  \n",
       "Samsung             397  \n",
       "Sony                 29  \n",
       "Xiaomi               27  "
      ]
     },
     "execution_count": 38,
     "metadata": {},
     "output_type": "execute_result"
    }
   ],
   "source": [
    "df1"
   ]
  },
  {
   "cell_type": "code",
   "execution_count": 39,
   "metadata": {},
   "outputs": [],
   "source": [
    "df1 = df.groupby(by='brand').mean()"
   ]
  },
  {
   "cell_type": "code",
   "execution_count": 40,
   "metadata": {},
   "outputs": [
    {
     "data": {
      "text/plain": [
       "brand\n",
       "ASUS         38.769231\n",
       "Apple       118.039604\n",
       "Google      122.090909\n",
       "HUAWEI       82.555556\n",
       "Motorola     88.150000\n",
       "Nokia       117.428571\n",
       "OnePlus      80.428571\n",
       "Samsung     104.937028\n",
       "Sony        116.689655\n",
       "Xiaomi      109.185185\n",
       "Name: totalReviews, dtype: float64"
      ]
     },
     "execution_count": 40,
     "metadata": {},
     "output_type": "execute_result"
    }
   ],
   "source": [
    "df1[\"totalReviews\"]"
   ]
  },
  {
   "cell_type": "code",
   "execution_count": 41,
   "metadata": {},
   "outputs": [
    {
     "data": {
      "text/plain": [
       "brand\n",
       "ASUS        3.776923\n",
       "Apple       3.527723\n",
       "Google      3.763636\n",
       "HUAWEI      4.019444\n",
       "Motorola    3.528000\n",
       "Nokia       3.322449\n",
       "OnePlus     3.342857\n",
       "Samsung     3.573300\n",
       "Sony        3.731034\n",
       "Xiaomi      4.337037\n",
       "Name: rating, dtype: float64"
      ]
     },
     "execution_count": 41,
     "metadata": {},
     "output_type": "execute_result"
    }
   ],
   "source": [
    "df1[\"rating\"]"
   ]
  },
  {
   "cell_type": "code",
   "execution_count": 42,
   "metadata": {},
   "outputs": [
    {
     "data": {
      "text/html": [
       "<div>\n",
       "<style scoped>\n",
       "    .dataframe tbody tr th:only-of-type {\n",
       "        vertical-align: middle;\n",
       "    }\n",
       "\n",
       "    .dataframe tbody tr th {\n",
       "        vertical-align: top;\n",
       "    }\n",
       "\n",
       "    .dataframe thead th {\n",
       "        text-align: right;\n",
       "    }\n",
       "</style>\n",
       "<table border=\"1\" class=\"dataframe\">\n",
       "  <thead>\n",
       "    <tr style=\"text-align: right;\">\n",
       "      <th></th>\n",
       "      <th>asin</th>\n",
       "      <th>brand</th>\n",
       "      <th>title</th>\n",
       "      <th>url</th>\n",
       "      <th>image</th>\n",
       "      <th>rating</th>\n",
       "      <th>reviewUrl</th>\n",
       "      <th>totalReviews</th>\n",
       "      <th>prices</th>\n",
       "      <th>rating/review</th>\n",
       "    </tr>\n",
       "  </thead>\n",
       "  <tbody>\n",
       "    <tr>\n",
       "      <td>0</td>\n",
       "      <td>B0000SX2UC</td>\n",
       "      <td>Nokia</td>\n",
       "      <td>Dual-Band / Tri-Mode Sprint PCS Phone w/ Voice...</td>\n",
       "      <td>https://www.amazon.com/Dual-Band-Tri-Mode-Acti...</td>\n",
       "      <td>https://m.media-amazon.com/images/I/2143EBQ210...</td>\n",
       "      <td>3.0</td>\n",
       "      <td>https://www.amazon.com/product-reviews/B0000SX2UC</td>\n",
       "      <td>14</td>\n",
       "      <td>NaN</td>\n",
       "      <td>0.214286</td>\n",
       "    </tr>\n",
       "    <tr>\n",
       "      <td>1</td>\n",
       "      <td>B0009N5L7K</td>\n",
       "      <td>Motorola</td>\n",
       "      <td>Motorola I265 phone</td>\n",
       "      <td>https://www.amazon.com/Motorola-i265-I265-phon...</td>\n",
       "      <td>https://m.media-amazon.com/images/I/419WBAVDAR...</td>\n",
       "      <td>2.9</td>\n",
       "      <td>https://www.amazon.com/product-reviews/B0009N5L7K</td>\n",
       "      <td>7</td>\n",
       "      <td>$49.95</td>\n",
       "      <td>0.414286</td>\n",
       "    </tr>\n",
       "    <tr>\n",
       "      <td>2</td>\n",
       "      <td>B000SKTZ0S</td>\n",
       "      <td>Motorola</td>\n",
       "      <td>MOTOROLA C168i AT&amp;T CINGULAR PREPAID GOPHONE C...</td>\n",
       "      <td>https://www.amazon.com/MOTOROLA-C168i-CINGULAR...</td>\n",
       "      <td>https://m.media-amazon.com/images/I/71b+q3ydkI...</td>\n",
       "      <td>2.6</td>\n",
       "      <td>https://www.amazon.com/product-reviews/B000SKTZ0S</td>\n",
       "      <td>22</td>\n",
       "      <td>NaN</td>\n",
       "      <td>0.118182</td>\n",
       "    </tr>\n",
       "    <tr>\n",
       "      <td>3</td>\n",
       "      <td>B00198M12M</td>\n",
       "      <td>Nokia</td>\n",
       "      <td>Nokia 6500 Slide Black/silver Unlocked Cell Phone</td>\n",
       "      <td>https://www.amazon.com/Nokia-6500-Slide-silver...</td>\n",
       "      <td>https://m.media-amazon.com/images/I/41ss4HpLkL...</td>\n",
       "      <td>2.4</td>\n",
       "      <td>https://www.amazon.com/product-reviews/B00198M12M</td>\n",
       "      <td>5</td>\n",
       "      <td>NaN</td>\n",
       "      <td>0.480000</td>\n",
       "    </tr>\n",
       "    <tr>\n",
       "      <td>4</td>\n",
       "      <td>B001AO4OUC</td>\n",
       "      <td>Motorola</td>\n",
       "      <td>Motorola i335 Cell Phone Boost Mobile</td>\n",
       "      <td>https://www.amazon.com/Motorola-i335-Phone-Boo...</td>\n",
       "      <td>https://m.media-amazon.com/images/I/710UO8gdT+...</td>\n",
       "      <td>3.3</td>\n",
       "      <td>https://www.amazon.com/product-reviews/B001AO4OUC</td>\n",
       "      <td>21</td>\n",
       "      <td>NaN</td>\n",
       "      <td>0.157143</td>\n",
       "    </tr>\n",
       "  </tbody>\n",
       "</table>\n",
       "</div>"
      ],
      "text/plain": [
       "         asin     brand                                              title  \\\n",
       "0  B0000SX2UC     Nokia  Dual-Band / Tri-Mode Sprint PCS Phone w/ Voice...   \n",
       "1  B0009N5L7K  Motorola                                Motorola I265 phone   \n",
       "2  B000SKTZ0S  Motorola  MOTOROLA C168i AT&T CINGULAR PREPAID GOPHONE C...   \n",
       "3  B00198M12M     Nokia  Nokia 6500 Slide Black/silver Unlocked Cell Phone   \n",
       "4  B001AO4OUC  Motorola              Motorola i335 Cell Phone Boost Mobile   \n",
       "\n",
       "                                                 url  \\\n",
       "0  https://www.amazon.com/Dual-Band-Tri-Mode-Acti...   \n",
       "1  https://www.amazon.com/Motorola-i265-I265-phon...   \n",
       "2  https://www.amazon.com/MOTOROLA-C168i-CINGULAR...   \n",
       "3  https://www.amazon.com/Nokia-6500-Slide-silver...   \n",
       "4  https://www.amazon.com/Motorola-i335-Phone-Boo...   \n",
       "\n",
       "                                               image  rating  \\\n",
       "0  https://m.media-amazon.com/images/I/2143EBQ210...     3.0   \n",
       "1  https://m.media-amazon.com/images/I/419WBAVDAR...     2.9   \n",
       "2  https://m.media-amazon.com/images/I/71b+q3ydkI...     2.6   \n",
       "3  https://m.media-amazon.com/images/I/41ss4HpLkL...     2.4   \n",
       "4  https://m.media-amazon.com/images/I/710UO8gdT+...     3.3   \n",
       "\n",
       "                                           reviewUrl  totalReviews  prices  \\\n",
       "0  https://www.amazon.com/product-reviews/B0000SX2UC            14     NaN   \n",
       "1  https://www.amazon.com/product-reviews/B0009N5L7K             7  $49.95   \n",
       "2  https://www.amazon.com/product-reviews/B000SKTZ0S            22     NaN   \n",
       "3  https://www.amazon.com/product-reviews/B00198M12M             5     NaN   \n",
       "4  https://www.amazon.com/product-reviews/B001AO4OUC            21     NaN   \n",
       "\n",
       "   rating/review  \n",
       "0       0.214286  \n",
       "1       0.414286  \n",
       "2       0.118182  \n",
       "3       0.480000  \n",
       "4       0.157143  "
      ]
     },
     "execution_count": 42,
     "metadata": {},
     "output_type": "execute_result"
    }
   ],
   "source": [
    "df.head()"
   ]
  },
  {
   "cell_type": "code",
   "execution_count": 43,
   "metadata": {},
   "outputs": [
    {
     "data": {
      "text/plain": [
       "brand\n",
       "ASUS         38.769231\n",
       "Apple       118.039604\n",
       "Google      122.090909\n",
       "HUAWEI       82.555556\n",
       "Motorola     88.150000\n",
       "Nokia       117.428571\n",
       "OnePlus      80.428571\n",
       "Samsung     104.937028\n",
       "Sony        116.689655\n",
       "Xiaomi      109.185185\n",
       "Name: totalReviews, dtype: float64"
      ]
     },
     "execution_count": 43,
     "metadata": {},
     "output_type": "execute_result"
    }
   ],
   "source": [
    "df1[\"totalReviews\"]"
   ]
  },
  {
   "cell_type": "markdown",
   "metadata": {},
   "source": []
  },
  {
   "cell_type": "code",
   "execution_count": 44,
   "metadata": {},
   "outputs": [
    {
     "name": "stdout",
     "output_type": "stream",
     "text": [
      "hello\n"
     ]
    }
   ],
   "source": [
    "print(\"hello\")"
   ]
  },
  {
   "cell_type": "code",
   "execution_count": 45,
   "metadata": {},
   "outputs": [
    {
     "data": {
      "text/html": [
       "<div>\n",
       "<style scoped>\n",
       "    .dataframe tbody tr th:only-of-type {\n",
       "        vertical-align: middle;\n",
       "    }\n",
       "\n",
       "    .dataframe tbody tr th {\n",
       "        vertical-align: top;\n",
       "    }\n",
       "\n",
       "    .dataframe thead th {\n",
       "        text-align: right;\n",
       "    }\n",
       "</style>\n",
       "<table border=\"1\" class=\"dataframe\">\n",
       "  <thead>\n",
       "    <tr style=\"text-align: right;\">\n",
       "      <th></th>\n",
       "      <th>rating</th>\n",
       "      <th>totalReviews</th>\n",
       "      <th>rating/review</th>\n",
       "    </tr>\n",
       "    <tr>\n",
       "      <th>brand</th>\n",
       "      <th></th>\n",
       "      <th></th>\n",
       "      <th></th>\n",
       "    </tr>\n",
       "  </thead>\n",
       "  <tbody>\n",
       "    <tr>\n",
       "      <td>ASUS</td>\n",
       "      <td>3.776923</td>\n",
       "      <td>38.769231</td>\n",
       "      <td>0.778401</td>\n",
       "    </tr>\n",
       "    <tr>\n",
       "      <td>Apple</td>\n",
       "      <td>3.527723</td>\n",
       "      <td>118.039604</td>\n",
       "      <td>0.444820</td>\n",
       "    </tr>\n",
       "    <tr>\n",
       "      <td>Google</td>\n",
       "      <td>3.763636</td>\n",
       "      <td>122.090909</td>\n",
       "      <td>0.354766</td>\n",
       "    </tr>\n",
       "    <tr>\n",
       "      <td>HUAWEI</td>\n",
       "      <td>4.019444</td>\n",
       "      <td>82.555556</td>\n",
       "      <td>0.755683</td>\n",
       "    </tr>\n",
       "    <tr>\n",
       "      <td>Motorola</td>\n",
       "      <td>3.528000</td>\n",
       "      <td>88.150000</td>\n",
       "      <td>0.571945</td>\n",
       "    </tr>\n",
       "    <tr>\n",
       "      <td>Nokia</td>\n",
       "      <td>3.322449</td>\n",
       "      <td>117.428571</td>\n",
       "      <td>0.233329</td>\n",
       "    </tr>\n",
       "    <tr>\n",
       "      <td>OnePlus</td>\n",
       "      <td>3.342857</td>\n",
       "      <td>80.428571</td>\n",
       "      <td>0.270446</td>\n",
       "    </tr>\n",
       "    <tr>\n",
       "      <td>Samsung</td>\n",
       "      <td>3.573300</td>\n",
       "      <td>104.937028</td>\n",
       "      <td>0.548093</td>\n",
       "    </tr>\n",
       "    <tr>\n",
       "      <td>Sony</td>\n",
       "      <td>3.731034</td>\n",
       "      <td>116.689655</td>\n",
       "      <td>0.625766</td>\n",
       "    </tr>\n",
       "    <tr>\n",
       "      <td>Xiaomi</td>\n",
       "      <td>4.337037</td>\n",
       "      <td>109.185185</td>\n",
       "      <td>0.353336</td>\n",
       "    </tr>\n",
       "  </tbody>\n",
       "</table>\n",
       "</div>"
      ],
      "text/plain": [
       "            rating  totalReviews  rating/review\n",
       "brand                                          \n",
       "ASUS      3.776923     38.769231       0.778401\n",
       "Apple     3.527723    118.039604       0.444820\n",
       "Google    3.763636    122.090909       0.354766\n",
       "HUAWEI    4.019444     82.555556       0.755683\n",
       "Motorola  3.528000     88.150000       0.571945\n",
       "Nokia     3.322449    117.428571       0.233329\n",
       "OnePlus   3.342857     80.428571       0.270446\n",
       "Samsung   3.573300    104.937028       0.548093\n",
       "Sony      3.731034    116.689655       0.625766\n",
       "Xiaomi    4.337037    109.185185       0.353336"
      ]
     },
     "execution_count": 45,
     "metadata": {},
     "output_type": "execute_result"
    }
   ],
   "source": [
    "df1"
   ]
  },
  {
   "cell_type": "code",
   "execution_count": 46,
   "metadata": {},
   "outputs": [
    {
     "data": {
      "text/plain": [
       "Text(0.5, 1.0, 'Brands vs Average Ratings ')"
      ]
     },
     "execution_count": 46,
     "metadata": {},
     "output_type": "execute_result"
    },
    {
     "data": {
      "image/png": "[encoded data removed]",
      "text/plain": [
       "<Figure size 432x288 with 1 Axes>"
      ]
     },
     "metadata": {
      "needs_background": "light"
     },
     "output_type": "display_data"
    }
   ],
   "source": [
    "df1[\"rating\"].plot(kind='bar')\n",
    "plt.xlabel(\"Brands\")\n",
    "plt.ylabel(\"Average Ratings \")\n",
    "plt.title(\"Brands vs Average Ratings \")\n"
   ]
  },
  {
   "cell_type": "code",
   "execution_count": 47,
   "metadata": {},
   "outputs": [
    {
     "data": {
      "text/plain": [
       "Text(0.5, 1.0, 'Brands vs Average Ratings ')"
      ]
     },
     "execution_count": 47,
     "metadata": {},
     "output_type": "execute_result"
    },
    {
     "data": {
      "image/png": "[encoded data removed]",
      "text/plain": [
       "<Figure size 432x288 with 1 Axes>"
      ]
     },
     "metadata": {
      "needs_background": "light"
     },
     "output_type": "display_data"
    }
   ],
   "source": [
    "df1[\"rating\"].plot(kind='line')\n",
    "plt.xlabel(\"Brands\")\n",
    "plt.ylabel(\"Average Ratings \")\n",
    "plt.title(\"Brands vs Average Ratings \")"
   ]
  },
  {
   "cell_type": "code",
   "execution_count": 48,
   "metadata": {},
   "outputs": [
    {
     "data": {
      "text/plain": [
       "Text(0.5, 1.0, 'Average Total Review vs Brands ')"
      ]
     },
     "execution_count": 48,
     "metadata": {},
     "output_type": "execute_result"
    },
    {
     "data": {
      "image/png": "[encoded data removed]",
      "text/plain": [
       "<Figure size 432x288 with 1 Axes>"
      ]
     },
     "metadata": {
      "needs_background": "light"
     },
     "output_type": "display_data"
    }
   ],
   "source": [
    "df1[\"totalReviews\"].plot(kind='line')\n",
    "plt.xlabel(\"Brands\")\n",
    "plt.ylabel(\"Average Total reviews \")\n",
    "plt.title(\"Average Total Review vs Brands \")"
   ]
  },
  {
   "cell_type": "code",
   "execution_count": null,
   "metadata": {},
   "outputs": [],
   "source": []
  },
  {
   "cell_type": "code",
   "execution_count": 49,
   "metadata": {},
   "outputs": [
    {
     "data": {
      "image/png": "[encoded data removed]",
      "text/plain": [
       "<Figure size 432x288 with 1 Axes>"
      ]
     },
     "metadata": {
      "needs_background": "light"
     },
     "output_type": "display_data"
    }
   ],
   "source": [
    "df1[\"rating/review\"].plot(kind='bar')\n",
    "plt.xlabel(\"Brands\")\n",
    "plt.ylabel(\"Average Total rating/review \")\n",
    "plt.title(\"Average Total rating/Review vs Brands \")\n",
    "plt.show()"
   ]
  },
  {
   "cell_type": "code",
   "execution_count": 50,
   "metadata": {},
   "outputs": [
    {
     "data": {
      "image/png": "[encoded data removed]",
      "text/plain": [
       "<Figure size 432x288 with 1 Axes>"
      ]
     },
     "metadata": {
      "needs_background": "light"
     },
     "output_type": "display_data"
    }
   ],
   "source": [
    "df1[\"rating/review\"].plot(kind='line')\n",
    "plt.xlabel(\"Brands\")\n",
    "plt.ylabel(\"Average Total rating/review \")\n",
    "plt.title(\"Average Total rating/Review vs Brands \")\n",
    "plt.show()"
   ]
  },
  {
   "cell_type": "code",
   "execution_count": 51,
   "metadata": {},
   "outputs": [
    {
     "data": {
      "text/plain": [
       "<seaborn.axisgrid.PairGrid at 0x26ba5126cc8>"
      ]
     },
     "execution_count": 51,
     "metadata": {},
     "output_type": "execute_result"
    },
    {
     "data": {
      "image/png": "[encoded data removed]",
      "text/plain": [
       "<Figure size 540x540 with 12 Axes>"
      ]
     },
     "metadata": {
      "needs_background": "light"
     },
     "output_type": "display_data"
    }
   ],
   "source": [
    "sns.pairplot(df)"
   ]
  },
  {
   "cell_type": "code",
   "execution_count": 52,
   "metadata": {},
   "outputs": [
    {
     "data": {
      "text/plain": [
       "<matplotlib.axes._subplots.AxesSubplot at 0x26ba5714348>"
      ]
     },
     "execution_count": 52,
     "metadata": {},
     "output_type": "execute_result"
    },
    {
     "data": {
      "image/png": "[encoded data removed]",
      "text/plain": [
       "<Figure size 432x288 with 2 Axes>"
      ]
     },
     "metadata": {
      "needs_background": "light"
     },
     "output_type": "display_data"
    }
   ],
   "source": [
    "sns.heatmap(df.corr())"
   ]
  },
  {
   "cell_type": "code",
   "execution_count": 55,
   "metadata": {},
   "outputs": [
    {
     "data": {
      "text/plain": [
       "<seaborn.axisgrid.PairGrid at 0x26ba5caf3c8>"
      ]
     },
     "execution_count": 55,
     "metadata": {},
     "output_type": "execute_result"
    },
    {
     "data": {
      "image/png": "[encoded data removed]",
      "text/plain": [
       "<Figure size 540x540 with 12 Axes>"
      ]
     },
     "metadata": {
      "needs_background": "light"
     },
     "output_type": "display_data"
    }
   ],
   "source": [
    "sns.pairplot(df1)"
   ]
  },
  {
   "cell_type": "code",
   "execution_count": 56,
   "metadata": {},
   "outputs": [
    {
     "data": {
      "text/plain": [
       "<matplotlib.axes._subplots.AxesSubplot at 0x26ba73b7f88>"
      ]
     },
     "execution_count": 56,
     "metadata": {},
     "output_type": "execute_result"
    },
    {
     "data": {
      "image/png": "[encoded data removed]",
      "text/plain": [
       "<Figure size 432x288 with 1 Axes>"
      ]
     },
     "metadata": {
      "needs_background": "light"
     },
     "output_type": "display_data"
    }
   ],
   "source": [
    "sns.heatmap(df.isnull(), yticklabels=False, cbar=False, cmap='viridis')"
   ]
  },
  {
   "cell_type": "code",
   "execution_count": null,
   "metadata": {},
   "outputs": [],
   "source": []
  },
  {
   "cell_type": "code",
   "execution_count": null,
   "metadata": {},
   "outputs": [],
   "source": []
  },
  {
   "cell_type": "code",
   "execution_count": null,
   "metadata": {},
   "outputs": [],
   "source": []
  },
  {
   "cell_type": "code",
   "execution_count": null,
   "metadata": {},
   "outputs": [],
   "source": []
  }
 ],
 "metadata": {
  "kernelspec": {
   "display_name": "Python 3",
   "language": "python",
   "name": "python3"
  },
  "language_info": {
   "codemirror_mode": {
    "name": "ipython",
    "version": 3
   },
   "file_extension": ".py",
   "mimetype": "text/x-python",
   "name": "python",
   "nbconvert_exporter": "python",
   "pygments_lexer": "ipython3",
   "version": "3.7.4"
  }
 },
 "nbformat": 4,
 "nbformat_minor": 2
}
